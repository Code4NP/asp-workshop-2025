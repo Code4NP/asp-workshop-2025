{
 "cells": [
  {
   "cell_type": "code",
   "execution_count": null,
   "id": "2292eb7a",
   "metadata": {},
   "outputs": [],
   "source": [
    "# https://www.ncbi.nlm.nih.gov/biosample/SAMN36419051/\n",
    "# https://www.ncbi.nlm.nih.gov/datasets/docs/v2/api/rest-api/\n",
    "# https://www.ncbi.nlm.nih.gov/datasets/docs/v2/api/api-keys/#get-your-api-key\n",
    "\n",
    "import os\n",
    "import requests\n",
    "from rich import inspect\n",
    "from dotenv import load_dotenv\n",
    "\n",
    "dotenv_path = \"/home/chase/asp_workshop_keys\"\n",
    "load_dotenv(dotenv_path=dotenv_path)\n",
    "\n",
    "NCBI_KEY = os.getenv(\"NCBI_KEY\", \"your_key_here\")  "
   ]
  },
  {
   "cell_type": "code",
   "execution_count": 43,
   "id": "0ecfedae",
   "metadata": {},
   "outputs": [],
   "source": [
    "class Organism:\n",
    "    def __init__(self, genome_id):\n",
    "        self.id = genome_id\n",
    "        self.data = self._get_data()\n",
    "    def _get_data(self):\n",
    "        url = f\"https://api.ncbi.nlm.nih.gov/datasets/v2/genome/accession/{self.id}/dataset_report\"\n",
    "        try:\n",
    "            response = requests.get(url, headers={'accept': 'application/json', \"api-key\": NCBI_KEY})\n",
    "            response.raise_for_status()\n",
    "            return response.json()\n",
    "        except requests.RequestException as e:\n",
    "            print(f\"Error fetching data from NCBI: {e}\")\n",
    "    def what_am_i(self):\n",
    "        print(f'I am a: \"{self.data['reports'][0]['organism']['common_name']}\"')\n"
   ]
  },
  {
   "cell_type": "code",
   "execution_count": 44,
   "id": "32338f3e",
   "metadata": {},
   "outputs": [
    {
     "name": "stdout",
     "output_type": "stream",
     "text": [
      "I am a: \"house mouse\"\n"
     ]
    }
   ],
   "source": [
    "a=Organism(genome_id = \"GCF_000001635\")\n",
    "a.what_am_i()"
   ]
  },
  {
   "cell_type": "code",
   "execution_count": 45,
   "id": "d96bd871",
   "metadata": {},
   "outputs": [
    {
     "data": {
      "text/plain": [
       "{'reports': [{'accession': 'GCF_000001635.27',\n",
       "   'current_accession': 'GCF_000001635.27',\n",
       "   'paired_accession': 'GCA_000001635.9',\n",
       "   'source_database': 'SOURCE_DATABASE_REFSEQ',\n",
       "   'organism': {'tax_id': 10090,\n",
       "    'organism_name': 'Mus musculus',\n",
       "    'common_name': 'house mouse',\n",
       "    'infraspecific_names': {'strain': 'C57BL/6J'}},\n",
       "   'assembly_info': {'assembly_level': 'Chromosome',\n",
       "    'assembly_status': 'current',\n",
       "    'paired_assembly': {'accession': 'GCA_000001635.9', 'status': 'current'},\n",
       "    'assembly_name': 'GRCm39',\n",
       "    'assembly_type': 'haploid',\n",
       "    'bioproject_lineage': [{'bioprojects': [{'accession': 'PRJNA20689',\n",
       "        'title': 'Genome sequence finishing for Mus musculus, currently maintained by the Genome Reference Consortium (GRC)'}]}],\n",
       "    'bioproject_accession': 'PRJNA20689',\n",
       "    'release_date': '2020-06-24',\n",
       "    'description': 'Genome Reference Consortium Mouse Build 39',\n",
       "    'submitter': 'Genome Reference Consortium',\n",
       "    'refseq_category': 'reference genome',\n",
       "    'synonym': 'mm39',\n",
       "    'blast_url': 'https://blast.ncbi.nlm.nih.gov/Blast.cgi?PAGE_TYPE=BlastSearch&PROG_DEF=blastn&BLAST_SPEC=GDH_GCF_000001635.27'},\n",
       "   'assembly_stats': {'total_number_of_chromosomes': 21,\n",
       "    'total_sequence_length': '2728206152',\n",
       "    'total_ungapped_length': '2654605538',\n",
       "    'number_of_contigs': 305,\n",
       "    'contig_n50': 59462871,\n",
       "    'contig_l50': 15,\n",
       "    'number_of_scaffolds': 101,\n",
       "    'scaffold_n50': 106145001,\n",
       "    'scaffold_l50': 11,\n",
       "    'gaps_between_scaffolds_count': 143,\n",
       "    'number_of_component_sequences': 21254,\n",
       "    'atgc_count': '3765774759',\n",
       "    'gc_count': '1573609204',\n",
       "    'gc_percent': 42,\n",
       "    'number_of_organelles': 1},\n",
       "   'organelle_info': [{'description': 'Mitochondrion',\n",
       "     'total_seq_length': '16299',\n",
       "     'submitter': 'Genome Reference Consortium'}],\n",
       "   'annotation_info': {'name': 'GCF_000001635.27-RS_2024_02',\n",
       "    'provider': 'NCBI RefSeq',\n",
       "    'release_date': '2024-02-01',\n",
       "    'report_url': 'https://www.ncbi.nlm.nih.gov/genome/annotation_euk/Mus_musculus/GCF_000001635.27-RS_2024_02.html',\n",
       "    'stats': {'gene_counts': {'total': 50763,\n",
       "      'protein_coding': 22198,\n",
       "      'non_coding': 17705,\n",
       "      'pseudogene': 10363,\n",
       "      'other': 497}},\n",
       "    'busco': {'busco_lineage': 'glires_odb10',\n",
       "     'busco_ver': '4.1.4',\n",
       "     'complete': 0.9946369,\n",
       "     'single_copy': 0.98594,\n",
       "     'duplicated': 0.008696913,\n",
       "     'fragmented': 0.001594434,\n",
       "     'missing': 0.0037686622,\n",
       "     'total_count': '13798'},\n",
       "    'method': 'Best-placed RefSeq; Gnomon; RefSeqFE; cmsearch; tRNAscan-SE',\n",
       "    'pipeline': 'NCBI eukaryotic genome annotation pipeline',\n",
       "    'software_version': '10.2',\n",
       "    'status': 'Updated annotation'}}],\n",
       " 'total_count': 1}"
      ]
     },
     "execution_count": 45,
     "metadata": {},
     "output_type": "execute_result"
    }
   ],
   "source": [
    "a.data"
   ]
  },
  {
   "cell_type": "code",
   "execution_count": 37,
   "id": "5c3eedf9",
   "metadata": {
    "tags": [
     "raises-exception"
    ]
   },
   "outputs": [
    {
     "ename": "KeyError",
     "evalue": "'common_name'",
     "output_type": "error",
     "traceback": [
      "\u001b[0;31m---------------------------------------------------------------------------\u001b[0m",
      "\u001b[0;31mKeyError\u001b[0m                                  Traceback (most recent call last)",
      "Cell \u001b[0;32mIn[37], line 2\u001b[0m\n\u001b[1;32m      1\u001b[0m a\u001b[38;5;241m=\u001b[39mOrganism(\u001b[38;5;124m\"\u001b[39m\u001b[38;5;124mGCF_038242915\u001b[39m\u001b[38;5;124m\"\u001b[39m)\n\u001b[0;32m----> 2\u001b[0m \u001b[43ma\u001b[49m\u001b[38;5;241;43m.\u001b[39;49m\u001b[43mwhat_am_i\u001b[49m\u001b[43m(\u001b[49m\u001b[43m)\u001b[49m\n",
      "Cell \u001b[0;32mIn[35], line 10\u001b[0m, in \u001b[0;36mOrganism.what_am_i\u001b[0;34m(self)\u001b[0m\n\u001b[1;32m      8\u001b[0m     response\u001b[38;5;241m.\u001b[39mraise_for_status()\n\u001b[1;32m      9\u001b[0m     data \u001b[38;5;241m=\u001b[39m response\u001b[38;5;241m.\u001b[39mjson()\n\u001b[0;32m---> 10\u001b[0m     \u001b[38;5;28mprint\u001b[39m(\u001b[38;5;124mf\u001b[39m\u001b[38;5;124m'\u001b[39m\u001b[38;5;124mI am a: \u001b[39m\u001b[38;5;124m\"\u001b[39m\u001b[38;5;132;01m{\u001b[39;00m\u001b[43mdata\u001b[49m\u001b[43m[\u001b[49m\u001b[38;5;124;43m'\u001b[39;49m\u001b[38;5;124;43mreports\u001b[39;49m\u001b[38;5;124;43m'\u001b[39;49m\u001b[43m]\u001b[49m\u001b[43m[\u001b[49m\u001b[38;5;241;43m0\u001b[39;49m\u001b[43m]\u001b[49m\u001b[43m[\u001b[49m\u001b[38;5;124;43m'\u001b[39;49m\u001b[38;5;124;43morganism\u001b[39;49m\u001b[38;5;124;43m'\u001b[39;49m\u001b[43m]\u001b[49m\u001b[43m[\u001b[49m\u001b[38;5;124;43m'\u001b[39;49m\u001b[38;5;124;43mcommon_name\u001b[39;49m\u001b[38;5;124;43m'\u001b[39;49m\u001b[43m]\u001b[49m\u001b[38;5;132;01m}\u001b[39;00m\u001b[38;5;124m\"\u001b[39m\u001b[38;5;124m'\u001b[39m)\n\u001b[1;32m     11\u001b[0m \u001b[38;5;28;01mexcept\u001b[39;00m requests\u001b[38;5;241m.\u001b[39mRequestException \u001b[38;5;28;01mas\u001b[39;00m e:\n\u001b[1;32m     12\u001b[0m     \u001b[38;5;28mprint\u001b[39m(\u001b[38;5;124mf\u001b[39m\u001b[38;5;124m\"\u001b[39m\u001b[38;5;124mError fetching data from NCBI: \u001b[39m\u001b[38;5;132;01m{\u001b[39;00me\u001b[38;5;132;01m}\u001b[39;00m\u001b[38;5;124m\"\u001b[39m)\n",
      "\u001b[0;31mKeyError\u001b[0m: 'common_name'"
     ]
    }
   ],
   "source": [
    "a=Organism(\"GCF_038242915\")\n",
    "a.what_am_i()"
   ]
  },
  {
   "cell_type": "markdown",
   "id": "e3250480",
   "metadata": {},
   "source": [
    "######## 2 ########\n"
   ]
  },
  {
   "cell_type": "code",
   "execution_count": 38,
   "id": "3b4400a1",
   "metadata": {},
   "outputs": [],
   "source": [
    "class Organism:\n",
    "    def __init__(self, genome_id):\n",
    "        self.id = genome_id\n",
    "    def what_am_i(self):\n",
    "        url = f\"https://api.ncbi.nlm.nih.gov/datasets/v2/genome/accession/{self.id}/dataset_report\"\n",
    "        try:\n",
    "            response = requests.get(url, headers={'accept': 'application/json', \"api-key\": NCBI_KEY})\n",
    "            response.raise_for_status()\n",
    "            data = response.json()\n",
    "            if 'common_name' in data['reports'][0]['organism']:\n",
    "                print(f\"I am a: {data['reports'][0]['organism']['common_name']}\")\n",
    "            elif 'organism_name' in data['reports'][0]['organism']:\n",
    "                print(f\"🤓 I am a: {data['reports'][0]['organism']['organism_name']}\")\n",
    "            else:\n",
    "                print(\"I don't know\")\n",
    "        except requests.RequestException as e:\n",
    "            print(f\"Error fetching data from NCBI: {e}\")"
   ]
  },
  {
   "cell_type": "code",
   "execution_count": 39,
   "id": "d78bf800",
   "metadata": {},
   "outputs": [
    {
     "name": "stdout",
     "output_type": "stream",
     "text": [
      "I am a: house mouse\n"
     ]
    }
   ],
   "source": [
    "a=Organism(\"GCF_000001635\")\n",
    "a.what_am_i()"
   ]
  },
  {
   "cell_type": "code",
   "execution_count": 42,
   "id": "221711bd",
   "metadata": {},
   "outputs": [
    {
     "ename": "KeyError",
     "evalue": "'reports'",
     "output_type": "error",
     "traceback": [
      "\u001b[0;31m---------------------------------------------------------------------------\u001b[0m",
      "\u001b[0;31mKeyError\u001b[0m                                  Traceback (most recent call last)",
      "Cell \u001b[0;32mIn[42], line 2\u001b[0m\n\u001b[1;32m      1\u001b[0m a\u001b[38;5;241m=\u001b[39mOrganism(\u001b[38;5;124m\"\u001b[39m\u001b[38;5;124mGCFs_038242915\u001b[39m\u001b[38;5;124m\"\u001b[39m)\n\u001b[0;32m----> 2\u001b[0m \u001b[43ma\u001b[49m\u001b[38;5;241;43m.\u001b[39;49m\u001b[43mwhat_am_i\u001b[49m\u001b[43m(\u001b[49m\u001b[43m)\u001b[49m\n",
      "Cell \u001b[0;32mIn[38], line 10\u001b[0m, in \u001b[0;36mOrganism.what_am_i\u001b[0;34m(self)\u001b[0m\n\u001b[1;32m      8\u001b[0m response\u001b[38;5;241m.\u001b[39mraise_for_status()\n\u001b[1;32m      9\u001b[0m data \u001b[38;5;241m=\u001b[39m response\u001b[38;5;241m.\u001b[39mjson()\n\u001b[0;32m---> 10\u001b[0m \u001b[38;5;28;01mif\u001b[39;00m \u001b[38;5;124m'\u001b[39m\u001b[38;5;124mcommon_name\u001b[39m\u001b[38;5;124m'\u001b[39m \u001b[38;5;129;01min\u001b[39;00m \u001b[43mdata\u001b[49m\u001b[43m[\u001b[49m\u001b[38;5;124;43m'\u001b[39;49m\u001b[38;5;124;43mreports\u001b[39;49m\u001b[38;5;124;43m'\u001b[39;49m\u001b[43m]\u001b[49m[\u001b[38;5;241m0\u001b[39m][\u001b[38;5;124m'\u001b[39m\u001b[38;5;124morganism\u001b[39m\u001b[38;5;124m'\u001b[39m]:\n\u001b[1;32m     11\u001b[0m     \u001b[38;5;28mprint\u001b[39m(\u001b[38;5;124mf\u001b[39m\u001b[38;5;124m\"\u001b[39m\u001b[38;5;124mI am a: \u001b[39m\u001b[38;5;132;01m{\u001b[39;00mdata[\u001b[38;5;124m'\u001b[39m\u001b[38;5;124mreports\u001b[39m\u001b[38;5;124m'\u001b[39m][\u001b[38;5;241m0\u001b[39m][\u001b[38;5;124m'\u001b[39m\u001b[38;5;124morganism\u001b[39m\u001b[38;5;124m'\u001b[39m][\u001b[38;5;124m'\u001b[39m\u001b[38;5;124mcommon_name\u001b[39m\u001b[38;5;124m'\u001b[39m]\u001b[38;5;132;01m}\u001b[39;00m\u001b[38;5;124m\"\u001b[39m)\n\u001b[1;32m     12\u001b[0m \u001b[38;5;28;01melif\u001b[39;00m \u001b[38;5;124m'\u001b[39m\u001b[38;5;124morganism_name\u001b[39m\u001b[38;5;124m'\u001b[39m \u001b[38;5;129;01min\u001b[39;00m data[\u001b[38;5;124m'\u001b[39m\u001b[38;5;124mreports\u001b[39m\u001b[38;5;124m'\u001b[39m][\u001b[38;5;241m0\u001b[39m][\u001b[38;5;124m'\u001b[39m\u001b[38;5;124morganism\u001b[39m\u001b[38;5;124m'\u001b[39m]:\n",
      "\u001b[0;31mKeyError\u001b[0m: 'reports'"
     ]
    }
   ],
   "source": [
    "a=Organism(\"GCF_038242915\")\n",
    "a.what_am_i()"
   ]
  },
  {
   "cell_type": "markdown",
   "id": "3bd9992c",
   "metadata": {},
   "source": [
    "######## 3 ########"
   ]
  },
  {
   "cell_type": "code",
   "execution_count": null,
   "id": "9fa8338f",
   "metadata": {},
   "outputs": [],
   "source": [
    "class Organism:\n",
    "    def __init__(self, genome_id):\n",
    "        self.id = genome_id\n",
    "    @staticmethod\n",
    "    def _extract_taxid(data):\n",
    "        try:\n",
    "            return data['reports'][0]['organism']['tax_id']\n",
    "        except (KeyError, IndexError):\n",
    "            return None\n",
    "    @staticmethod\n",
    "    def _extract_assembly_name(data):\n",
    "        try:\n",
    "            return data['reports'][0]['assembly_info']['assembly_name']\n",
    "        except (KeyError, IndexError):\n",
    "            return None\n",
    "    def set_info(self):\n",
    "        url = f\"https://api.ncbi.nlm.nih.gov/datasets/v2/genome/accession/{self.id}/dataset_report\"\n",
    "        try:\n",
    "            response = requests.get(url, headers={'accept': 'application/json', \"api-key\": NCBI_KEY})\n",
    "            response.raise_for_status()\n",
    "        except requests.RequestException as e:\n",
    "            print(f\"Error fetching data from NCBI: {e}\")\n",
    "        # assign taxid\n",
    "        self.taxid = self._extract_taxid(response.json())\n",
    "        # assign assembly_name\n",
    "        self.assembly_name = self._extract_assembly_name(response.json())"
   ]
  },
  {
   "cell_type": "code",
   "execution_count": null,
   "id": "7b168e67",
   "metadata": {},
   "outputs": [],
   "source": [
    "a = Organism(\"GCF_000001635.27\")"
   ]
  },
  {
   "cell_type": "code",
   "execution_count": null,
   "id": "b757113d",
   "metadata": {
    "tags": [
     "raises-exception"
    ]
   },
   "outputs": [
    {
     "ename": "AttributeError",
     "evalue": "'Organism' object has no attribute 'taxid'",
     "output_type": "error",
     "traceback": [
      "\u001b[0;31m---------------------------------------------------------------------------\u001b[0m",
      "\u001b[0;31mAttributeError\u001b[0m                            Traceback (most recent call last)",
      "Cell \u001b[0;32mIn[19], line 1\u001b[0m\n\u001b[0;32m----> 1\u001b[0m \u001b[43ma\u001b[49m\u001b[38;5;241;43m.\u001b[39;49m\u001b[43mtaxid\u001b[49m\n",
      "\u001b[0;31mAttributeError\u001b[0m: 'Organism' object has no attribute 'taxid'"
     ]
    }
   ],
   "source": [
    "a.taxid\n"
   ]
  },
  {
   "cell_type": "code",
   "execution_count": null,
   "id": "2d67568b",
   "metadata": {
    "tags": [
     "raises-exception"
    ]
   },
   "outputs": [
    {
     "ename": "AttributeError",
     "evalue": "'Organism' object has no attribute 'assembly_name'",
     "output_type": "error",
     "traceback": [
      "\u001b[0;31m---------------------------------------------------------------------------\u001b[0m",
      "\u001b[0;31mAttributeError\u001b[0m                            Traceback (most recent call last)",
      "Cell \u001b[0;32mIn[20], line 1\u001b[0m\n\u001b[0;32m----> 1\u001b[0m \u001b[43ma\u001b[49m\u001b[38;5;241;43m.\u001b[39;49m\u001b[43massembly_name\u001b[49m\n",
      "\u001b[0;31mAttributeError\u001b[0m: 'Organism' object has no attribute 'assembly_name'"
     ]
    }
   ],
   "source": [
    "a.assembly_name"
   ]
  },
  {
   "cell_type": "code",
   "execution_count": null,
   "id": "cffe52be",
   "metadata": {},
   "outputs": [
    {
     "data": {
      "text/plain": [
       "'GRCm39'"
      ]
     },
     "execution_count": 21,
     "metadata": {},
     "output_type": "execute_result"
    }
   ],
   "source": [
    "a.set_info()\n",
    "a.taxid\n",
    "a.assembly_name"
   ]
  },
  {
   "cell_type": "markdown",
   "id": "a16f5071",
   "metadata": {},
   "source": [
    "######## 4 ########"
   ]
  },
  {
   "cell_type": "code",
   "execution_count": null,
   "id": "d6058cac",
   "metadata": {},
   "outputs": [],
   "source": [
    "class Organism:\n",
    "    __slots__ = ['id', 'BLAST_LINK', 'GDV_LINK', 'FTP_LINK', 'ASSEMBLY_PUBMED', 'ASSEMBLY_NUCCORE', 'ASSEMBLY_NUCCORE_REFSEQ', 'ASSEMBLY_NUCCORE_GENBANK', 'CGV_LINK']\n",
    "    def __init__(self, genome_id):\n",
    "        self.id = genome_id\n",
    "        self.get_outlinks()\n",
    "    def get_outlinks(self):\n",
    "        \"\"\"Fetches assembly links from NCBI and assigns them to the instance attributes.\"\"\"\n",
    "        url = f\"https://api.ncbi.nlm.nih.gov/datasets/v2/genome/accession/{self.id}/links\"\n",
    "        try:\n",
    "            response = requests.get(url, headers={'accept': 'application/json', \"api-key\": NCBI_KEY})\n",
    "            response.raise_for_status()\n",
    "            data = response.json()\n",
    "            for i in data['assembly_links']:\n",
    "                try:\n",
    "                    link_type = i['assembly_link_type']\n",
    "                    if link_type in self.__slots__:\n",
    "                        setattr(self, link_type, i['resource_link'])\n",
    "                except KeyError as e:\n",
    "                    print(f\"Missing key in assembly link data: {e}\")\n",
    "        except requests.RequestException as e:\n",
    "            print(f\"Error fetching data from NCBI: {e}\")"
   ]
  },
  {
   "cell_type": "code",
   "execution_count": null,
   "id": "7ecf3895",
   "metadata": {},
   "outputs": [],
   "source": [
    "a = Organism(\"GCF_000001635.27\")"
   ]
  },
  {
   "cell_type": "code",
   "execution_count": null,
   "id": "6bae004c",
   "metadata": {},
   "outputs": [
    {
     "data": {
      "text/html": [
       "<pre style=\"white-space:pre;overflow-x:auto;line-height:normal;font-family:Menlo,'DejaVu Sans Mono',consolas,'Courier New',monospace\"><span style=\"color: #000080; text-decoration-color: #000080\">╭────────────────────────────────────────── </span><span style=\"color: #000080; text-decoration-color: #000080; font-weight: bold\">&lt;</span><span style=\"color: #ff00ff; text-decoration-color: #ff00ff; font-weight: bold\">class</span><span style=\"color: #000000; text-decoration-color: #000000\"> </span><span style=\"color: #008000; text-decoration-color: #008000\">'__main__.Organism'</span><span style=\"color: #000080; text-decoration-color: #000080; font-weight: bold\">&gt;</span><span style=\"color: #000080; text-decoration-color: #000080\"> ──────────────────────────────────────────╮</span>\n",
       "<span style=\"color: #000080; text-decoration-color: #000080\">│</span> <span style=\"color: #00ffff; text-decoration-color: #00ffff; font-style: italic\">class </span><span style=\"color: #800000; text-decoration-color: #800000; font-weight: bold\">Organism</span><span style=\"font-weight: bold\">(</span>genome_id<span style=\"font-weight: bold\">)</span>:                                                                                      <span style=\"color: #000080; text-decoration-color: #000080\">│</span>\n",
       "<span style=\"color: #000080; text-decoration-color: #000080\">│</span>                                                                                                                 <span style=\"color: #000080; text-decoration-color: #000080\">│</span>\n",
       "<span style=\"color: #000080; text-decoration-color: #000080\">│</span>         <span style=\"color: #808000; text-decoration-color: #808000; font-style: italic\">ASSEMBLY_NUCCORE</span> = <span style=\"font-weight: bold\">&lt;</span><span style=\"color: #ff00ff; text-decoration-color: #ff00ff; font-weight: bold\">member</span><span style=\"color: #000000; text-decoration-color: #000000\"> </span><span style=\"color: #008000; text-decoration-color: #008000\">'ASSEMBLY_NUCCORE'</span><span style=\"color: #000000; text-decoration-color: #000000\"> of </span><span style=\"color: #008000; text-decoration-color: #008000\">'Organism'</span><span style=\"color: #000000; text-decoration-color: #000000\"> objects</span><span style=\"font-weight: bold\">&gt;</span>                                    <span style=\"color: #000080; text-decoration-color: #000080\">│</span>\n",
       "<span style=\"color: #000080; text-decoration-color: #000080\">│</span> <span style=\"color: #808000; text-decoration-color: #808000; font-style: italic\">ASSEMBLY_NUCCORE_GENBANK</span> = <span style=\"font-weight: bold\">&lt;</span><span style=\"color: #ff00ff; text-decoration-color: #ff00ff; font-weight: bold\">member</span><span style=\"color: #000000; text-decoration-color: #000000\"> </span><span style=\"color: #008000; text-decoration-color: #008000\">'ASSEMBLY_NUCCORE_GENBANK'</span><span style=\"color: #000000; text-decoration-color: #000000\"> of </span><span style=\"color: #008000; text-decoration-color: #008000\">'Organism'</span><span style=\"color: #000000; text-decoration-color: #000000\"> objects</span><span style=\"font-weight: bold\">&gt;</span>                            <span style=\"color: #000080; text-decoration-color: #000080\">│</span>\n",
       "<span style=\"color: #000080; text-decoration-color: #000080\">│</span>  <span style=\"color: #808000; text-decoration-color: #808000; font-style: italic\">ASSEMBLY_NUCCORE_REFSEQ</span> = <span style=\"font-weight: bold\">&lt;</span><span style=\"color: #ff00ff; text-decoration-color: #ff00ff; font-weight: bold\">member</span><span style=\"color: #000000; text-decoration-color: #000000\"> </span><span style=\"color: #008000; text-decoration-color: #008000\">'ASSEMBLY_NUCCORE_REFSEQ'</span><span style=\"color: #000000; text-decoration-color: #000000\"> of </span><span style=\"color: #008000; text-decoration-color: #008000\">'Organism'</span><span style=\"color: #000000; text-decoration-color: #000000\"> objects</span><span style=\"font-weight: bold\">&gt;</span>                             <span style=\"color: #000080; text-decoration-color: #000080\">│</span>\n",
       "<span style=\"color: #000080; text-decoration-color: #000080\">│</span>          <span style=\"color: #808000; text-decoration-color: #808000; font-style: italic\">ASSEMBLY_PUBMED</span> = <span style=\"font-weight: bold\">&lt;</span><span style=\"color: #ff00ff; text-decoration-color: #ff00ff; font-weight: bold\">member</span><span style=\"color: #000000; text-decoration-color: #000000\"> </span><span style=\"color: #008000; text-decoration-color: #008000\">'ASSEMBLY_PUBMED'</span><span style=\"color: #000000; text-decoration-color: #000000\"> of </span><span style=\"color: #008000; text-decoration-color: #008000\">'Organism'</span><span style=\"color: #000000; text-decoration-color: #000000\"> objects</span><span style=\"font-weight: bold\">&gt;</span>                                     <span style=\"color: #000080; text-decoration-color: #000080\">│</span>\n",
       "<span style=\"color: #000080; text-decoration-color: #000080\">│</span>               <span style=\"color: #808000; text-decoration-color: #808000; font-style: italic\">BLAST_LINK</span> = <span style=\"font-weight: bold\">&lt;</span><span style=\"color: #ff00ff; text-decoration-color: #ff00ff; font-weight: bold\">member</span><span style=\"color: #000000; text-decoration-color: #000000\"> </span><span style=\"color: #008000; text-decoration-color: #008000\">'BLAST_LINK'</span><span style=\"color: #000000; text-decoration-color: #000000\"> of </span><span style=\"color: #008000; text-decoration-color: #008000\">'Organism'</span><span style=\"color: #000000; text-decoration-color: #000000\"> objects</span><span style=\"font-weight: bold\">&gt;</span>                                          <span style=\"color: #000080; text-decoration-color: #000080\">│</span>\n",
       "<span style=\"color: #000080; text-decoration-color: #000080\">│</span>                 <span style=\"color: #808000; text-decoration-color: #808000; font-style: italic\">CGV_LINK</span> = <span style=\"font-weight: bold\">&lt;</span><span style=\"color: #ff00ff; text-decoration-color: #ff00ff; font-weight: bold\">member</span><span style=\"color: #000000; text-decoration-color: #000000\"> </span><span style=\"color: #008000; text-decoration-color: #008000\">'CGV_LINK'</span><span style=\"color: #000000; text-decoration-color: #000000\"> of </span><span style=\"color: #008000; text-decoration-color: #008000\">'Organism'</span><span style=\"color: #000000; text-decoration-color: #000000\"> objects</span><span style=\"font-weight: bold\">&gt;</span>                                            <span style=\"color: #000080; text-decoration-color: #000080\">│</span>\n",
       "<span style=\"color: #000080; text-decoration-color: #000080\">│</span>                 <span style=\"color: #808000; text-decoration-color: #808000; font-style: italic\">FTP_LINK</span> = <span style=\"font-weight: bold\">&lt;</span><span style=\"color: #ff00ff; text-decoration-color: #ff00ff; font-weight: bold\">member</span><span style=\"color: #000000; text-decoration-color: #000000\"> </span><span style=\"color: #008000; text-decoration-color: #008000\">'FTP_LINK'</span><span style=\"color: #000000; text-decoration-color: #000000\"> of </span><span style=\"color: #008000; text-decoration-color: #008000\">'Organism'</span><span style=\"color: #000000; text-decoration-color: #000000\"> objects</span><span style=\"font-weight: bold\">&gt;</span>                                            <span style=\"color: #000080; text-decoration-color: #000080\">│</span>\n",
       "<span style=\"color: #000080; text-decoration-color: #000080\">│</span>                 <span style=\"color: #808000; text-decoration-color: #808000; font-style: italic\">GDV_LINK</span> = <span style=\"font-weight: bold\">&lt;</span><span style=\"color: #ff00ff; text-decoration-color: #ff00ff; font-weight: bold\">member</span><span style=\"color: #000000; text-decoration-color: #000000\"> </span><span style=\"color: #008000; text-decoration-color: #008000\">'GDV_LINK'</span><span style=\"color: #000000; text-decoration-color: #000000\"> of </span><span style=\"color: #008000; text-decoration-color: #008000\">'Organism'</span><span style=\"color: #000000; text-decoration-color: #000000\"> objects</span><span style=\"font-weight: bold\">&gt;</span>                                            <span style=\"color: #000080; text-decoration-color: #000080\">│</span>\n",
       "<span style=\"color: #000080; text-decoration-color: #000080\">│</span>                       <span style=\"color: #808000; text-decoration-color: #808000; font-style: italic\">id</span> = <span style=\"font-weight: bold\">&lt;</span><span style=\"color: #ff00ff; text-decoration-color: #ff00ff; font-weight: bold\">member</span><span style=\"color: #000000; text-decoration-color: #000000\"> </span><span style=\"color: #008000; text-decoration-color: #008000\">'id'</span><span style=\"color: #000000; text-decoration-color: #000000\"> of </span><span style=\"color: #008000; text-decoration-color: #008000\">'Organism'</span><span style=\"color: #000000; text-decoration-color: #000000\"> objects</span><span style=\"font-weight: bold\">&gt;</span>                                                  <span style=\"color: #000080; text-decoration-color: #000080\">│</span>\n",
       "<span style=\"color: #000080; text-decoration-color: #000080\">│</span>             <span style=\"color: #808000; text-decoration-color: #808000; font-style: italic\">get_outlinks</span> = <span style=\"color: #00ffff; text-decoration-color: #00ffff; font-style: italic\">def </span><span style=\"color: #800000; text-decoration-color: #800000; font-weight: bold\">get_outlinks</span><span style=\"font-weight: bold\">(</span>self<span style=\"font-weight: bold\">)</span>: <span style=\"color: #7f7f7f; text-decoration-color: #7f7f7f\">Fetches assembly links from NCBI and assigns them to the </span>    <span style=\"color: #000080; text-decoration-color: #000080\">│</span>\n",
       "<span style=\"color: #000080; text-decoration-color: #000080\">│</span>                            <span style=\"color: #7f7f7f; text-decoration-color: #7f7f7f\">instance attributes.</span>                                                                 <span style=\"color: #000080; text-decoration-color: #000080\">│</span>\n",
       "<span style=\"color: #000080; text-decoration-color: #000080\">╰─────────────────────────────────────────────────────────────────────────────────────────────────────────────────╯</span>\n",
       "</pre>\n"
      ],
      "text/plain": [
       "\u001b[34m╭─\u001b[0m\u001b[34m─────────────────────────────────────────\u001b[0m\u001b[34m \u001b[0m\u001b[1;34m<\u001b[0m\u001b[1;95mclass\u001b[0m\u001b[39m \u001b[0m\u001b[32m'__main__.Organism'\u001b[0m\u001b[1;34m>\u001b[0m\u001b[34m \u001b[0m\u001b[34m─────────────────────────────────────────\u001b[0m\u001b[34m─╮\u001b[0m\n",
       "\u001b[34m│\u001b[0m \u001b[3;96mclass \u001b[0m\u001b[1;31mOrganism\u001b[0m\u001b[1m(\u001b[0mgenome_id\u001b[1m)\u001b[0m:                                                                                      \u001b[34m│\u001b[0m\n",
       "\u001b[34m│\u001b[0m                                                                                                                 \u001b[34m│\u001b[0m\n",
       "\u001b[34m│\u001b[0m         \u001b[3;33mASSEMBLY_NUCCORE\u001b[0m = \u001b[1m<\u001b[0m\u001b[1;95mmember\u001b[0m\u001b[39m \u001b[0m\u001b[32m'ASSEMBLY_NUCCORE'\u001b[0m\u001b[39m of \u001b[0m\u001b[32m'Organism'\u001b[0m\u001b[39m objects\u001b[0m\u001b[1m>\u001b[0m                                    \u001b[34m│\u001b[0m\n",
       "\u001b[34m│\u001b[0m \u001b[3;33mASSEMBLY_NUCCORE_GENBANK\u001b[0m = \u001b[1m<\u001b[0m\u001b[1;95mmember\u001b[0m\u001b[39m \u001b[0m\u001b[32m'ASSEMBLY_NUCCORE_GENBANK'\u001b[0m\u001b[39m of \u001b[0m\u001b[32m'Organism'\u001b[0m\u001b[39m objects\u001b[0m\u001b[1m>\u001b[0m                            \u001b[34m│\u001b[0m\n",
       "\u001b[34m│\u001b[0m  \u001b[3;33mASSEMBLY_NUCCORE_REFSEQ\u001b[0m = \u001b[1m<\u001b[0m\u001b[1;95mmember\u001b[0m\u001b[39m \u001b[0m\u001b[32m'ASSEMBLY_NUCCORE_REFSEQ'\u001b[0m\u001b[39m of \u001b[0m\u001b[32m'Organism'\u001b[0m\u001b[39m objects\u001b[0m\u001b[1m>\u001b[0m                             \u001b[34m│\u001b[0m\n",
       "\u001b[34m│\u001b[0m          \u001b[3;33mASSEMBLY_PUBMED\u001b[0m = \u001b[1m<\u001b[0m\u001b[1;95mmember\u001b[0m\u001b[39m \u001b[0m\u001b[32m'ASSEMBLY_PUBMED'\u001b[0m\u001b[39m of \u001b[0m\u001b[32m'Organism'\u001b[0m\u001b[39m objects\u001b[0m\u001b[1m>\u001b[0m                                     \u001b[34m│\u001b[0m\n",
       "\u001b[34m│\u001b[0m               \u001b[3;33mBLAST_LINK\u001b[0m = \u001b[1m<\u001b[0m\u001b[1;95mmember\u001b[0m\u001b[39m \u001b[0m\u001b[32m'BLAST_LINK'\u001b[0m\u001b[39m of \u001b[0m\u001b[32m'Organism'\u001b[0m\u001b[39m objects\u001b[0m\u001b[1m>\u001b[0m                                          \u001b[34m│\u001b[0m\n",
       "\u001b[34m│\u001b[0m                 \u001b[3;33mCGV_LINK\u001b[0m = \u001b[1m<\u001b[0m\u001b[1;95mmember\u001b[0m\u001b[39m \u001b[0m\u001b[32m'CGV_LINK'\u001b[0m\u001b[39m of \u001b[0m\u001b[32m'Organism'\u001b[0m\u001b[39m objects\u001b[0m\u001b[1m>\u001b[0m                                            \u001b[34m│\u001b[0m\n",
       "\u001b[34m│\u001b[0m                 \u001b[3;33mFTP_LINK\u001b[0m = \u001b[1m<\u001b[0m\u001b[1;95mmember\u001b[0m\u001b[39m \u001b[0m\u001b[32m'FTP_LINK'\u001b[0m\u001b[39m of \u001b[0m\u001b[32m'Organism'\u001b[0m\u001b[39m objects\u001b[0m\u001b[1m>\u001b[0m                                            \u001b[34m│\u001b[0m\n",
       "\u001b[34m│\u001b[0m                 \u001b[3;33mGDV_LINK\u001b[0m = \u001b[1m<\u001b[0m\u001b[1;95mmember\u001b[0m\u001b[39m \u001b[0m\u001b[32m'GDV_LINK'\u001b[0m\u001b[39m of \u001b[0m\u001b[32m'Organism'\u001b[0m\u001b[39m objects\u001b[0m\u001b[1m>\u001b[0m                                            \u001b[34m│\u001b[0m\n",
       "\u001b[34m│\u001b[0m                       \u001b[3;33mid\u001b[0m = \u001b[1m<\u001b[0m\u001b[1;95mmember\u001b[0m\u001b[39m \u001b[0m\u001b[32m'id'\u001b[0m\u001b[39m of \u001b[0m\u001b[32m'Organism'\u001b[0m\u001b[39m objects\u001b[0m\u001b[1m>\u001b[0m                                                  \u001b[34m│\u001b[0m\n",
       "\u001b[34m│\u001b[0m             \u001b[3;33mget_outlinks\u001b[0m = \u001b[3;96mdef \u001b[0m\u001b[1;31mget_outlinks\u001b[0m\u001b[1m(\u001b[0mself\u001b[1m)\u001b[0m: \u001b[2mFetches assembly links from NCBI and assigns them to the \u001b[0m    \u001b[34m│\u001b[0m\n",
       "\u001b[34m│\u001b[0m                            \u001b[2minstance attributes.\u001b[0m                                                                 \u001b[34m│\u001b[0m\n",
       "\u001b[34m╰─────────────────────────────────────────────────────────────────────────────────────────────────────────────────╯\u001b[0m\n"
      ]
     },
     "metadata": {},
     "output_type": "display_data"
    }
   ],
   "source": [
    "inspect(Organism, methods=True)"
   ]
  },
  {
   "cell_type": "code",
   "execution_count": null,
   "id": "fe7fa0e3",
   "metadata": {},
   "outputs": [
    {
     "data": {
      "text/html": [
       "<pre style=\"white-space:pre;overflow-x:auto;line-height:normal;font-family:Menlo,'DejaVu Sans Mono',consolas,'Courier New',monospace\"><span style=\"color: #000080; text-decoration-color: #000080\">╭────────────────────────────────────────── </span><span style=\"color: #000080; text-decoration-color: #000080; font-weight: bold\">&lt;</span><span style=\"color: #ff00ff; text-decoration-color: #ff00ff; font-weight: bold\">class</span><span style=\"color: #000000; text-decoration-color: #000000\"> </span><span style=\"color: #008000; text-decoration-color: #008000\">'__main__.Organism'</span><span style=\"color: #000080; text-decoration-color: #000080; font-weight: bold\">&gt;</span><span style=\"color: #000080; text-decoration-color: #000080\"> ──────────────────────────────────────────╮</span>\n",
       "<span style=\"color: #000080; text-decoration-color: #000080\">│</span> <span style=\"color: #008000; text-decoration-color: #008000\">╭─────────────────────────────────────────────────────────────────────────────────────────────────────────────╮</span> <span style=\"color: #000080; text-decoration-color: #000080\">│</span>\n",
       "<span style=\"color: #000080; text-decoration-color: #000080\">│</span> <span style=\"color: #008000; text-decoration-color: #008000\">│</span> <span style=\"font-weight: bold\">&lt;</span><span style=\"color: #ff00ff; text-decoration-color: #ff00ff; font-weight: bold\">__main__.Organism</span><span style=\"color: #000000; text-decoration-color: #000000\"> object at </span><span style=\"color: #008080; text-decoration-color: #008080; font-weight: bold\">0x7cb8ced0c5f0</span><span style=\"font-weight: bold\">&gt;</span>                                                                <span style=\"color: #008000; text-decoration-color: #008000\">│</span> <span style=\"color: #000080; text-decoration-color: #000080\">│</span>\n",
       "<span style=\"color: #000080; text-decoration-color: #000080\">│</span> <span style=\"color: #008000; text-decoration-color: #008000\">╰─────────────────────────────────────────────────────────────────────────────────────────────────────────────╯</span> <span style=\"color: #000080; text-decoration-color: #000080\">│</span>\n",
       "<span style=\"color: #000080; text-decoration-color: #000080\">│</span>                                                                                                                 <span style=\"color: #000080; text-decoration-color: #000080\">│</span>\n",
       "<span style=\"color: #000080; text-decoration-color: #000080\">│</span>         <span style=\"color: #808000; text-decoration-color: #808000; font-style: italic\">ASSEMBLY_NUCCORE</span> = <span style=\"color: #008000; text-decoration-color: #008000\">'https://www.ncbi.nlm.nih.gov/nuccore/?from_uid=7358741&amp;linkname=assembly_nuccore_r…</span> <span style=\"color: #000080; text-decoration-color: #000080\">│</span>\n",
       "<span style=\"color: #000080; text-decoration-color: #000080\">│</span> <span style=\"color: #808000; text-decoration-color: #808000; font-style: italic\">ASSEMBLY_NUCCORE_GENBANK</span> = <span style=\"color: #008000; text-decoration-color: #008000\">'https://www.ncbi.nlm.nih.gov/nuccore/?from_uid=7358741&amp;linkname=assembly_nuccore_i…</span> <span style=\"color: #000080; text-decoration-color: #000080\">│</span>\n",
       "<span style=\"color: #000080; text-decoration-color: #000080\">│</span>  <span style=\"color: #808000; text-decoration-color: #808000; font-style: italic\">ASSEMBLY_NUCCORE_REFSEQ</span> = <span style=\"color: #008000; text-decoration-color: #008000\">'https://www.ncbi.nlm.nih.gov/nuccore/?from_uid=7358741&amp;linkname=assembly_nuccore_r…</span> <span style=\"color: #000080; text-decoration-color: #000080\">│</span>\n",
       "<span style=\"color: #000080; text-decoration-color: #000080\">│</span>          <span style=\"color: #808000; text-decoration-color: #808000; font-style: italic\">ASSEMBLY_PUBMED</span> = <span style=\"color: #008000; text-decoration-color: #008000\">'https://www.ncbi.nlm.nih.gov/nuccore/?from_uid=7358741&amp;linkname=assembly_pubmed'</span>    <span style=\"color: #000080; text-decoration-color: #000080\">│</span>\n",
       "<span style=\"color: #000080; text-decoration-color: #000080\">│</span>               <span style=\"color: #808000; text-decoration-color: #808000; font-style: italic\">BLAST_LINK</span> = <span style=\"color: #008000; text-decoration-color: #008000\">'https://blast.ncbi.nlm.nih.gov/Blast.cgi?PAGE_TYPE=BlastSearch&amp;PROG_DEF=blastn&amp;BLA…</span> <span style=\"color: #000080; text-decoration-color: #000080\">│</span>\n",
       "<span style=\"color: #000080; text-decoration-color: #000080\">│</span>                 <span style=\"color: #808000; text-decoration-color: #808000; font-style: italic\">CGV_LINK</span> = <span style=\"color: #008000; text-decoration-color: #008000\">'https://www.ncbi.nlm.nih.gov/cgv/GCF_000001635.27'</span>                                  <span style=\"color: #000080; text-decoration-color: #000080\">│</span>\n",
       "<span style=\"color: #000080; text-decoration-color: #000080\">│</span>                 <span style=\"color: #808000; text-decoration-color: #808000; font-style: italic\">FTP_LINK</span> = <span style=\"color: #008000; text-decoration-color: #008000\">'https://ftp.ncbi.nlm.nih.gov/genomes/all/GCF/000/001/635/GCF_000001635.27_GRCm39'</span>   <span style=\"color: #000080; text-decoration-color: #000080\">│</span>\n",
       "<span style=\"color: #000080; text-decoration-color: #000080\">│</span>                 <span style=\"color: #808000; text-decoration-color: #808000; font-style: italic\">GDV_LINK</span> = <span style=\"color: #008000; text-decoration-color: #008000\">'https://www.ncbi.nlm.nih.gov/genome/gdv/browser/genome/?id=GCF_000001635.27'</span>        <span style=\"color: #000080; text-decoration-color: #000080\">│</span>\n",
       "<span style=\"color: #000080; text-decoration-color: #000080\">│</span>                       <span style=\"color: #808000; text-decoration-color: #808000; font-style: italic\">id</span> = <span style=\"color: #008000; text-decoration-color: #008000\">'GCF_000001635.27'</span>                                                                   <span style=\"color: #000080; text-decoration-color: #000080\">│</span>\n",
       "<span style=\"color: #000080; text-decoration-color: #000080\">│</span>             <span style=\"color: #808000; text-decoration-color: #808000; font-style: italic\">get_outlinks</span> = <span style=\"color: #00ffff; text-decoration-color: #00ffff; font-style: italic\">def </span><span style=\"color: #800000; text-decoration-color: #800000; font-weight: bold\">get_outlinks</span><span style=\"font-weight: bold\">()</span>: <span style=\"color: #7f7f7f; text-decoration-color: #7f7f7f\">Fetches assembly links from NCBI and assigns them to the </span>        <span style=\"color: #000080; text-decoration-color: #000080\">│</span>\n",
       "<span style=\"color: #000080; text-decoration-color: #000080\">│</span>                            <span style=\"color: #7f7f7f; text-decoration-color: #7f7f7f\">instance attributes.</span>                                                                 <span style=\"color: #000080; text-decoration-color: #000080\">│</span>\n",
       "<span style=\"color: #000080; text-decoration-color: #000080\">╰─────────────────────────────────────────────────────────────────────────────────────────────────────────────────╯</span>\n",
       "</pre>\n"
      ],
      "text/plain": [
       "\u001b[34m╭─\u001b[0m\u001b[34m─────────────────────────────────────────\u001b[0m\u001b[34m \u001b[0m\u001b[1;34m<\u001b[0m\u001b[1;95mclass\u001b[0m\u001b[39m \u001b[0m\u001b[32m'__main__.Organism'\u001b[0m\u001b[1;34m>\u001b[0m\u001b[34m \u001b[0m\u001b[34m─────────────────────────────────────────\u001b[0m\u001b[34m─╮\u001b[0m\n",
       "\u001b[34m│\u001b[0m \u001b[32m╭─────────────────────────────────────────────────────────────────────────────────────────────────────────────╮\u001b[0m \u001b[34m│\u001b[0m\n",
       "\u001b[34m│\u001b[0m \u001b[32m│\u001b[0m \u001b[1m<\u001b[0m\u001b[1;95m__main__.Organism\u001b[0m\u001b[39m object at \u001b[0m\u001b[1;36m0x7cb8ced0c5f0\u001b[0m\u001b[1m>\u001b[0m                                                                \u001b[32m│\u001b[0m \u001b[34m│\u001b[0m\n",
       "\u001b[34m│\u001b[0m \u001b[32m╰─────────────────────────────────────────────────────────────────────────────────────────────────────────────╯\u001b[0m \u001b[34m│\u001b[0m\n",
       "\u001b[34m│\u001b[0m                                                                                                                 \u001b[34m│\u001b[0m\n",
       "\u001b[34m│\u001b[0m         \u001b[3;33mASSEMBLY_NUCCORE\u001b[0m = \u001b[32m'https://www.ncbi.nlm.nih.gov/nuccore/?\u001b[0m\u001b[32mfrom_uid\u001b[0m\u001b[32m=\u001b[0m\u001b[32m7358741\u001b[0m\u001b[32m&\u001b[0m\u001b[32mlinkname\u001b[0m\u001b[32m=\u001b[0m\u001b[32massembly_nuccore_r…\u001b[0m \u001b[34m│\u001b[0m\n",
       "\u001b[34m│\u001b[0m \u001b[3;33mASSEMBLY_NUCCORE_GENBANK\u001b[0m = \u001b[32m'https://www.ncbi.nlm.nih.gov/nuccore/?\u001b[0m\u001b[32mfrom_uid\u001b[0m\u001b[32m=\u001b[0m\u001b[32m7358741\u001b[0m\u001b[32m&\u001b[0m\u001b[32mlinkname\u001b[0m\u001b[32m=\u001b[0m\u001b[32massembly_nuccore_i…\u001b[0m \u001b[34m│\u001b[0m\n",
       "\u001b[34m│\u001b[0m  \u001b[3;33mASSEMBLY_NUCCORE_REFSEQ\u001b[0m = \u001b[32m'https://www.ncbi.nlm.nih.gov/nuccore/?\u001b[0m\u001b[32mfrom_uid\u001b[0m\u001b[32m=\u001b[0m\u001b[32m7358741\u001b[0m\u001b[32m&\u001b[0m\u001b[32mlinkname\u001b[0m\u001b[32m=\u001b[0m\u001b[32massembly_nuccore_r…\u001b[0m \u001b[34m│\u001b[0m\n",
       "\u001b[34m│\u001b[0m          \u001b[3;33mASSEMBLY_PUBMED\u001b[0m = \u001b[32m'https://www.ncbi.nlm.nih.gov/nuccore/?\u001b[0m\u001b[32mfrom_uid\u001b[0m\u001b[32m=\u001b[0m\u001b[32m7358741\u001b[0m\u001b[32m&\u001b[0m\u001b[32mlinkname\u001b[0m\u001b[32m=\u001b[0m\u001b[32massembly_pubmed\u001b[0m\u001b[32m'\u001b[0m    \u001b[34m│\u001b[0m\n",
       "\u001b[34m│\u001b[0m               \u001b[3;33mBLAST_LINK\u001b[0m = \u001b[32m'https://blast.ncbi.nlm.nih.gov/Blast.cgi?\u001b[0m\u001b[32mPAGE_TYPE\u001b[0m\u001b[32m=\u001b[0m\u001b[32mBlastSearch\u001b[0m\u001b[32m&\u001b[0m\u001b[32mPROG_DEF\u001b[0m\u001b[32m=\u001b[0m\u001b[32mblastn\u001b[0m\u001b[32m&\u001b[0m\u001b[32mBLA…\u001b[0m \u001b[34m│\u001b[0m\n",
       "\u001b[34m│\u001b[0m                 \u001b[3;33mCGV_LINK\u001b[0m = \u001b[32m'https://www.ncbi.nlm.nih.gov/cgv/GCF_000001635.27'\u001b[0m                                  \u001b[34m│\u001b[0m\n",
       "\u001b[34m│\u001b[0m                 \u001b[3;33mFTP_LINK\u001b[0m = \u001b[32m'https://ftp.ncbi.nlm.nih.gov/genomes/all/GCF/000/001/635/GCF_000001635.27_GRCm39'\u001b[0m   \u001b[34m│\u001b[0m\n",
       "\u001b[34m│\u001b[0m                 \u001b[3;33mGDV_LINK\u001b[0m = \u001b[32m'https://www.ncbi.nlm.nih.gov/genome/gdv/browser/genome/?\u001b[0m\u001b[32mid\u001b[0m\u001b[32m=\u001b[0m\u001b[32mGCF_000001635\u001b[0m\u001b[32m.27'\u001b[0m        \u001b[34m│\u001b[0m\n",
       "\u001b[34m│\u001b[0m                       \u001b[3;33mid\u001b[0m = \u001b[32m'GCF_000001635.27'\u001b[0m                                                                   \u001b[34m│\u001b[0m\n",
       "\u001b[34m│\u001b[0m             \u001b[3;33mget_outlinks\u001b[0m = \u001b[3;96mdef \u001b[0m\u001b[1;31mget_outlinks\u001b[0m\u001b[1m(\u001b[0m\u001b[1m)\u001b[0m: \u001b[2mFetches assembly links from NCBI and assigns them to the \u001b[0m        \u001b[34m│\u001b[0m\n",
       "\u001b[34m│\u001b[0m                            \u001b[2minstance attributes.\u001b[0m                                                                 \u001b[34m│\u001b[0m\n",
       "\u001b[34m╰─────────────────────────────────────────────────────────────────────────────────────────────────────────────────╯\u001b[0m\n"
      ]
     },
     "metadata": {},
     "output_type": "display_data"
    }
   ],
   "source": [
    "inspect(a, methods=True)"
   ]
  },
  {
   "cell_type": "code",
   "execution_count": null,
   "id": "c4620109",
   "metadata": {},
   "outputs": [
    {
     "data": {
      "text/plain": [
       "'https://blast.ncbi.nlm.nih.gov/Blast.cgi?PAGE_TYPE=BlastSearch&PROG_DEF=blastn&BLAST_SPEC=GDH_GCF_000001635.27'"
      ]
     },
     "execution_count": 26,
     "metadata": {},
     "output_type": "execute_result"
    }
   ],
   "source": [
    "a.BLAST_LINK"
   ]
  }
 ],
 "metadata": {
  "kernelspec": {
   "display_name": "py312",
   "language": "python",
   "name": "python3"
  },
  "language_info": {
   "codemirror_mode": {
    "name": "ipython",
    "version": 3
   },
   "file_extension": ".py",
   "mimetype": "text/x-python",
   "name": "python",
   "nbconvert_exporter": "python",
   "pygments_lexer": "ipython3",
   "version": "3.12.8"
  }
 },
 "nbformat": 4,
 "nbformat_minor": 5
}
