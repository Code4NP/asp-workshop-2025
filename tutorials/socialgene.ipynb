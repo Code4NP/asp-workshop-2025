{
 "cells": [
  {
   "cell_type": "code",
   "execution_count": null,
   "id": "fdb3dc2c",
   "metadata": {},
   "outputs": [],
   "source": [
    "# https://socialgene.github.io/precomputed_databases/2023_v0.4.1/aws/aws/\n",
    "# 314 genomes + all MIBiG BGCs\n",
    "mkdir temp\n",
    "cd temp\n",
    "aws s3 --no-sign-request cp s3://socialgene-open-data/2023_v0.4.1/micromonospora/neo4j_db_micromonospora_base.dump .\n",
    "wget \n",
    "\n",
    "mkdir hmm_models\n",
    "cd hmm_models\n",
    "wget https://socialgene-open-data.s3.amazonaws.com/2023_v0.4.1/hmm_models/socialgene_nr_hmms_file_with_cutoffs_1_of_1.hmm.gz\n",
    "wget https://socialgene-open-data.s3.amazonaws.com/2023_v0.4.1/hmm_models/socialgene_nr_hmms_file_without_cutoffs_1_of_1.hmm.gz"
   ]
  },
  {
   "cell_type": "code",
   "execution_count": null,
   "id": "452d1717",
   "metadata": {},
   "outputs": [],
   "source": [
    "cd temp\n",
    "dump_path=\"${PWD}/neo4j_db_micromonospora_base.dump\"\n",
    "sg_neoloc=\"${PWD}\"\n",
    "pipeline_version='latest'\n",
    "\n",
    "# mkdir because the docker image will create directories as root if they don't exist\n",
    "\n",
    "rm -rf $sg_neoloc/data $sg_neoloc/logs $sg_neoloc/plugins $sg_neoloc/conf $sg_neoloc/import\n",
    "mkdir -p $sg_neoloc/data\n",
    "mkdir -p $sg_neoloc/logs\n",
    "mkdir -p $sg_neoloc/plugins\n",
    "mkdir -p $sg_neoloc/conf\n",
    "mkdir -p $sg_neoloc/import\n",
    "\n",
    "docker run \\\n",
    "    --user=$(id -u):$(id -g) \\\n",
    "    --interactive \\\n",
    "    --tty \\\n",
    "    --rm \\\n",
    "    --volume=$sg_neoloc/data:/opt/conda/bin/neo4j/data \\\n",
    "    --volume=$sg_neoloc/plugins:/opt/conda/bin/neo4j/plugins \\\n",
    "    --volume=$sg_neoloc/logs:/opt/conda/bin/neo4j/logs \\\n",
    "    --volume=$dump_path:/opt/conda/bin/neo4j/neo4j.dump \\\n",
    "    --env NEO4J_AUTH=neo4j/test \\\n",
    "    chasemc2/sgnf-sgpy:1.2.2 \\\n",
    "        neo4j-admin database load \\\n",
    "            --from-path=. \\\n",
    "            neo4j"
   ]
  },
  {
   "cell_type": "code",
   "execution_count": null,
   "id": "5b63fe7d",
   "metadata": {},
   "outputs": [],
   "source": [
    "sg_neoloc=$PWD\n",
    "\n",
    "NEO4J_server_memory_heap_initial__size='4600m'\n",
    "NEO4J_server_memory_heap_max__size='4600m'\n",
    "NEO4J_server_memory_pagecache_size='4g'\n",
    "\n",
    "mkdir -p $sg_neoloc/conf\n",
    "# Allow import and export of files from database\n",
    "echo 'apoc.export.file.enabled=true' > $sg_neoloc/conf/apoc.conf\n",
    "echo 'apoc.import.file.enabled=true' >> $sg_neoloc/conf/apoc.conf\n",
    "echo 'apoc.export.file.use_neo4j_config=false' >> $sg_neoloc/conf/apoc.conf\n",
    "echo 'apoc.import.file.use_neo4j_config=false' >> $sg_neoloc/conf/apoc.conf\n",
    "# Set import/export of files from database to $sg_neoloc/import\n",
    "echo 'server.directories.import=/opt/conda/bin/neo4j/import' >> $sg_neoloc/conf/neo4j.conf\n",
    "echo 'server.directories.export=/opt/conda/bin/neo4j/import' >> $sg_neoloc/conf/neo4j.conf\n",
    "\n",
    "docker run \\\n",
    "    --user=$(id -u):$(id -g) \\\n",
    "    -p7474:7474 -p7687:7687 \\\n",
    "    -v $sg_neoloc/data:/data \\\n",
    "    -v $sg_neoloc/logs:/logs \\\n",
    "    -v $sg_neoloc/import:/opt/conda/bin/neo4j/import \\\n",
    "    -v $sg_neoloc/plugins:/plugins \\\n",
    "    -v $sg_neoloc/conf:/opt/conda/bin/neo4j/conf \\\n",
    "        --env NEO4J_AUTH=neo4j/test12345 \\\n",
    "        --env NEO4J_PLUGINS='[\"apoc\"]' \\\n",
    "        --env NEO4J_dbms_security_procedures_unrestricted=algo.*,apoc.*, \\\n",
    "        --env NEO4J_dbms_security_procedures_allowlist=algo.*,apoc.* \\\n",
    "        --env NEO4J_server_config_strict__validation_enabled=false \\\n",
    "        --env NEO4J_server_memory_heap_initial__size=$NEO4J_server_memory_heap_initial__size \\\n",
    "        --env NEO4J_server_memory_heap_max__size=$NEO4J_server_memory_heap_max__size \\\n",
    "        --env NEO4J_server_memory_pagecache_size=$NEO4J_server_memory_pagecache_size \\\n",
    "        --env NEO4J_server_jvm_additional='-XX:+ExitOnOutOfMemoryError' \\\n",
    "    neo4j:5.17.0"
   ]
  },
  {
   "cell_type": "code",
   "execution_count": null,
   "id": "913c56e1",
   "metadata": {},
   "outputs": [],
   "source": [
    "MATCH z1=(n:pfam {name:\"Trp_halogenase\"})<-[:SOURCE_DB]-(h1:hmm),\n",
    "      z2=(h1)-[:ANNOTATES]-(:protein)<-[e1:ENCODES]-(n1:nucleotide)\n",
    "WHERE n1.external_id STARTS WITH \"BGC\"\n",
    "WITH DISTINCT n1, e1\n",
    "CALL {\n",
    "    WITH n1, e1\n",
    "    MATCH z3=(an1:hmm_source:antismash)<-[:SOURCE_DB]-(:hmm)-[:ANNOTATES]->(p1:protein)<-[e2:ENCODES]-(n1)\n",
    "    MATCH z4=(an2:hmm_source:antismash)<-[:SOURCE_DB]-(:hmm)-[:ANNOTATES]->(p1)\n",
    "        WHERE an1.name =\"Condensation\"\n",
    "            AND an2.name IN [\"AMP-binding\", \"A-OX\"] \n",
    "            AND abs(e1.start - e2.start) < 10000 \n",
    "            AND e1.strand = e2.strand\n",
    "    MATCH z5=(:hmm_source:amrfinder)<-[:SOURCE_DB]-(:hmm)-[:ANNOTATES]->(p2:protein)<-[e3:ENCODES]-(n1)\n",
    "    WHERE abs(e1.start - e3.start) < 50000 \n",
    "            AND e1.strand = e3.strand\n",
    "    RETURN z3, z4, z5\n",
    "} in transactions of 1 rows\n",
    "RETURN z1, z2, z3, z4, z5  \n",
    "  "
   ]
  },
  {
   "cell_type": "code",
   "execution_count": null,
   "id": "0284cf88",
   "metadata": {
    "vscode": {
     "languageId": "shellscript"
    }
   },
   "outputs": [],
   "source": [
    "!sg_search_gc \\\n",
    "  --gbk_path \"$PWD/../data/mibig_data/BGC0001848.gbk.gz\" \\\n",
    "  --hmm_dir \"$PWD/../temp/hmm_models\" \\\n",
    "  --clinker_outpath \"$PWD/../data/clustermap/data.json\" \\\n",
    "  --assemblies_must_have_x_matches 0.4 \\\n",
    "  --nucleotide_sequences_must_have_x_matches 0.4 \\\n",
    "  --gene_clusters_must_have_x_matches 0.4 \\\n",
    "  --break_bgc_on_gap_of 20000 \\\n",
    "  --target_bgc_padding 10000 \\\n",
    "  --max_domains_per_protein 3 \\\n",
    "  --max_outdegree 1000000 \\\n",
    "  --max_query_proteins 5 \\\n",
    "  --protein_id_bypass_list CAA60459.1 \\\n",
    "  --frac 0.75 \\\n",
    "  --run_async \\\n",
    "  --analyze_with hmmer\n"
   ]
  },
  {
   "cell_type": "code",
   "execution_count": null,
   "id": "1a7cb988",
   "metadata": {
    "vscode": {
     "languageId": "shellscript"
    }
   },
   "outputs": [],
   "source": [
    "!sg_search_gc \\\n",
    "  --gbk_path \"$PWD/../data/mibig_data/BGC0000696.gbk.gz\" \\\n",
    "  --hmm_dir \"$PWD/../temp/hmm_models\" \\\n",
    "  --clinker_outpath \"$PWD/../data/clustermap/data.json\" \\\n",
    "  --assemblies_must_have_x_matches 0.4 \\\n",
    "  --nucleotide_sequences_must_have_x_matches 0.4 \\\n",
    "  --gene_clusters_must_have_x_matches 0.4 \\\n",
    "  --break_bgc_on_gap_of 20000 \\\n",
    "  --target_bgc_padding 10000 \\\n",
    "  --max_domains_per_protein 3 \\\n",
    "  --max_outdegree 1000000 \\\n",
    "  --max_query_proteins 5 \\\n",
    "  --frac 0.75 \\\n",
    "  --run_async \\\n",
    "  --analyze_with blastp\n"
   ]
  },
  {
   "cell_type": "code",
   "execution_count": null,
   "id": "d0062605",
   "metadata": {
    "vscode": {
     "languageId": "shellscript"
    }
   },
   "outputs": [],
   "source": [
    "!sg_search_gc \\\n",
    "  --gbk_path \"$PWD/../data/mibig_data/BGC0000714.gbk.gz\" \\\n",
    "  --hmm_dir \"$PWD/../temp/hmm_models\" \\\n",
    "  --clinker_outpath \"$PWD/../data/clustermap/data.json\" \\\n",
    "  --assemblies_must_have_x_matches 0.4 \\\n",
    "  --nucleotide_sequences_must_have_x_matches 0.4 \\\n",
    "  --gene_clusters_must_have_x_matches 0.4 \\\n",
    "  --break_bgc_on_gap_of 20000 \\\n",
    "  --target_bgc_padding 10000 \\\n",
    "  --max_domains_per_protein 3 \\\n",
    "  --max_outdegree 1000000 \\\n",
    "  --max_query_proteins 5 \\\n",
    "  --frac 0.75 \\\n",
    "  --run_async \\\n",
    "  --analyze_with blastp \n"
   ]
  },
  {
   "cell_type": "code",
   "execution_count": null,
   "id": "274d8fe2",
   "metadata": {
    "vscode": {
     "languageId": "shellscript"
    }
   },
   "outputs": [],
   "source": [
    "# serve /home/chase/Documents/github/asp-workshop-2025/data/clustermap with python via http server\n",
    "python3 -m http.server 8000 --directory \"$PWD/../data/clustermap"
   ]
  },
  {
   "cell_type": "markdown",
   "id": "7e94e839",
   "metadata": {},
   "source": [
    "https://bgcatlas.pages.dev/"
   ]
  }
 ],
 "metadata": {
  "kernelspec": {
   "display_name": "py312",
   "language": "python",
   "name": "python3"
  },
  "language_info": {
   "codemirror_mode": {
    "name": "ipython",
    "version": 3
   },
   "file_extension": ".py",
   "mimetype": "text/x-python",
   "name": "python",
   "nbconvert_exporter": "python",
   "pygments_lexer": "ipython3",
   "version": "3.12.8"
  }
 },
 "nbformat": 4,
 "nbformat_minor": 5
}
