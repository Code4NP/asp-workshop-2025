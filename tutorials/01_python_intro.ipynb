{
 "cells": [
  {
   "cell_type": "markdown",
   "id": "3c5b1aea",
   "metadata": {},
   "source": [
    "# Python Dictionaries and Lists\n"
   ]
  },
  {
   "cell_type": "markdown",
   "id": "24493baf",
   "metadata": {},
   "source": [
    "## Dictionaries\n",
    "Dictionaries in Python are used to store data values in key:value pairs. The keys are unique identifiers for the values, allowing for efficient data retrieval. "
   ]
  },
  {
   "cell_type": "code",
   "execution_count": null,
   "id": "b5102ba7",
   "metadata": {},
   "outputs": [],
   "source": [
    "tutorial_dict = {\n",
    "       \"key\": \"value\",\n",
    "       \"Lookup using me!\": \"Returns this\",\n",
    "       \"lookup_using_me\": \"Returns this\",\n",
    "       1: 2\n",
    "   }"
   ]
  },
  {
   "cell_type": "code",
   "execution_count": null,
   "id": "ccac1574",
   "metadata": {},
   "outputs": [
    {
     "data": {
      "text/plain": [
       "'Returns this'"
      ]
     },
     "execution_count": 29,
     "metadata": {},
     "output_type": "execute_result"
    }
   ],
   "source": [
    "tutorial_dict[\"Lookup using me!\"]"
   ]
  },
  {
   "cell_type": "code",
   "execution_count": null,
   "id": "c5d96985",
   "metadata": {},
   "outputs": [
    {
     "data": {
      "text/plain": [
       "2"
      ]
     },
     "execution_count": 30,
     "metadata": {},
     "output_type": "execute_result"
    }
   ],
   "source": [
    "tutorial_dict[1]"
   ]
  },
  {
   "cell_type": "code",
   "execution_count": null,
   "id": "0339ad36",
   "metadata": {
    "tags": [
     "raises-exception"
    ]
   },
   "outputs": [
    {
     "ename": "KeyError",
     "evalue": "2",
     "output_type": "error",
     "traceback": [
      "\u001b[0;31m---------------------------------------------------------------------------\u001b[0m",
      "\u001b[0;31mKeyError\u001b[0m                                  Traceback (most recent call last)",
      "Cell \u001b[0;32mIn[31], line 1\u001b[0m\n\u001b[0;32m----> 1\u001b[0m \u001b[43mtutorial_dict\u001b[49m\u001b[43m[\u001b[49m\u001b[38;5;241;43m2\u001b[39;49m\u001b[43m]\u001b[49m\n",
      "\u001b[0;31mKeyError\u001b[0m: 2"
     ]
    }
   ],
   "source": [
    "tutorial_dict[2]"
   ]
  },
  {
   "cell_type": "code",
   "execution_count": null,
   "id": "ee78ed5a",
   "metadata": {},
   "outputs": [],
   "source": [
    "tutorial_dict = {\n",
    "       \"id\": \"BGC_0001\",\n",
    "       \"name\": \"Example BGC\",\n",
    "       \"description\": \"This is an example biosynthetic gene cluster.\",\n",
    "       \"organism\": \"Escherichia coli\",\n",
    "   }\n"
   ]
  },
  {
   "cell_type": "code",
   "execution_count": null,
   "id": "86ec5da8",
   "metadata": {},
   "outputs": [
    {
     "data": {
      "text/plain": [
       "'Example BGC'"
      ]
     },
     "execution_count": 33,
     "metadata": {},
     "output_type": "execute_result"
    }
   ],
   "source": [
    "tutorial_dict[\"name\"]"
   ]
  },
  {
   "cell_type": "code",
   "execution_count": null,
   "id": "0b0f8a5a",
   "metadata": {},
   "outputs": [
    {
     "data": {
      "text/plain": [
       "'Example BGC'"
      ]
     },
     "execution_count": 34,
     "metadata": {},
     "output_type": "execute_result"
    }
   ],
   "source": [
    "tutorial_dict.get(\"name\")"
   ]
  },
  {
   "cell_type": "markdown",
   "id": "cba05216",
   "metadata": {},
   "source": [
    "## Lists\n",
    "Lists in Python are used to store multiple items in a single variable. They are ordered, changeable, and allow duplicate values. Lists can contain any data type, including other lists or dictionaries."
   ]
  },
  {
   "cell_type": "code",
   "execution_count": null,
   "id": "f0b75aef",
   "metadata": {},
   "outputs": [],
   "source": [
    "tutorial_list = [\"Escherichia coli\", \"Bacillus subtilis\", \"Streptomyces coelicolor\"]"
   ]
  },
  {
   "cell_type": "code",
   "execution_count": null,
   "id": "3d825aa4",
   "metadata": {},
   "outputs": [
    {
     "data": {
      "text/plain": [
       "'Bacillus subtilis'"
      ]
     },
     "execution_count": 36,
     "metadata": {},
     "output_type": "execute_result"
    }
   ],
   "source": [
    "tutorial_list[1]"
   ]
  },
  {
   "cell_type": "code",
   "execution_count": null,
   "id": "07962b5a",
   "metadata": {},
   "outputs": [],
   "source": [
    "## Combos!"
   ]
  },
  {
   "cell_type": "code",
   "execution_count": null,
   "id": "0975ad90",
   "metadata": {},
   "outputs": [],
   "source": [
    "tutorial_dict= {\n",
    "    \"id\": \"BGC_0001\",\n",
    "    \"genes\": [\n",
    "        {\"name\": \"proteinA\", \"function\": \"unknown\"},\n",
    "        {\"name\": \"proteinB\"}\n",
    "    ]\n",
    "}"
   ]
  },
  {
   "cell_type": "code",
   "execution_count": null,
   "id": "674e5595",
   "metadata": {},
   "outputs": [
    {
     "data": {
      "text/plain": [
       "'proteinA'"
      ]
     },
     "execution_count": 39,
     "metadata": {},
     "output_type": "execute_result"
    }
   ],
   "source": [
    "tutorial_dict[\"genes\"][0][\"name\"]"
   ]
  },
  {
   "cell_type": "markdown",
   "id": "59a83bb6",
   "metadata": {},
   "source": [
    "# Interactive"
   ]
  },
  {
   "cell_type": "markdown",
   "id": "6abe0517",
   "metadata": {},
   "source": [
    "Create a mock structure for a biosynthetic gene cluster (BGC) data using dictionaries and lists. "
   ]
  },
  {
   "cell_type": "code",
   "execution_count": null,
   "id": "c8fafdc3",
   "metadata": {},
   "outputs": [],
   "source": [
    "mock_bgc = \n"
   ]
  }
 ],
 "metadata": {
  "kernelspec": {
   "display_name": "default",
   "language": "python",
   "name": "python3"
  },
  "language_info": {
   "codemirror_mode": {
    "name": "ipython",
    "version": 3
   },
   "file_extension": ".py",
   "mimetype": "text/x-python",
   "name": "python",
   "nbconvert_exporter": "python",
   "pygments_lexer": "ipython3",
   "version": "3.12.11"
  }
 },
 "nbformat": 4,
 "nbformat_minor": 5
}
