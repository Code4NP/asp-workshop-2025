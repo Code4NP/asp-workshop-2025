{
 "cells": [
  {
   "cell_type": "markdown",
   "id": "e46545bf",
   "metadata": {},
   "source": [
    "---\n",
    "title: \"JSON-JavaScript Object Notation\"\n",
    "author:\n",
    "  - name: \n",
    "      given: Chase\n",
    "      family: Clark\n",
    "      non-dropping-particle: M\n",
    "    roles: [original draft, review & editing]\n",
    "    url: \n",
    "    affiliation: EVOQUANT LLC\n",
    "    orcid: 0000-0001-6439-9397\n",
    "categories: [beginner, python]\n",
    "date: \"2025-07-22\"\n",
    "description: \"\"\n",
    "draft: false\n",
    "appendix-cite-as: display\n",
    "funding: \"The author(s) received no funding for this work.\"\n",
    "citation: true\n",
    "execute:\n",
    "  freeze: true\n",
    "---"
   ]
  },
  {
   "cell_type": "markdown",
   "id": "1a432bf2",
   "metadata": {},
   "source": [
    "```sh\n",
    "\n",
    "curl -sX 'GET' \\\n",
    "  'https://rest.uniprot.org/uniprotkb/P05067?fields=accession%2Cprotein_name%2Ccc_function' \\\n",
    "  -H 'accept: application/json' |\\\n",
    "jq |\\\n",
    "less\n",
    "\n",
    "```"
   ]
  },
  {
   "cell_type": "markdown",
   "id": "3be2dc5e",
   "metadata": {},
   "source": [
    ">JSON (JavaScript Object Notation) is a lightweight data-interchange format. It is easy for humans to read and write. It is easy for machines to parse and generate. It is based on a subset of the JavaScript Programming Language Standard ECMA-262 3rd Edition - December 1999. JSON is a text format that is completely language independent but uses conventions that are familiar to programmers of the C-family of languages, including C, C++, C#, Java, JavaScript, Perl, Python, and many others. These properties make JSON an ideal data-interchange language. (https://www.json.org/json-en.html)"
   ]
  },
  {
   "cell_type": "markdown",
   "id": "b7cec184",
   "metadata": {},
   "source": [
    "\"UniProt is the world's leading high-quality, comprehensive and freely accessible resource of protein sequence and functional information.\"\n",
    "\n",
    "UniProt provides [several different ways](https://www.uniprot.org/help/programmatic_access) to access its data, including the web interface you might be familiar with using, a REST API, a SPARQL endpoint, and a Java API. In this tutorial, we will focus on the [REST API](https://www.uniprot.org/api-documentation/uniprotkb), which allows us to retrieve data in JSON format.\n",
    "\n",
    "In addition to the APIs, UniProt also provides a bulk download service, which allows you to download large datasets via their FTP server. "
   ]
  },
  {
   "cell_type": "markdown",
   "id": "1432dd70",
   "metadata": {},
   "source": [
    "For this tutorial we will look at the specific REST API endpoint specified here: https://www.uniprot.org/api-documentation/uniprotkb#operations-UniProtKB-getByAccession\n",
    "\n",
    "\n",
    "The **domain** of this API is `rest.uniprot.org`, and the **path** is `/uniprotkb/{accession}`. The `{accession}` part of the path is a placeholder for the accession number of the protein you want to retrieve. For example, if you wanted to retrieve information about the protein with accession number `P05067`, you would use the following URL: `https://rest.uniprot.org/uniprotkb/P05067`. Additionally, you can specify which fields you want to retrieve by using the `fields` query parameter. For example, if you wanted to retrieve the accession number, protein name, and functions of the protein with accession number `P05067`, you would use the following URL: `https://rest.uniprot.org/uniprotkb/P05067?fields=accession,protein_name,cc_function`.\n",
    "\n",
    "REST APIs use HTTP URLs to access resources. This means URLs must be properly formatted and encoded, as they cannot contain spaces or certain special characters. For example, spaces are typically encoded as %20. Ensuring correct URL formatting is essential for the API to correctly interpret the request."
   ]
  },
  {
   "cell_type": "code",
   "execution_count": null,
   "id": "0f707c58",
   "metadata": {},
   "outputs": [
    {
     "name": "stdout",
     "output_type": "stream",
     "text": [
      "I'm a string that would break a url if not encoded properly\n"
     ]
    }
   ],
   "source": [
    "import requests\n",
    "\n",
    "print(\"I'm a string that would break a url if not encoded properly\")"
   ]
  },
  {
   "cell_type": "code",
   "execution_count": null,
   "id": "b17daa9c",
   "metadata": {},
   "outputs": [
    {
     "name": "stdout",
     "output_type": "stream",
     "text": [
      "I%27m%20a%20string%20that%20would%20break%20a%20url%20if%20not%20encoded%20properly\n"
     ]
    }
   ],
   "source": [
    "temp_variable = requests.utils.quote(\"I'm a string that would break a url if not encoded properly\")\n",
    "print(temp_variable)"
   ]
  },
  {
   "cell_type": "code",
   "execution_count": null,
   "id": "8caa0711",
   "metadata": {},
   "outputs": [
    {
     "name": "stdout",
     "output_type": "stream",
     "text": [
      "I'm a string that would break a url if not encoded properly\n"
     ]
    }
   ],
   "source": [
    "temp = requests.utils.unquote(temp)\n",
    "print(temp)"
   ]
  },
  {
   "cell_type": "code",
   "execution_count": null,
   "id": "d6b7728b",
   "metadata": {},
   "outputs": [],
   "source": [
    "import requests\n",
    "\n",
    "# Define the base URL for the UniProt REST API\n",
    "rest_domain = \"https://rest.uniprot.org\"\n",
    "\n",
    "# Define the specific endpoint for retrieving protein information by accession number\n",
    "endpoint = \"/uniprotkb/{accession}\"\n",
    "\n",
    "# Define the accession number for the protein of interest\n",
    "accession = \"P05067\"\n",
    "\n",
    "# Define the fields to retrieve from the API (comma-separated)\n",
    "fields = \"accession,protein_name,cc_function\"\n",
    "\n",
    "# URL-encode the fields to ensure proper formatting (no illegal characters)\n",
    "encoded_fields = requests.utils.quote(fields)\n",
    "\n",
    "# Paste together the full URL with parameters\n",
    "url = f\"{rest_domain}{endpoint.format(accession=accession)}?fields={encoded_fields}\"\n"
   ]
  },
  {
   "cell_type": "code",
   "execution_count": null,
   "id": "29fa94f2",
   "metadata": {},
   "outputs": [
    {
     "data": {
      "text/plain": [
       "'https://rest.uniprot.org/uniprotkb/P05067?fields=accession%2Cprotein_name%2Ccc_function'"
      ]
     },
     "execution_count": 26,
     "metadata": {},
     "output_type": "execute_result"
    }
   ],
   "source": [
    "url"
   ]
  },
  {
   "cell_type": "code",
   "execution_count": null,
   "id": "d16b2ed5",
   "metadata": {},
   "outputs": [],
   "source": [
    "# Send the GET request to the API\n",
    "response = requests.get(url)"
   ]
  },
  {
   "cell_type": "markdown",
   "id": "f57f63a4",
   "metadata": {},
   "source": [
    "Check if the request was successful (status code 200). There are several ways to do this."
   ]
  },
  {
   "cell_type": "code",
   "execution_count": null,
   "id": "eae565e9",
   "metadata": {},
   "outputs": [
    {
     "data": {
      "text/plain": [
       "<Response [200]>"
      ]
     },
     "execution_count": 28,
     "metadata": {},
     "output_type": "execute_result"
    }
   ],
   "source": [
    "# The response object will auto-print the status to the console\n",
    "response"
   ]
  },
  {
   "cell_type": "code",
   "execution_count": null,
   "id": "b168ac91",
   "metadata": {},
   "outputs": [
    {
     "data": {
      "text/plain": [
       "200"
      ]
     },
     "execution_count": 29,
     "metadata": {},
     "output_type": "execute_result"
    }
   ],
   "source": [
    "response.status_code"
   ]
  },
  {
   "cell_type": "code",
   "execution_count": null,
   "id": "11ba5293",
   "metadata": {},
   "outputs": [
    {
     "data": {
      "text/plain": [
       "True"
      ]
     },
     "execution_count": 30,
     "metadata": {},
     "output_type": "execute_result"
    }
   ],
   "source": [
    "response.ok"
   ]
  },
  {
   "cell_type": "markdown",
   "id": "3f7e132d",
   "metadata": {},
   "source": [
    "You can get the raw data that the API returned"
   ]
  },
  {
   "cell_type": "code",
   "execution_count": null,
   "id": "cdd68622",
   "metadata": {},
   "outputs": [
    {
     "data": {
      "text/plain": [
       "'{\"entryType\":\"UniProtKB reviewed (Swiss-Prot)\",\"primaryAccession\":\"P05067\",\"proteinDescription\":{\"recommendedName\":{\"fullName\":{\"evidences\":[{\"evidenceCode\":\"ECO:0000312\",\"source\":\"HGNC\",\"id\":\"HGNC:620\"}],\"value\":\"Amyloid-beta precursor protein\"},\"shortNames\":[{\"evidences\":[{\"evidenceCode\":\"ECO:0000312\",\"source\":\"HGNC\",\"id\":\"HGNC:620\"}],\"value\":\"APP\"}]},\"alternativeNames\":[{\"fullName\":{\"value\":\"ABPP\"}},{\"fullName\":{\"value\":\"APPI\"}},{\"fullName\":{\"value\":\"Alzheimer disease amyloid A4 protein homolog\"}},{\"fullName\":{\"value\":\"Alzheimer disease amyloid protein\"}},{\"fullName\":{\"evidences\":[{\"evidenceCode\":\"ECO:0000305\"}],\"value\":\"Amyloid precursor protein\"}},{\"fullName\":{\"evidences\":[{\"evidenceCode\":\"ECO:0000250\",\"source\":\"UniProtKB\",\"id\":\"P12023\"}],\"value\":\"Amyloid-beta (A4) precursor protein\"}},{\"fullName\":{\"value\":\"Amyloid-beta A4 protein\"}},{\"fullName\":{\"value\":\"Cerebral vascular amyloid peptide\"},\"shortNames\":[{\"value\":\"CVAP\"}]},{\"fullName\":{\"value\":\"PreA4\"}},{\"fullName\":{\"value\":\"Protease nexin-II\"},\"shortNames\":[{\"value\":\"PN-II\"}]}],\"contains\":[{\"recommendedName\":{\"fullName\":{\"value\":\"N-APP\"}}},{\"recommendedName\":{\"fullName\":{\"evidences\":[{\"evidenceCode\":\"ECO:0000303\",\"source\":\"PubMed\",\"id\":\"10656250\"}],\"value\":\"Soluble APP-alpha\"},\"shortNames\":[{\"evidences\":[{\"evidenceCode\":\"ECO:0000303\",\"source\":\"PubMed\",\"id\":\"10656250\"}],\"value\":\"S-APP-alpha\"}]}},{\"recommendedName\":{\"fullName\":{\"evidences\":[{\"evidenceCode\":\"ECO:0000303\",\"source\":\"PubMed\",\"id\":\"10656250\"}],\"value\":\"Soluble APP-beta\"},\"shortNames\":[{\"evidences\":[{\"evidenceCode\":\"ECO:0000303\",\"source\":\"PubMed\",\"id\":\"10656250\"}],\"value\":\"S-APP-beta\"}]}},{\"recommendedName\":{\"fullName\":{\"value\":\"C99\"}},\"alternativeNames\":[{\"fullName\":{\"evidences\":[{\"evidenceCode\":\"ECO:0000303\",\"source\":\"PubMed\",\"id\":\"10656250\"}],\"value\":\"Beta-secretase C-terminal fragment\"},\"shortNames\":[{\"evidences\":[{\"evidenceCode\":\"ECO:0000303\",\"source\":\"PubMed\",\"id\":\"10656250\"}],\"value\":\"Beta-CTF\"}]}]},{\"recommendedName\":{\"fullName\":{\"evidences\":[{\"evidenceCode\":\"ECO:0000303\",\"source\":\"PubMed\",\"id\":\"8886002\"}],\"value\":\"Amyloid-beta protein 42\"},\"shortNames\":[{\"value\":\"Abeta42\"}]},\"alternativeNames\":[{\"fullName\":{\"value\":\"Beta-APP42\"}}]},{\"recommendedName\":{\"fullName\":{\"evidences\":[{\"evidenceCode\":\"ECO:0000303\",\"source\":\"PubMed\",\"id\":\"8886002\"}],\"value\":\"Amyloid-beta protein 40\"},\"shortNames\":[{\"value\":\"Abeta40\"}]},\"alternativeNames\":[{\"fullName\":{\"value\":\"Beta-APP40\"}}]},{\"recommendedName\":{\"fullName\":{\"value\":\"C83\"}},\"alternativeNames\":[{\"fullName\":{\"evidences\":[{\"evidenceCode\":\"ECO:0000303\",\"source\":\"PubMed\",\"id\":\"10656250\"}],\"value\":\"Alpha-secretase C-terminal fragment\"},\"shortNames\":[{\"evidences\":[{\"evidenceCode\":\"ECO:0000303\",\"source\":\"PubMed\",\"id\":\"10656250\"}],\"value\":\"Alpha-CTF\"}]}]},{\"recommendedName\":{\"fullName\":{\"value\":\"P3(42)\"}}},{\"recommendedName\":{\"fullName\":{\"value\":\"P3(40)\"}}},{\"recommendedName\":{\"fullName\":{\"value\":\"C80\"}}},{\"recommendedName\":{\"fullName\":{\"value\":\"Gamma-secretase C-terminal fragment 59\"}},\"alternativeNames\":[{\"fullName\":{\"value\":\"Amyloid intracellular domain 59\"},\"shortNames\":[{\"value\":\"AICD-59\"},{\"value\":\"AID(59)\"}]},{\"fullName\":{\"value\":\"Gamma-CTF(59)\"}}]},{\"recommendedName\":{\"fullName\":{\"value\":\"Gamma-secretase C-terminal fragment 57\"}},\"alternativeNames\":[{\"fullName\":{\"value\":\"Amyloid intracellular domain 57\"},\"shortNames\":[{\"value\":\"AICD-57\"},{\"value\":\"AID(57)\"}]},{\"fullName\":{\"value\":\"Gamma-CTF(57)\"}}]},{\"recommendedName\":{\"fullName\":{\"value\":\"Gamma-secretase C-terminal fragment 50\"}},\"alternativeNames\":[{\"fullName\":{\"value\":\"Amyloid intracellular domain 50\"},\"shortNames\":[{\"value\":\"AICD-50\"},{\"value\":\"AID(50)\"}]},{\"fullName\":{\"value\":\"Gamma-CTF(50)\"}}]},{\"recommendedName\":{\"fullName\":{\"value\":\"C31\"}}}],\"flag\":\"Precursor\"},\"comments\":[{\"texts\":[{\"evidences\":[{\"evidenceCode\":\"ECO:0000250\"},{\"evidenceCode\":\"ECO:0000250\",\"source\":\"UniProtKB\",\"id\":\"P12023\"},{\"evidenceCode\":\"ECO:0000269\",\"source\":\"PubMed\",\"id\":\"17062754\"},{\"evidenceCode\":\"ECO:0000269\",\"source\":\"PubMed\",\"id\":\"23011729\"},{\"evidenceCode\":\"ECO:0000269\",\"source\":\"PubMed\",\"id\":\"25122912\"}],\"value\":\"Functions as a cell surface receptor and performs physiological functions on the surface of neurons relevant to neurite growth, neuronal adhesion and axonogenesis. Interaction between APP molecules on neighboring cells promotes synaptogenesis (PubMed:25122912). Involved in cell mobility and transcription regulation through protein-protein interactions. Can promote transcription activation through binding to APBB1-KAT5 and inhibits Notch signaling through interaction with Numb. Couples to apoptosis-inducing pathways such as those mediated by G(o) and JIP. Inhibits G(o) alpha ATPase activity (By similarity). Acts as a kinesin I membrane receptor, mediating the axonal transport of beta-secretase and presenilin 1 (By similarity). By acting as a kinesin I membrane receptor, plays a role in axonal anterograde transport of cargo towards synapses in axons (PubMed:17062754, PubMed:23011729). Involved in copper homeostasis/oxidative stress through copper ion reduction. In vitro, copper-metallated APP induces neuronal death directly or is potentiated through Cu(2+)-mediated low-density lipoprotein oxidation. Can regulate neurite outgrowth through binding to components of the extracellular matrix such as heparin and collagen I and IV. The splice isoforms that contain the BPTI domain possess protease inhibitor activity. Induces a AGER-dependent pathway that involves activation of p38 MAPK, resulting in internalization of amyloid-beta peptide and leading to mitochondrial dysfunction in cultured cortical neurons. Provides Cu(2+) ions for GPC1 which are required for release of nitric oxide (NO) and subsequent degradation of the heparan sulfate chains on GPC1\"}],\"commentType\":\"FUNCTION\"},{\"texts\":[{\"value\":\"Amyloid-beta peptides are lipophilic metal chelators with metal-reducing activity. Bind transient metals such as copper, zinc and iron. In vitro, can reduce Cu(2+) and Fe(3+) to Cu(+) and Fe(2+), respectively. Amyloid-beta peptides bind to lipoproteins and apolipoproteins E and J in the CSF and to HDL particles in plasma, inhibiting metal-catalyzed oxidation of lipoproteins. Promotes both tau aggregation and TPK II-mediated phosphorylation. Interaction with overexpressed HADH2 leads to oxidative stress and neurotoxicity. Also binds GPC1 in lipid rafts\"}],\"commentType\":\"FUNCTION\"},{\"texts\":[{\"value\":\"More effective reductant than amyloid-beta protein 40. May activate mononuclear phagocytes in the brain and elicit inflammatory responses\"}],\"commentType\":\"FUNCTION\",\"molecule\":\"Amyloid-beta protein 42\"},{\"texts\":[{\"evidences\":[{\"evidenceCode\":\"ECO:0000250\"}],\"value\":\"Appicans elicit adhesion of neural cells to the extracellular matrix and may regulate neurite outgrowth in the brain\"}],\"commentType\":\"FUNCTION\"},{\"texts\":[{\"value\":\"The gamma-CTF peptides as well as the caspase-cleaved peptides, including C31, are potent enhancers of neuronal apoptosis\"}],\"commentType\":\"FUNCTION\"}],\"extraAttributes\":{\"uniParcId\":\"UPI000002DB1C\"}}'"
      ]
     },
     "execution_count": 31,
     "metadata": {},
     "output_type": "execute_result"
    }
   ],
   "source": [
    "response.text"
   ]
  },
  {
   "cell_type": "markdown",
   "id": "38b08645",
   "metadata": {},
   "source": [
    "If you know the response is supposed to be JSON the response object has a built-in method to parse the JSON for you."
   ]
  },
  {
   "cell_type": "code",
   "execution_count": null,
   "id": "2047e530",
   "metadata": {},
   "outputs": [
    {
     "data": {
      "text/plain": [
       "<bound method Response.json of <Response [200]>>"
      ]
     },
     "execution_count": 32,
     "metadata": {},
     "output_type": "execute_result"
    }
   ],
   "source": [
    "response.json"
   ]
  },
  {
   "cell_type": "code",
   "execution_count": null,
   "id": "ffdd6129",
   "metadata": {},
   "outputs": [
    {
     "data": {
      "text/plain": [
       "{'entryType': 'UniProtKB reviewed (Swiss-Prot)',\n",
       " 'primaryAccession': 'P05067',\n",
       " 'proteinDescription': {'recommendedName': {'fullName': {'evidences': [{'evidenceCode': 'ECO:0000312',\n",
       "      'source': 'HGNC',\n",
       "      'id': 'HGNC:620'}],\n",
       "    'value': 'Amyloid-beta precursor protein'},\n",
       "   'shortNames': [{'evidences': [{'evidenceCode': 'ECO:0000312',\n",
       "       'source': 'HGNC',\n",
       "       'id': 'HGNC:620'}],\n",
       "     'value': 'APP'}]},\n",
       "  'alternativeNames': [{'fullName': {'value': 'ABPP'}},\n",
       "   {'fullName': {'value': 'APPI'}},\n",
       "   {'fullName': {'value': 'Alzheimer disease amyloid A4 protein homolog'}},\n",
       "   {'fullName': {'value': 'Alzheimer disease amyloid protein'}},\n",
       "   {'fullName': {'evidences': [{'evidenceCode': 'ECO:0000305'}],\n",
       "     'value': 'Amyloid precursor protein'}},\n",
       "   {'fullName': {'evidences': [{'evidenceCode': 'ECO:0000250',\n",
       "       'source': 'UniProtKB',\n",
       "       'id': 'P12023'}],\n",
       "     'value': 'Amyloid-beta (A4) precursor protein'}},\n",
       "   {'fullName': {'value': 'Amyloid-beta A4 protein'}},\n",
       "   {'fullName': {'value': 'Cerebral vascular amyloid peptide'},\n",
       "    'shortNames': [{'value': 'CVAP'}]},\n",
       "   {'fullName': {'value': 'PreA4'}},\n",
       "   {'fullName': {'value': 'Protease nexin-II'},\n",
       "    'shortNames': [{'value': 'PN-II'}]}],\n",
       "  'contains': [{'recommendedName': {'fullName': {'value': 'N-APP'}}},\n",
       "   {'recommendedName': {'fullName': {'evidences': [{'evidenceCode': 'ECO:0000303',\n",
       "        'source': 'PubMed',\n",
       "        'id': '10656250'}],\n",
       "      'value': 'Soluble APP-alpha'},\n",
       "     'shortNames': [{'evidences': [{'evidenceCode': 'ECO:0000303',\n",
       "         'source': 'PubMed',\n",
       "         'id': '10656250'}],\n",
       "       'value': 'S-APP-alpha'}]}},\n",
       "   {'recommendedName': {'fullName': {'evidences': [{'evidenceCode': 'ECO:0000303',\n",
       "        'source': 'PubMed',\n",
       "        'id': '10656250'}],\n",
       "      'value': 'Soluble APP-beta'},\n",
       "     'shortNames': [{'evidences': [{'evidenceCode': 'ECO:0000303',\n",
       "         'source': 'PubMed',\n",
       "         'id': '10656250'}],\n",
       "       'value': 'S-APP-beta'}]}},\n",
       "   {'recommendedName': {'fullName': {'value': 'C99'}},\n",
       "    'alternativeNames': [{'fullName': {'evidences': [{'evidenceCode': 'ECO:0000303',\n",
       "         'source': 'PubMed',\n",
       "         'id': '10656250'}],\n",
       "       'value': 'Beta-secretase C-terminal fragment'},\n",
       "      'shortNames': [{'evidences': [{'evidenceCode': 'ECO:0000303',\n",
       "          'source': 'PubMed',\n",
       "          'id': '10656250'}],\n",
       "        'value': 'Beta-CTF'}]}]},\n",
       "   {'recommendedName': {'fullName': {'evidences': [{'evidenceCode': 'ECO:0000303',\n",
       "        'source': 'PubMed',\n",
       "        'id': '8886002'}],\n",
       "      'value': 'Amyloid-beta protein 42'},\n",
       "     'shortNames': [{'value': 'Abeta42'}]},\n",
       "    'alternativeNames': [{'fullName': {'value': 'Beta-APP42'}}]},\n",
       "   {'recommendedName': {'fullName': {'evidences': [{'evidenceCode': 'ECO:0000303',\n",
       "        'source': 'PubMed',\n",
       "        'id': '8886002'}],\n",
       "      'value': 'Amyloid-beta protein 40'},\n",
       "     'shortNames': [{'value': 'Abeta40'}]},\n",
       "    'alternativeNames': [{'fullName': {'value': 'Beta-APP40'}}]},\n",
       "   {'recommendedName': {'fullName': {'value': 'C83'}},\n",
       "    'alternativeNames': [{'fullName': {'evidences': [{'evidenceCode': 'ECO:0000303',\n",
       "         'source': 'PubMed',\n",
       "         'id': '10656250'}],\n",
       "       'value': 'Alpha-secretase C-terminal fragment'},\n",
       "      'shortNames': [{'evidences': [{'evidenceCode': 'ECO:0000303',\n",
       "          'source': 'PubMed',\n",
       "          'id': '10656250'}],\n",
       "        'value': 'Alpha-CTF'}]}]},\n",
       "   {'recommendedName': {'fullName': {'value': 'P3(42)'}}},\n",
       "   {'recommendedName': {'fullName': {'value': 'P3(40)'}}},\n",
       "   {'recommendedName': {'fullName': {'value': 'C80'}}},\n",
       "   {'recommendedName': {'fullName': {'value': 'Gamma-secretase C-terminal fragment 59'}},\n",
       "    'alternativeNames': [{'fullName': {'value': 'Amyloid intracellular domain 59'},\n",
       "      'shortNames': [{'value': 'AICD-59'}, {'value': 'AID(59)'}]},\n",
       "     {'fullName': {'value': 'Gamma-CTF(59)'}}]},\n",
       "   {'recommendedName': {'fullName': {'value': 'Gamma-secretase C-terminal fragment 57'}},\n",
       "    'alternativeNames': [{'fullName': {'value': 'Amyloid intracellular domain 57'},\n",
       "      'shortNames': [{'value': 'AICD-57'}, {'value': 'AID(57)'}]},\n",
       "     {'fullName': {'value': 'Gamma-CTF(57)'}}]},\n",
       "   {'recommendedName': {'fullName': {'value': 'Gamma-secretase C-terminal fragment 50'}},\n",
       "    'alternativeNames': [{'fullName': {'value': 'Amyloid intracellular domain 50'},\n",
       "      'shortNames': [{'value': 'AICD-50'}, {'value': 'AID(50)'}]},\n",
       "     {'fullName': {'value': 'Gamma-CTF(50)'}}]},\n",
       "   {'recommendedName': {'fullName': {'value': 'C31'}}}],\n",
       "  'flag': 'Precursor'},\n",
       " 'comments': [{'texts': [{'evidences': [{'evidenceCode': 'ECO:0000250'},\n",
       "      {'evidenceCode': 'ECO:0000250', 'source': 'UniProtKB', 'id': 'P12023'},\n",
       "      {'evidenceCode': 'ECO:0000269', 'source': 'PubMed', 'id': '17062754'},\n",
       "      {'evidenceCode': 'ECO:0000269', 'source': 'PubMed', 'id': '23011729'},\n",
       "      {'evidenceCode': 'ECO:0000269', 'source': 'PubMed', 'id': '25122912'}],\n",
       "     'value': 'Functions as a cell surface receptor and performs physiological functions on the surface of neurons relevant to neurite growth, neuronal adhesion and axonogenesis. Interaction between APP molecules on neighboring cells promotes synaptogenesis (PubMed:25122912). Involved in cell mobility and transcription regulation through protein-protein interactions. Can promote transcription activation through binding to APBB1-KAT5 and inhibits Notch signaling through interaction with Numb. Couples to apoptosis-inducing pathways such as those mediated by G(o) and JIP. Inhibits G(o) alpha ATPase activity (By similarity). Acts as a kinesin I membrane receptor, mediating the axonal transport of beta-secretase and presenilin 1 (By similarity). By acting as a kinesin I membrane receptor, plays a role in axonal anterograde transport of cargo towards synapses in axons (PubMed:17062754, PubMed:23011729). Involved in copper homeostasis/oxidative stress through copper ion reduction. In vitro, copper-metallated APP induces neuronal death directly or is potentiated through Cu(2+)-mediated low-density lipoprotein oxidation. Can regulate neurite outgrowth through binding to components of the extracellular matrix such as heparin and collagen I and IV. The splice isoforms that contain the BPTI domain possess protease inhibitor activity. Induces a AGER-dependent pathway that involves activation of p38 MAPK, resulting in internalization of amyloid-beta peptide and leading to mitochondrial dysfunction in cultured cortical neurons. Provides Cu(2+) ions for GPC1 which are required for release of nitric oxide (NO) and subsequent degradation of the heparan sulfate chains on GPC1'}],\n",
       "   'commentType': 'FUNCTION'},\n",
       "  {'texts': [{'value': 'Amyloid-beta peptides are lipophilic metal chelators with metal-reducing activity. Bind transient metals such as copper, zinc and iron. In vitro, can reduce Cu(2+) and Fe(3+) to Cu(+) and Fe(2+), respectively. Amyloid-beta peptides bind to lipoproteins and apolipoproteins E and J in the CSF and to HDL particles in plasma, inhibiting metal-catalyzed oxidation of lipoproteins. Promotes both tau aggregation and TPK II-mediated phosphorylation. Interaction with overexpressed HADH2 leads to oxidative stress and neurotoxicity. Also binds GPC1 in lipid rafts'}],\n",
       "   'commentType': 'FUNCTION'},\n",
       "  {'texts': [{'value': 'More effective reductant than amyloid-beta protein 40. May activate mononuclear phagocytes in the brain and elicit inflammatory responses'}],\n",
       "   'commentType': 'FUNCTION',\n",
       "   'molecule': 'Amyloid-beta protein 42'},\n",
       "  {'texts': [{'evidences': [{'evidenceCode': 'ECO:0000250'}],\n",
       "     'value': 'Appicans elicit adhesion of neural cells to the extracellular matrix and may regulate neurite outgrowth in the brain'}],\n",
       "   'commentType': 'FUNCTION'},\n",
       "  {'texts': [{'value': 'The gamma-CTF peptides as well as the caspase-cleaved peptides, including C31, are potent enhancers of neuronal apoptosis'}],\n",
       "   'commentType': 'FUNCTION'}],\n",
       " 'extraAttributes': {'uniParcId': 'UPI000002DB1C'}}"
      ]
     },
     "execution_count": 33,
     "metadata": {},
     "output_type": "execute_result"
    }
   ],
   "source": [
    "response.json()"
   ]
  },
  {
   "cell_type": "code",
   "execution_count": null,
   "id": "adf5545f",
   "metadata": {},
   "outputs": [],
   "source": [
    "json_data = response.json()"
   ]
  },
  {
   "cell_type": "markdown",
   "id": "fe714172",
   "metadata": {},
   "source": [
    "The parsed JSON will be some combination of Python dictionaries and lists, depending on the structure of the JSON data. You can access the data using standard Python dictionary and list syntax."
   ]
  },
  {
   "cell_type": "code",
   "execution_count": null,
   "id": "0ce7ff21",
   "metadata": {},
   "outputs": [
    {
     "data": {
      "text/plain": [
       "dict"
      ]
     },
     "execution_count": 35,
     "metadata": {},
     "output_type": "execute_result"
    }
   ],
   "source": [
    "type(json_data)"
   ]
  },
  {
   "cell_type": "code",
   "execution_count": null,
   "id": "02dea61c",
   "metadata": {},
   "outputs": [
    {
     "data": {
      "text/plain": [
       "dict_keys(['entryType', 'primaryAccession', 'proteinDescription', 'comments', 'extraAttributes'])"
      ]
     },
     "execution_count": 36,
     "metadata": {},
     "output_type": "execute_result"
    }
   ],
   "source": [
    "json_data.keys()"
   ]
  },
  {
   "cell_type": "code",
   "execution_count": null,
   "id": "d407efee",
   "metadata": {},
   "outputs": [
    {
     "data": {
      "text/plain": [
       "'P05067'"
      ]
     },
     "execution_count": 37,
     "metadata": {},
     "output_type": "execute_result"
    }
   ],
   "source": [
    "json_data[\"primaryAccession\"]"
   ]
  },
  {
   "cell_type": "code",
   "execution_count": null,
   "id": "474e5e09",
   "metadata": {},
   "outputs": [
    {
     "data": {
      "text/plain": [
       "{'recommendedName': {'fullName': {'evidences': [{'evidenceCode': 'ECO:0000312',\n",
       "     'source': 'HGNC',\n",
       "     'id': 'HGNC:620'}],\n",
       "   'value': 'Amyloid-beta precursor protein'},\n",
       "  'shortNames': [{'evidences': [{'evidenceCode': 'ECO:0000312',\n",
       "      'source': 'HGNC',\n",
       "      'id': 'HGNC:620'}],\n",
       "    'value': 'APP'}]},\n",
       " 'alternativeNames': [{'fullName': {'value': 'ABPP'}},\n",
       "  {'fullName': {'value': 'APPI'}},\n",
       "  {'fullName': {'value': 'Alzheimer disease amyloid A4 protein homolog'}},\n",
       "  {'fullName': {'value': 'Alzheimer disease amyloid protein'}},\n",
       "  {'fullName': {'evidences': [{'evidenceCode': 'ECO:0000305'}],\n",
       "    'value': 'Amyloid precursor protein'}},\n",
       "  {'fullName': {'evidences': [{'evidenceCode': 'ECO:0000250',\n",
       "      'source': 'UniProtKB',\n",
       "      'id': 'P12023'}],\n",
       "    'value': 'Amyloid-beta (A4) precursor protein'}},\n",
       "  {'fullName': {'value': 'Amyloid-beta A4 protein'}},\n",
       "  {'fullName': {'value': 'Cerebral vascular amyloid peptide'},\n",
       "   'shortNames': [{'value': 'CVAP'}]},\n",
       "  {'fullName': {'value': 'PreA4'}},\n",
       "  {'fullName': {'value': 'Protease nexin-II'},\n",
       "   'shortNames': [{'value': 'PN-II'}]}],\n",
       " 'contains': [{'recommendedName': {'fullName': {'value': 'N-APP'}}},\n",
       "  {'recommendedName': {'fullName': {'evidences': [{'evidenceCode': 'ECO:0000303',\n",
       "       'source': 'PubMed',\n",
       "       'id': '10656250'}],\n",
       "     'value': 'Soluble APP-alpha'},\n",
       "    'shortNames': [{'evidences': [{'evidenceCode': 'ECO:0000303',\n",
       "        'source': 'PubMed',\n",
       "        'id': '10656250'}],\n",
       "      'value': 'S-APP-alpha'}]}},\n",
       "  {'recommendedName': {'fullName': {'evidences': [{'evidenceCode': 'ECO:0000303',\n",
       "       'source': 'PubMed',\n",
       "       'id': '10656250'}],\n",
       "     'value': 'Soluble APP-beta'},\n",
       "    'shortNames': [{'evidences': [{'evidenceCode': 'ECO:0000303',\n",
       "        'source': 'PubMed',\n",
       "        'id': '10656250'}],\n",
       "      'value': 'S-APP-beta'}]}},\n",
       "  {'recommendedName': {'fullName': {'value': 'C99'}},\n",
       "   'alternativeNames': [{'fullName': {'evidences': [{'evidenceCode': 'ECO:0000303',\n",
       "        'source': 'PubMed',\n",
       "        'id': '10656250'}],\n",
       "      'value': 'Beta-secretase C-terminal fragment'},\n",
       "     'shortNames': [{'evidences': [{'evidenceCode': 'ECO:0000303',\n",
       "         'source': 'PubMed',\n",
       "         'id': '10656250'}],\n",
       "       'value': 'Beta-CTF'}]}]},\n",
       "  {'recommendedName': {'fullName': {'evidences': [{'evidenceCode': 'ECO:0000303',\n",
       "       'source': 'PubMed',\n",
       "       'id': '8886002'}],\n",
       "     'value': 'Amyloid-beta protein 42'},\n",
       "    'shortNames': [{'value': 'Abeta42'}]},\n",
       "   'alternativeNames': [{'fullName': {'value': 'Beta-APP42'}}]},\n",
       "  {'recommendedName': {'fullName': {'evidences': [{'evidenceCode': 'ECO:0000303',\n",
       "       'source': 'PubMed',\n",
       "       'id': '8886002'}],\n",
       "     'value': 'Amyloid-beta protein 40'},\n",
       "    'shortNames': [{'value': 'Abeta40'}]},\n",
       "   'alternativeNames': [{'fullName': {'value': 'Beta-APP40'}}]},\n",
       "  {'recommendedName': {'fullName': {'value': 'C83'}},\n",
       "   'alternativeNames': [{'fullName': {'evidences': [{'evidenceCode': 'ECO:0000303',\n",
       "        'source': 'PubMed',\n",
       "        'id': '10656250'}],\n",
       "      'value': 'Alpha-secretase C-terminal fragment'},\n",
       "     'shortNames': [{'evidences': [{'evidenceCode': 'ECO:0000303',\n",
       "         'source': 'PubMed',\n",
       "         'id': '10656250'}],\n",
       "       'value': 'Alpha-CTF'}]}]},\n",
       "  {'recommendedName': {'fullName': {'value': 'P3(42)'}}},\n",
       "  {'recommendedName': {'fullName': {'value': 'P3(40)'}}},\n",
       "  {'recommendedName': {'fullName': {'value': 'C80'}}},\n",
       "  {'recommendedName': {'fullName': {'value': 'Gamma-secretase C-terminal fragment 59'}},\n",
       "   'alternativeNames': [{'fullName': {'value': 'Amyloid intracellular domain 59'},\n",
       "     'shortNames': [{'value': 'AICD-59'}, {'value': 'AID(59)'}]},\n",
       "    {'fullName': {'value': 'Gamma-CTF(59)'}}]},\n",
       "  {'recommendedName': {'fullName': {'value': 'Gamma-secretase C-terminal fragment 57'}},\n",
       "   'alternativeNames': [{'fullName': {'value': 'Amyloid intracellular domain 57'},\n",
       "     'shortNames': [{'value': 'AICD-57'}, {'value': 'AID(57)'}]},\n",
       "    {'fullName': {'value': 'Gamma-CTF(57)'}}]},\n",
       "  {'recommendedName': {'fullName': {'value': 'Gamma-secretase C-terminal fragment 50'}},\n",
       "   'alternativeNames': [{'fullName': {'value': 'Amyloid intracellular domain 50'},\n",
       "     'shortNames': [{'value': 'AICD-50'}, {'value': 'AID(50)'}]},\n",
       "    {'fullName': {'value': 'Gamma-CTF(50)'}}]},\n",
       "  {'recommendedName': {'fullName': {'value': 'C31'}}}],\n",
       " 'flag': 'Precursor'}"
      ]
     },
     "execution_count": 38,
     "metadata": {},
     "output_type": "execute_result"
    }
   ],
   "source": [
    "json_data[\"proteinDescription\"]"
   ]
  },
  {
   "cell_type": "code",
   "execution_count": null,
   "id": "4b3b81f5",
   "metadata": {},
   "outputs": [
    {
     "data": {
      "text/plain": [
       "[{'fullName': {'value': 'ABPP'}},\n",
       " {'fullName': {'value': 'APPI'}},\n",
       " {'fullName': {'value': 'Alzheimer disease amyloid A4 protein homolog'}},\n",
       " {'fullName': {'value': 'Alzheimer disease amyloid protein'}},\n",
       " {'fullName': {'evidences': [{'evidenceCode': 'ECO:0000305'}],\n",
       "   'value': 'Amyloid precursor protein'}},\n",
       " {'fullName': {'evidences': [{'evidenceCode': 'ECO:0000250',\n",
       "     'source': 'UniProtKB',\n",
       "     'id': 'P12023'}],\n",
       "   'value': 'Amyloid-beta (A4) precursor protein'}},\n",
       " {'fullName': {'value': 'Amyloid-beta A4 protein'}},\n",
       " {'fullName': {'value': 'Cerebral vascular amyloid peptide'},\n",
       "  'shortNames': [{'value': 'CVAP'}]},\n",
       " {'fullName': {'value': 'PreA4'}},\n",
       " {'fullName': {'value': 'Protease nexin-II'},\n",
       "  'shortNames': [{'value': 'PN-II'}]}]"
      ]
     },
     "execution_count": 39,
     "metadata": {},
     "output_type": "execute_result"
    }
   ],
   "source": [
    "json_data['proteinDescription']['alternativeNames']"
   ]
  }
 ],
 "metadata": {
  "kernelspec": {
   "display_name": "default",
   "language": "python",
   "name": "python3"
  },
  "language_info": {
   "codemirror_mode": {
    "name": "ipython",
    "version": 3
   },
   "file_extension": ".py",
   "mimetype": "text/x-python",
   "name": "python",
   "nbconvert_exporter": "python",
   "pygments_lexer": "ipython3",
   "version": "3.12.11"
  }
 },
 "nbformat": 4,
 "nbformat_minor": 5
}
