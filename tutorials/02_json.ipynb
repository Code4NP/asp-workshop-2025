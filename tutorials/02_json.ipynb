{
 "cells": [
  {
   "cell_type": "markdown",
   "id": "e46545bf",
   "metadata": {},
   "source": [
    "---\n",
    "title: \"JSON-JavaScript Object Notation\"\n",
    "author:\n",
    "  - name: \n",
    "      given: Chase\n",
    "      family: Clark\n",
    "      non-dropping-particle: M\n",
    "    roles: [original draft, review & editing]\n",
    "    url: \n",
    "    affiliation: EVOQUANT LLC\n",
    "    orcid: 0000-0001-6439-9397\n",
    "categories: [beginner, python]\n",
    "date: \"2025-07-22\"\n",
    "description: \"\"\n",
    "draft: false\n",
    "appendix-cite-as: display\n",
    "funding: \"The author(s) received no funding for this work.\"\n",
    "citation: true\n",
    "execute:\n",
    "  freeze: true\n",
    "---"
   ]
  },
  {
   "cell_type": "markdown",
   "id": "1a432bf2",
   "metadata": {},
   "source": [
    "```sh\n",
    "\n",
    "curl -sX 'GET' \\\n",
    "  'https://rest.uniprot.org/uniprotkb/P05067?fields=accession%2Cprotein_name%2Ccc_function' \\\n",
    "  -H 'accept: application/json' |\\\n",
    "jq |\\\n",
    "less\n",
    "\n",
    "```"
   ]
  },
  {
   "cell_type": "markdown",
   "id": "3be2dc5e",
   "metadata": {},
   "source": [
    ">JSON (JavaScript Object Notation) is a lightweight data-interchange format. It is easy for humans to read and write. It is easy for machines to parse and generate. It is based on a subset of the JavaScript Programming Language Standard ECMA-262 3rd Edition - December 1999. JSON is a text format that is completely language independent but uses conventions that are familiar to programmers of the C-family of languages, including C, C++, C#, Java, JavaScript, Perl, Python, and many others. These properties make JSON an ideal data-interchange language. (https://www.json.org/json-en.html)"
   ]
  },
  {
   "cell_type": "markdown",
   "id": "b7cec184",
   "metadata": {},
   "source": [
    "\"UniProt is the world's leading high-quality, comprehensive and freely accessible resource of protein sequence and functional information.\"\n",
    "\n",
    "UniProt provides [several different ways](https://www.uniprot.org/help/programmatic_access) to access its data, including the web interface you might be familiar with using, a REST API, a SPARQL endpoint, and a Java API. In this tutorial, we will focus on the [REST API](https://www.uniprot.org/api-documentation/uniprotkb), which allows us to retrieve data in JSON format.\n",
    "\n",
    "In addition to the APIs, UniProt also provides a bulk download service, which allows you to download large datasets via their FTP server. "
   ]
  },
  {
   "cell_type": "markdown",
   "id": "1432dd70",
   "metadata": {},
   "source": [
    "For this tutorial we will look at the specific REST API endpoint specified here: https://www.uniprot.org/api-documentation/uniprotkb#operations-UniProtKB-getByAccession\n",
    "\n",
    "\n",
    "The **domain** of this API is `rest.uniprot.org`, and the **path** is `/uniprotkb/{accession}`. The `{accession}` part of the path is a placeholder for the accession number of the protein you want to retrieve. For example, if you wanted to retrieve information about the protein with accession number `P05067`, you would use the following URL: `https://rest.uniprot.org/uniprotkb/P05067`. Additionally, you can specify which fields you want to retrieve by using the `fields` query parameter. For example, if you wanted to retrieve the accession number, protein name, and functions of the protein with accession number `P05067`, you would use the following URL: `https://rest.uniprot.org/uniprotkb/P05067?fields=accession,protein_name,cc_function`.\n",
    "\n",
    "REST APIs use HTTP URLs to access resources. This means URLs must be properly formatted and encoded, as they cannot contain spaces or certain special characters. For example, spaces are typically encoded as %20. Ensuring correct URL formatting is essential for the API to correctly interpret the request."
   ]
  },
  {
   "cell_type": "code",
   "execution_count": 26,
   "id": "0f707c58",
   "metadata": {},
   "outputs": [
    {
     "name": "stdout",
     "output_type": "stream",
     "text": [
      "I'm a string that would break a url if not encoded properly\n"
     ]
    }
   ],
   "source": [
    "import requests\n",
    "\n",
    "print(\"I'm a string that would break a url if not encoded properly\")"
   ]
  },
  {
   "cell_type": "code",
   "execution_count": 27,
   "id": "b17daa9c",
   "metadata": {},
   "outputs": [
    {
     "name": "stdout",
     "output_type": "stream",
     "text": [
      "I%27m%20a%20string%20that%20would%20break%20a%20url%20if%20not%20encoded%20properly\n"
     ]
    }
   ],
   "source": [
    "temp_variable = requests.utils.quote(\"I'm a string that would break a url if not encoded properly\")\n",
    "print(temp_variable)"
   ]
  },
  {
   "cell_type": "code",
   "execution_count": 28,
   "id": "8caa0711",
   "metadata": {},
   "outputs": [
    {
     "name": "stdout",
     "output_type": "stream",
     "text": [
      "I'm a string that would break a url if not encoded properly\n"
     ]
    }
   ],
   "source": [
    "temp_variable = requests.utils.unquote(temp_variable)\n",
    "print(temp_variable)"
   ]
  },
  {
   "cell_type": "code",
   "execution_count": 29,
   "id": "d6b7728b",
   "metadata": {},
   "outputs": [],
   "source": [
    "import requests\n",
    "\n",
    "# Define the base URL for the UniProt REST API\n",
    "rest_domain = \"https://rest.uniprot.org\"\n",
    "\n",
    "# Define the specific endpoint for retrieving protein information by accession number\n",
    "endpoint = \"/uniprotkb/{accession}\"\n",
    "\n",
    "# Define the accession number for the protein of interest\n",
    "accession = \"P05067\"\n",
    "\n",
    "# Define the fields to retrieve from the API (comma-separated)\n",
    "fields = \"accession,protein_name,cc_function\"\n",
    "\n",
    "# URL-encode the fields to ensure proper formatting (no illegal characters)\n",
    "encoded_fields = requests.utils.quote(fields)\n",
    "\n",
    "# Paste together the full URL with parameters\n",
    "url = f\"{rest_domain}{endpoint.format(accession=accession)}?fields={encoded_fields}\"\n"
   ]
  },
  {
   "cell_type": "code",
   "execution_count": 30,
   "id": "29fa94f2",
   "metadata": {},
   "outputs": [
    {
     "data": {
      "text/plain": [
       "'https://rest.uniprot.org/uniprotkb/P05067?fields=accession%2Cprotein_name%2Ccc_function'"
      ]
     },
     "execution_count": 30,
     "metadata": {},
     "output_type": "execute_result"
    }
   ],
   "source": [
    "url"
   ]
  },
  {
   "cell_type": "code",
   "execution_count": 31,
   "id": "d16b2ed5",
   "metadata": {},
   "outputs": [],
   "source": [
    "# Send the GET request to the API\n",
    "response = requests.get(url)"
   ]
  },
  {
   "cell_type": "markdown",
   "id": "f57f63a4",
   "metadata": {},
   "source": [
    "Check if the request was successful (status code 200). There are several ways to do this."
   ]
  },
  {
   "cell_type": "code",
   "execution_count": 32,
   "id": "eae565e9",
   "metadata": {},
   "outputs": [
    {
     "data": {
      "text/plain": [
       "<Response [200]>"
      ]
     },
     "execution_count": 32,
     "metadata": {},
     "output_type": "execute_result"
    }
   ],
   "source": [
    "# The response object will auto-print the status to the console\n",
    "response"
   ]
  },
  {
   "cell_type": "code",
   "execution_count": 33,
   "id": "b168ac91",
   "metadata": {},
   "outputs": [
    {
     "data": {
      "text/plain": [
       "200"
      ]
     },
     "execution_count": 33,
     "metadata": {},
     "output_type": "execute_result"
    }
   ],
   "source": [
    "response.status_code"
   ]
  },
  {
   "cell_type": "code",
   "execution_count": 34,
   "id": "11ba5293",
   "metadata": {},
   "outputs": [
    {
     "data": {
      "text/plain": [
       "True"
      ]
     },
     "execution_count": 34,
     "metadata": {},
     "output_type": "execute_result"
    }
   ],
   "source": [
    "response.ok"
   ]
  },
  {
   "cell_type": "markdown",
   "id": "3f7e132d",
   "metadata": {},
   "source": [
    "You can get the raw data that the API returned (Content of the response, in unicode.)"
   ]
  },
  {
   "cell_type": "code",
   "execution_count": 35,
   "id": "cdd68622",
   "metadata": {},
   "outputs": [
    {
     "data": {
      "text/plain": [
       "'{\"entryType\":\"UniProtKB reviewed (Swiss-Prot)\",\"primaryAccession\":\"P05067\",\"proteinDescription\":{\"recommendedName\":{\"fullName\":{\"evidences\":[{\"evidenceCode\":\"ECO:0000312\",\"source\":\"HGNC\",\"id\":\"HGNC:620\"}],\"value\":\"Amyloid-beta precursor protein\"},\"shortNames\":[{\"evidences\":[{\"evidenceCode\":\"ECO:0000312\",\"source\":\"HGNC\",\"id\":\"HGNC:620\"}],\"value\":\"APP\"}]},\"alternativeNames\":[{\"fullName\":{\"value\":\"ABPP\"}},{\"fullName\":{\"value\":\"APPI\"}},{\"fullName\":{\"value\":\"Alzheimer disease amyloid A4 protein homolog\"}},{\"fullName\":{\"value\":\"Alzheimer disease amyloid protein\"}},{\"fullName\":{\"evidences\":[{\"evidenceCode\":\"ECO:0000305\"}],\"value\":\"Amyloid precursor protein\"}},{\"fullName\":{\"evidences\":[{\"evidenceCode\":\"ECO:0000250\",\"source\":\"UniProtKB\",\"id\":\"P12023\"}],\"value\":\"Amyloid-beta (A4) precursor protein\"}},{\"fullName\":{\"value\":\"Amyloid-beta A4 protein\"}},{\"fullName\":{\"value\":\"Cerebral vascular amyloid peptide\"},\"shortNames\":[{\"value\":\"CVAP\"}]},{\"fullName\":{\"value\":\"PreA4\"}},{\"fullName\":{\"value\":\"Protease nexin-II\"},\"shortNames\":[{\"value\":\"PN-II\"}]}],\"contains\":[{\"recommendedName\":{\"fullName\":{\"value\":\"N-APP\"}}},{\"recommendedName\":{\"fullName\":{\"evidences\":[{\"evidenceCode\":\"ECO:0000303\",\"source\":\"PubMed\",\"id\":\"10656250\"}],\"value\":\"Soluble APP-alpha\"},\"shortNames\":[{\"evidences\":[{\"evidenceCode\":\"ECO:0000303\",\"source\":\"PubMed\",\"id\":\"10656250\"}],\"value\":\"S-APP-alpha\"}]}},{\"recommendedName\":{\"fullName\":{\"evidences\":[{\"evidenceCode\":\"ECO:0000303\",\"source\":\"PubMed\",\"id\":\"10656250\"}],\"value\":\"Soluble APP-beta\"},\"shortNames\":[{\"evidences\":[{\"evidenceCode\":\"ECO:0000303\",\"source\":\"PubMed\",\"id\":\"10656250\"}],\"value\":\"S-APP-beta\"}]}},{\"recommendedName\":{\"fullName\":{\"value\":\"C99\"}},\"alternativeNames\":[{\"fullName\":{\"evidences\":[{\"evidenceCode\":\"ECO:0000303\",\"source\":\"PubMed\",\"id\":\"10656250\"}],\"value\":\"Beta-secretase C-terminal fragment\"},\"shortNames\":[{\"evidences\":[{\"evidenceCode\":\"ECO:0000303\",\"source\":\"PubMed\",\"id\":\"10656250\"}],\"value\":\"Beta-CTF\"}]}]},{\"recommendedName\":{\"fullName\":{\"evidences\":[{\"evidenceCode\":\"ECO:0000303\",\"source\":\"PubMed\",\"id\":\"8886002\"}],\"value\":\"Amyloid-beta protein 42\"},\"shortNames\":[{\"value\":\"Abeta42\"}]},\"alternativeNames\":[{\"fullName\":{\"value\":\"Beta-APP42\"}}]},{\"recommendedName\":{\"fullName\":{\"evidences\":[{\"evidenceCode\":\"ECO:0000303\",\"source\":\"PubMed\",\"id\":\"8886002\"}],\"value\":\"Amyloid-beta protein 40\"},\"shortNames\":[{\"value\":\"Abeta40\"}]},\"alternativeNames\":[{\"fullName\":{\"value\":\"Beta-APP40\"}}]},{\"recommendedName\":{\"fullName\":{\"value\":\"C83\"}},\"alternativeNames\":[{\"fullName\":{\"evidences\":[{\"evidenceCode\":\"ECO:0000303\",\"source\":\"PubMed\",\"id\":\"10656250\"}],\"value\":\"Alpha-secretase C-terminal fragment\"},\"shortNames\":[{\"evidences\":[{\"evidenceCode\":\"ECO:0000303\",\"source\":\"PubMed\",\"id\":\"10656250\"}],\"value\":\"Alpha-CTF\"}]}]},{\"recommendedName\":{\"fullName\":{\"value\":\"P3(42)\"}}},{\"recommendedName\":{\"fullName\":{\"value\":\"P3(40)\"}}},{\"recommendedName\":{\"fullName\":{\"value\":\"C80\"}}},{\"recommendedName\":{\"fullName\":{\"value\":\"Gamma-secretase C-terminal fragment 59\"}},\"alternativeNames\":[{\"fullName\":{\"value\":\"Amyloid intracellular domain 59\"},\"shortNames\":[{\"value\":\"AICD-59\"},{\"value\":\"AID(59)\"}]},{\"fullName\":{\"value\":\"Gamma-CTF(59)\"}}]},{\"recommendedName\":{\"fullName\":{\"value\":\"Gamma-secretase C-terminal fragment 57\"}},\"alternativeNames\":[{\"fullName\":{\"value\":\"Amyloid intracellular domain 57\"},\"shortNames\":[{\"value\":\"AICD-57\"},{\"value\":\"AID(57)\"}]},{\"fullName\":{\"value\":\"Gamma-CTF(57)\"}}]},{\"recommendedName\":{\"fullName\":{\"value\":\"Gamma-secretase C-terminal fragment 50\"}},\"alternativeNames\":[{\"fullName\":{\"value\":\"Amyloid intracellular domain 50\"},\"shortNames\":[{\"value\":\"AICD-50\"},{\"value\":\"AID(50)\"}]},{\"fullName\":{\"value\":\"Gamma-CTF(50)\"}}]},{\"recommendedName\":{\"fullName\":{\"value\":\"C31\"}}}],\"flag\":\"Precursor\"},\"comments\":[{\"texts\":[{\"evidences\":[{\"evidenceCode\":\"ECO:0000250\"},{\"evidenceCode\":\"ECO:0000250\",\"source\":\"UniProtKB\",\"id\":\"P12023\"},{\"evidenceCode\":\"ECO:0000269\",\"source\":\"PubMed\",\"id\":\"17062754\"},{\"evidenceCode\":\"ECO:0000269\",\"source\":\"PubMed\",\"id\":\"23011729\"},{\"evidenceCode\":\"ECO:0000269\",\"source\":\"PubMed\",\"id\":\"25122912\"}],\"value\":\"Functions as a cell surface receptor and performs physiological functions on the surface of neurons relevant to neurite growth, neuronal adhesion and axonogenesis. Interaction between APP molecules on neighboring cells promotes synaptogenesis (PubMed:25122912). Involved in cell mobility and transcription regulation through protein-protein interactions. Can promote transcription activation through binding to APBB1-KAT5 and inhibits Notch signaling through interaction with Numb. Couples to apoptosis-inducing pathways such as those mediated by G(o) and JIP. Inhibits G(o) alpha ATPase activity (By similarity). Acts as a kinesin I membrane receptor, mediating the axonal transport of beta-secretase and presenilin 1 (By similarity). By acting as a kinesin I membrane receptor, plays a role in axonal anterograde transport of cargo towards synapses in axons (PubMed:17062754, PubMed:23011729). Involved in copper homeostasis/oxidative stress through copper ion reduction. In vitro, copper-metallated APP induces neuronal death directly or is potentiated through Cu(2+)-mediated low-density lipoprotein oxidation. Can regulate neurite outgrowth through binding to components of the extracellular matrix such as heparin and collagen I and IV. The splice isoforms that contain the BPTI domain possess protease inhibitor activity. Induces a AGER-dependent pathway that involves activation of p38 MAPK, resulting in internalization of amyloid-beta peptide and leading to mitochondrial dysfunction in cultured cortical neurons. Provides Cu(2+) ions for GPC1 which are required for release of nitric oxide (NO) and subsequent degradation of the heparan sulfate chains on GPC1\"}],\"commentType\":\"FUNCTION\"},{\"texts\":[{\"value\":\"Amyloid-beta peptides are lipophilic metal chelators with metal-reducing activity. Bind transient metals such as copper, zinc and iron. In vitro, can reduce Cu(2+) and Fe(3+) to Cu(+) and Fe(2+), respectively. Amyloid-beta peptides bind to lipoproteins and apolipoproteins E and J in the CSF and to HDL particles in plasma, inhibiting metal-catalyzed oxidation of lipoproteins. Promotes both tau aggregation and TPK II-mediated phosphorylation. Interaction with overexpressed HADH2 leads to oxidative stress and neurotoxicity. Also binds GPC1 in lipid rafts\"}],\"commentType\":\"FUNCTION\"},{\"texts\":[{\"value\":\"More effective reductant than amyloid-beta protein 40. May activate mononuclear phagocytes in the brain and elicit inflammatory responses\"}],\"commentType\":\"FUNCTION\",\"molecule\":\"Amyloid-beta protein 42\"},{\"texts\":[{\"evidences\":[{\"evidenceCode\":\"ECO:0000250\"}],\"value\":\"Appicans elicit adhesion of neural cells to the extracellular matrix and may regulate neurite outgrowth in the brain\"}],\"commentType\":\"FUNCTION\"},{\"texts\":[{\"value\":\"The gamma-CTF peptides as well as the caspase-cleaved peptides, including C31, are potent enhancers of neuronal apoptosis\"}],\"commentType\":\"FUNCTION\"}],\"extraAttributes\":{\"uniParcId\":\"UPI000002DB1C\"}}'"
      ]
     },
     "execution_count": 35,
     "metadata": {},
     "output_type": "execute_result"
    }
   ],
   "source": [
    "response.text"
   ]
  },
  {
   "cell_type": "markdown",
   "id": "38b08645",
   "metadata": {},
   "source": [
    "If you know the response is supposed to be JSON the response object has a built-in method to parse the JSON for you."
   ]
  },
  {
   "cell_type": "code",
   "execution_count": 36,
   "id": "2047e530",
   "metadata": {},
   "outputs": [
    {
     "data": {
      "text/plain": [
       "<bound method Response.json of <Response [200]>>"
      ]
     },
     "execution_count": 36,
     "metadata": {},
     "output_type": "execute_result"
    }
   ],
   "source": [
    "response.json"
   ]
  },
  {
   "cell_type": "code",
   "execution_count": 37,
   "id": "ffdd6129",
   "metadata": {},
   "outputs": [
    {
     "data": {
      "text/plain": [
       "{'entryType': 'UniProtKB reviewed (Swiss-Prot)',\n",
       " 'primaryAccession': 'P05067',\n",
       " 'proteinDescription': {'recommendedName': {'fullName': {'evidences': [{'evidenceCode': 'ECO:0000312',\n",
       "      'source': 'HGNC',\n",
       "      'id': 'HGNC:620'}],\n",
       "    'value': 'Amyloid-beta precursor protein'},\n",
       "   'shortNames': [{'evidences': [{'evidenceCode': 'ECO:0000312',\n",
       "       'source': 'HGNC',\n",
       "       'id': 'HGNC:620'}],\n",
       "     'value': 'APP'}]},\n",
       "  'alternativeNames': [{'fullName': {'value': 'ABPP'}},\n",
       "   {'fullName': {'value': 'APPI'}},\n",
       "   {'fullName': {'value': 'Alzheimer disease amyloid A4 protein homolog'}},\n",
       "   {'fullName': {'value': 'Alzheimer disease amyloid protein'}},\n",
       "   {'fullName': {'evidences': [{'evidenceCode': 'ECO:0000305'}],\n",
       "     'value': 'Amyloid precursor protein'}},\n",
       "   {'fullName': {'evidences': [{'evidenceCode': 'ECO:0000250',\n",
       "       'source': 'UniProtKB',\n",
       "       'id': 'P12023'}],\n",
       "     'value': 'Amyloid-beta (A4) precursor protein'}},\n",
       "   {'fullName': {'value': 'Amyloid-beta A4 protein'}},\n",
       "   {'fullName': {'value': 'Cerebral vascular amyloid peptide'},\n",
       "    'shortNames': [{'value': 'CVAP'}]},\n",
       "   {'fullName': {'value': 'PreA4'}},\n",
       "   {'fullName': {'value': 'Protease nexin-II'},\n",
       "    'shortNames': [{'value': 'PN-II'}]}],\n",
       "  'contains': [{'recommendedName': {'fullName': {'value': 'N-APP'}}},\n",
       "   {'recommendedName': {'fullName': {'evidences': [{'evidenceCode': 'ECO:0000303',\n",
       "        'source': 'PubMed',\n",
       "        'id': '10656250'}],\n",
       "      'value': 'Soluble APP-alpha'},\n",
       "     'shortNames': [{'evidences': [{'evidenceCode': 'ECO:0000303',\n",
       "         'source': 'PubMed',\n",
       "         'id': '10656250'}],\n",
       "       'value': 'S-APP-alpha'}]}},\n",
       "   {'recommendedName': {'fullName': {'evidences': [{'evidenceCode': 'ECO:0000303',\n",
       "        'source': 'PubMed',\n",
       "        'id': '10656250'}],\n",
       "      'value': 'Soluble APP-beta'},\n",
       "     'shortNames': [{'evidences': [{'evidenceCode': 'ECO:0000303',\n",
       "         'source': 'PubMed',\n",
       "         'id': '10656250'}],\n",
       "       'value': 'S-APP-beta'}]}},\n",
       "   {'recommendedName': {'fullName': {'value': 'C99'}},\n",
       "    'alternativeNames': [{'fullName': {'evidences': [{'evidenceCode': 'ECO:0000303',\n",
       "         'source': 'PubMed',\n",
       "         'id': '10656250'}],\n",
       "       'value': 'Beta-secretase C-terminal fragment'},\n",
       "      'shortNames': [{'evidences': [{'evidenceCode': 'ECO:0000303',\n",
       "          'source': 'PubMed',\n",
       "          'id': '10656250'}],\n",
       "        'value': 'Beta-CTF'}]}]},\n",
       "   {'recommendedName': {'fullName': {'evidences': [{'evidenceCode': 'ECO:0000303',\n",
       "        'source': 'PubMed',\n",
       "        'id': '8886002'}],\n",
       "      'value': 'Amyloid-beta protein 42'},\n",
       "     'shortNames': [{'value': 'Abeta42'}]},\n",
       "    'alternativeNames': [{'fullName': {'value': 'Beta-APP42'}}]},\n",
       "   {'recommendedName': {'fullName': {'evidences': [{'evidenceCode': 'ECO:0000303',\n",
       "        'source': 'PubMed',\n",
       "        'id': '8886002'}],\n",
       "      'value': 'Amyloid-beta protein 40'},\n",
       "     'shortNames': [{'value': 'Abeta40'}]},\n",
       "    'alternativeNames': [{'fullName': {'value': 'Beta-APP40'}}]},\n",
       "   {'recommendedName': {'fullName': {'value': 'C83'}},\n",
       "    'alternativeNames': [{'fullName': {'evidences': [{'evidenceCode': 'ECO:0000303',\n",
       "         'source': 'PubMed',\n",
       "         'id': '10656250'}],\n",
       "       'value': 'Alpha-secretase C-terminal fragment'},\n",
       "      'shortNames': [{'evidences': [{'evidenceCode': 'ECO:0000303',\n",
       "          'source': 'PubMed',\n",
       "          'id': '10656250'}],\n",
       "        'value': 'Alpha-CTF'}]}]},\n",
       "   {'recommendedName': {'fullName': {'value': 'P3(42)'}}},\n",
       "   {'recommendedName': {'fullName': {'value': 'P3(40)'}}},\n",
       "   {'recommendedName': {'fullName': {'value': 'C80'}}},\n",
       "   {'recommendedName': {'fullName': {'value': 'Gamma-secretase C-terminal fragment 59'}},\n",
       "    'alternativeNames': [{'fullName': {'value': 'Amyloid intracellular domain 59'},\n",
       "      'shortNames': [{'value': 'AICD-59'}, {'value': 'AID(59)'}]},\n",
       "     {'fullName': {'value': 'Gamma-CTF(59)'}}]},\n",
       "   {'recommendedName': {'fullName': {'value': 'Gamma-secretase C-terminal fragment 57'}},\n",
       "    'alternativeNames': [{'fullName': {'value': 'Amyloid intracellular domain 57'},\n",
       "      'shortNames': [{'value': 'AICD-57'}, {'value': 'AID(57)'}]},\n",
       "     {'fullName': {'value': 'Gamma-CTF(57)'}}]},\n",
       "   {'recommendedName': {'fullName': {'value': 'Gamma-secretase C-terminal fragment 50'}},\n",
       "    'alternativeNames': [{'fullName': {'value': 'Amyloid intracellular domain 50'},\n",
       "      'shortNames': [{'value': 'AICD-50'}, {'value': 'AID(50)'}]},\n",
       "     {'fullName': {'value': 'Gamma-CTF(50)'}}]},\n",
       "   {'recommendedName': {'fullName': {'value': 'C31'}}}],\n",
       "  'flag': 'Precursor'},\n",
       " 'comments': [{'texts': [{'evidences': [{'evidenceCode': 'ECO:0000250'},\n",
       "      {'evidenceCode': 'ECO:0000250', 'source': 'UniProtKB', 'id': 'P12023'},\n",
       "      {'evidenceCode': 'ECO:0000269', 'source': 'PubMed', 'id': '17062754'},\n",
       "      {'evidenceCode': 'ECO:0000269', 'source': 'PubMed', 'id': '23011729'},\n",
       "      {'evidenceCode': 'ECO:0000269', 'source': 'PubMed', 'id': '25122912'}],\n",
       "     'value': 'Functions as a cell surface receptor and performs physiological functions on the surface of neurons relevant to neurite growth, neuronal adhesion and axonogenesis. Interaction between APP molecules on neighboring cells promotes synaptogenesis (PubMed:25122912). Involved in cell mobility and transcription regulation through protein-protein interactions. Can promote transcription activation through binding to APBB1-KAT5 and inhibits Notch signaling through interaction with Numb. Couples to apoptosis-inducing pathways such as those mediated by G(o) and JIP. Inhibits G(o) alpha ATPase activity (By similarity). Acts as a kinesin I membrane receptor, mediating the axonal transport of beta-secretase and presenilin 1 (By similarity). By acting as a kinesin I membrane receptor, plays a role in axonal anterograde transport of cargo towards synapses in axons (PubMed:17062754, PubMed:23011729). Involved in copper homeostasis/oxidative stress through copper ion reduction. In vitro, copper-metallated APP induces neuronal death directly or is potentiated through Cu(2+)-mediated low-density lipoprotein oxidation. Can regulate neurite outgrowth through binding to components of the extracellular matrix such as heparin and collagen I and IV. The splice isoforms that contain the BPTI domain possess protease inhibitor activity. Induces a AGER-dependent pathway that involves activation of p38 MAPK, resulting in internalization of amyloid-beta peptide and leading to mitochondrial dysfunction in cultured cortical neurons. Provides Cu(2+) ions for GPC1 which are required for release of nitric oxide (NO) and subsequent degradation of the heparan sulfate chains on GPC1'}],\n",
       "   'commentType': 'FUNCTION'},\n",
       "  {'texts': [{'value': 'Amyloid-beta peptides are lipophilic metal chelators with metal-reducing activity. Bind transient metals such as copper, zinc and iron. In vitro, can reduce Cu(2+) and Fe(3+) to Cu(+) and Fe(2+), respectively. Amyloid-beta peptides bind to lipoproteins and apolipoproteins E and J in the CSF and to HDL particles in plasma, inhibiting metal-catalyzed oxidation of lipoproteins. Promotes both tau aggregation and TPK II-mediated phosphorylation. Interaction with overexpressed HADH2 leads to oxidative stress and neurotoxicity. Also binds GPC1 in lipid rafts'}],\n",
       "   'commentType': 'FUNCTION'},\n",
       "  {'texts': [{'value': 'More effective reductant than amyloid-beta protein 40. May activate mononuclear phagocytes in the brain and elicit inflammatory responses'}],\n",
       "   'commentType': 'FUNCTION',\n",
       "   'molecule': 'Amyloid-beta protein 42'},\n",
       "  {'texts': [{'evidences': [{'evidenceCode': 'ECO:0000250'}],\n",
       "     'value': 'Appicans elicit adhesion of neural cells to the extracellular matrix and may regulate neurite outgrowth in the brain'}],\n",
       "   'commentType': 'FUNCTION'},\n",
       "  {'texts': [{'value': 'The gamma-CTF peptides as well as the caspase-cleaved peptides, including C31, are potent enhancers of neuronal apoptosis'}],\n",
       "   'commentType': 'FUNCTION'}],\n",
       " 'extraAttributes': {'uniParcId': 'UPI000002DB1C'}}"
      ]
     },
     "execution_count": 37,
     "metadata": {},
     "output_type": "execute_result"
    }
   ],
   "source": [
    "response.json()"
   ]
  },
  {
   "cell_type": "code",
   "execution_count": 38,
   "id": "adf5545f",
   "metadata": {},
   "outputs": [],
   "source": [
    "json_data = response.json()"
   ]
  },
  {
   "cell_type": "markdown",
   "id": "fe714172",
   "metadata": {},
   "source": [
    "The parsed JSON will be some combination of Python dictionaries and lists, depending on the structure of the JSON data. You can access the data using standard Python dictionary and list syntax."
   ]
  },
  {
   "cell_type": "code",
   "execution_count": 39,
   "id": "0ce7ff21",
   "metadata": {},
   "outputs": [
    {
     "data": {
      "text/plain": [
       "dict"
      ]
     },
     "execution_count": 39,
     "metadata": {},
     "output_type": "execute_result"
    }
   ],
   "source": [
    "type(json_data)"
   ]
  },
  {
   "cell_type": "code",
   "execution_count": 40,
   "id": "02dea61c",
   "metadata": {},
   "outputs": [
    {
     "data": {
      "text/plain": [
       "dict_keys(['entryType', 'primaryAccession', 'proteinDescription', 'comments', 'extraAttributes'])"
      ]
     },
     "execution_count": 40,
     "metadata": {},
     "output_type": "execute_result"
    }
   ],
   "source": [
    "json_data.keys()"
   ]
  },
  {
   "cell_type": "code",
   "execution_count": 41,
   "id": "d407efee",
   "metadata": {},
   "outputs": [
    {
     "data": {
      "text/plain": [
       "'P05067'"
      ]
     },
     "execution_count": 41,
     "metadata": {},
     "output_type": "execute_result"
    }
   ],
   "source": [
    "json_data[\"primaryAccession\"]"
   ]
  },
  {
   "cell_type": "code",
   "execution_count": 42,
   "id": "474e5e09",
   "metadata": {},
   "outputs": [
    {
     "data": {
      "text/plain": [
       "{'recommendedName': {'fullName': {'evidences': [{'evidenceCode': 'ECO:0000312',\n",
       "     'source': 'HGNC',\n",
       "     'id': 'HGNC:620'}],\n",
       "   'value': 'Amyloid-beta precursor protein'},\n",
       "  'shortNames': [{'evidences': [{'evidenceCode': 'ECO:0000312',\n",
       "      'source': 'HGNC',\n",
       "      'id': 'HGNC:620'}],\n",
       "    'value': 'APP'}]},\n",
       " 'alternativeNames': [{'fullName': {'value': 'ABPP'}},\n",
       "  {'fullName': {'value': 'APPI'}},\n",
       "  {'fullName': {'value': 'Alzheimer disease amyloid A4 protein homolog'}},\n",
       "  {'fullName': {'value': 'Alzheimer disease amyloid protein'}},\n",
       "  {'fullName': {'evidences': [{'evidenceCode': 'ECO:0000305'}],\n",
       "    'value': 'Amyloid precursor protein'}},\n",
       "  {'fullName': {'evidences': [{'evidenceCode': 'ECO:0000250',\n",
       "      'source': 'UniProtKB',\n",
       "      'id': 'P12023'}],\n",
       "    'value': 'Amyloid-beta (A4) precursor protein'}},\n",
       "  {'fullName': {'value': 'Amyloid-beta A4 protein'}},\n",
       "  {'fullName': {'value': 'Cerebral vascular amyloid peptide'},\n",
       "   'shortNames': [{'value': 'CVAP'}]},\n",
       "  {'fullName': {'value': 'PreA4'}},\n",
       "  {'fullName': {'value': 'Protease nexin-II'},\n",
       "   'shortNames': [{'value': 'PN-II'}]}],\n",
       " 'contains': [{'recommendedName': {'fullName': {'value': 'N-APP'}}},\n",
       "  {'recommendedName': {'fullName': {'evidences': [{'evidenceCode': 'ECO:0000303',\n",
       "       'source': 'PubMed',\n",
       "       'id': '10656250'}],\n",
       "     'value': 'Soluble APP-alpha'},\n",
       "    'shortNames': [{'evidences': [{'evidenceCode': 'ECO:0000303',\n",
       "        'source': 'PubMed',\n",
       "        'id': '10656250'}],\n",
       "      'value': 'S-APP-alpha'}]}},\n",
       "  {'recommendedName': {'fullName': {'evidences': [{'evidenceCode': 'ECO:0000303',\n",
       "       'source': 'PubMed',\n",
       "       'id': '10656250'}],\n",
       "     'value': 'Soluble APP-beta'},\n",
       "    'shortNames': [{'evidences': [{'evidenceCode': 'ECO:0000303',\n",
       "        'source': 'PubMed',\n",
       "        'id': '10656250'}],\n",
       "      'value': 'S-APP-beta'}]}},\n",
       "  {'recommendedName': {'fullName': {'value': 'C99'}},\n",
       "   'alternativeNames': [{'fullName': {'evidences': [{'evidenceCode': 'ECO:0000303',\n",
       "        'source': 'PubMed',\n",
       "        'id': '10656250'}],\n",
       "      'value': 'Beta-secretase C-terminal fragment'},\n",
       "     'shortNames': [{'evidences': [{'evidenceCode': 'ECO:0000303',\n",
       "         'source': 'PubMed',\n",
       "         'id': '10656250'}],\n",
       "       'value': 'Beta-CTF'}]}]},\n",
       "  {'recommendedName': {'fullName': {'evidences': [{'evidenceCode': 'ECO:0000303',\n",
       "       'source': 'PubMed',\n",
       "       'id': '8886002'}],\n",
       "     'value': 'Amyloid-beta protein 42'},\n",
       "    'shortNames': [{'value': 'Abeta42'}]},\n",
       "   'alternativeNames': [{'fullName': {'value': 'Beta-APP42'}}]},\n",
       "  {'recommendedName': {'fullName': {'evidences': [{'evidenceCode': 'ECO:0000303',\n",
       "       'source': 'PubMed',\n",
       "       'id': '8886002'}],\n",
       "     'value': 'Amyloid-beta protein 40'},\n",
       "    'shortNames': [{'value': 'Abeta40'}]},\n",
       "   'alternativeNames': [{'fullName': {'value': 'Beta-APP40'}}]},\n",
       "  {'recommendedName': {'fullName': {'value': 'C83'}},\n",
       "   'alternativeNames': [{'fullName': {'evidences': [{'evidenceCode': 'ECO:0000303',\n",
       "        'source': 'PubMed',\n",
       "        'id': '10656250'}],\n",
       "      'value': 'Alpha-secretase C-terminal fragment'},\n",
       "     'shortNames': [{'evidences': [{'evidenceCode': 'ECO:0000303',\n",
       "         'source': 'PubMed',\n",
       "         'id': '10656250'}],\n",
       "       'value': 'Alpha-CTF'}]}]},\n",
       "  {'recommendedName': {'fullName': {'value': 'P3(42)'}}},\n",
       "  {'recommendedName': {'fullName': {'value': 'P3(40)'}}},\n",
       "  {'recommendedName': {'fullName': {'value': 'C80'}}},\n",
       "  {'recommendedName': {'fullName': {'value': 'Gamma-secretase C-terminal fragment 59'}},\n",
       "   'alternativeNames': [{'fullName': {'value': 'Amyloid intracellular domain 59'},\n",
       "     'shortNames': [{'value': 'AICD-59'}, {'value': 'AID(59)'}]},\n",
       "    {'fullName': {'value': 'Gamma-CTF(59)'}}]},\n",
       "  {'recommendedName': {'fullName': {'value': 'Gamma-secretase C-terminal fragment 57'}},\n",
       "   'alternativeNames': [{'fullName': {'value': 'Amyloid intracellular domain 57'},\n",
       "     'shortNames': [{'value': 'AICD-57'}, {'value': 'AID(57)'}]},\n",
       "    {'fullName': {'value': 'Gamma-CTF(57)'}}]},\n",
       "  {'recommendedName': {'fullName': {'value': 'Gamma-secretase C-terminal fragment 50'}},\n",
       "   'alternativeNames': [{'fullName': {'value': 'Amyloid intracellular domain 50'},\n",
       "     'shortNames': [{'value': 'AICD-50'}, {'value': 'AID(50)'}]},\n",
       "    {'fullName': {'value': 'Gamma-CTF(50)'}}]},\n",
       "  {'recommendedName': {'fullName': {'value': 'C31'}}}],\n",
       " 'flag': 'Precursor'}"
      ]
     },
     "execution_count": 42,
     "metadata": {},
     "output_type": "execute_result"
    }
   ],
   "source": [
    "json_data[\"proteinDescription\"]"
   ]
  },
  {
   "cell_type": "code",
   "execution_count": 43,
   "id": "4b3b81f5",
   "metadata": {},
   "outputs": [
    {
     "data": {
      "text/plain": [
       "[{'fullName': {'value': 'ABPP'}},\n",
       " {'fullName': {'value': 'APPI'}},\n",
       " {'fullName': {'value': 'Alzheimer disease amyloid A4 protein homolog'}},\n",
       " {'fullName': {'value': 'Alzheimer disease amyloid protein'}},\n",
       " {'fullName': {'evidences': [{'evidenceCode': 'ECO:0000305'}],\n",
       "   'value': 'Amyloid precursor protein'}},\n",
       " {'fullName': {'evidences': [{'evidenceCode': 'ECO:0000250',\n",
       "     'source': 'UniProtKB',\n",
       "     'id': 'P12023'}],\n",
       "   'value': 'Amyloid-beta (A4) precursor protein'}},\n",
       " {'fullName': {'value': 'Amyloid-beta A4 protein'}},\n",
       " {'fullName': {'value': 'Cerebral vascular amyloid peptide'},\n",
       "  'shortNames': [{'value': 'CVAP'}]},\n",
       " {'fullName': {'value': 'PreA4'}},\n",
       " {'fullName': {'value': 'Protease nexin-II'},\n",
       "  'shortNames': [{'value': 'PN-II'}]}]"
      ]
     },
     "execution_count": 43,
     "metadata": {},
     "output_type": "execute_result"
    }
   ],
   "source": [
    "json_data['proteinDescription']['alternativeNames']"
   ]
  },
  {
   "cell_type": "markdown",
   "id": "3d2fdd11",
   "metadata": {},
   "source": [
    "# Advanced"
   ]
  },
  {
   "cell_type": "code",
   "execution_count": 44,
   "id": "e8fb61d9",
   "metadata": {},
   "outputs": [
    {
     "data": {
      "text/plain": [
       "{'Vary': 'accept,accept-encoding,x-uniprot-release,x-api-deployment-date, User-Agent', 'Cache-Control': 'public, max-age=43200', 'x-cache': 'hit cached', 'Content-Type': 'application/json', 'Content-Encoding': 'gzip', 'Access-Control-Allow-Credentials': 'true', 'Access-Control-Expose-Headers': 'Link, X-Total-Results, X-UniProt-Release, X-UniProt-Release-Date, X-API-Deployment-Date', 'X-API-Deployment-Date': '18-June-2025', 'Strict-Transport-Security': 'max-age=31536000; includeSubDomains', 'Date': 'Mon, 28 Jul 2025 13:20:28 GMT', 'Access-Control-Max-Age': '1728000', 'X-UniProt-Release': '2025_03', 'Access-Control-Allow-Origin': '*', 'Accept-Ranges': 'bytes', 'Connection': 'keep-alive', 'Access-Control-Allow-Methods': 'GET, PUT, POST, DELETE, PATCH, OPTIONS', 'Access-Control-Allow-Headers': 'DNT,Keep-Alive,User-Agent,X-Requested-With,If-Modified-Since,Cache-Control,Content-Type,Range,Authorization', 'Content-Length': '2006', 'X-UniProt-Release-Date': '18-June-2025'}"
      ]
     },
     "execution_count": 44,
     "metadata": {},
     "output_type": "execute_result"
    }
   ],
   "source": [
    "response.headers"
   ]
  },
  {
   "cell_type": "code",
   "execution_count": 45,
   "id": "a4572a2b",
   "metadata": {},
   "outputs": [
    {
     "data": {
      "text/plain": [
       "'gzip'"
      ]
     },
     "execution_count": 45,
     "metadata": {},
     "output_type": "execute_result"
    }
   ],
   "source": [
    "response.headers['Content-Encoding']"
   ]
  },
  {
   "cell_type": "code",
   "execution_count": 46,
   "id": "36057063",
   "metadata": {},
   "outputs": [
    {
     "data": {
      "text/plain": [
       "'gzip'"
      ]
     },
     "execution_count": 46,
     "metadata": {},
     "output_type": "execute_result"
    }
   ],
   "source": [
    "response.headers['Content-Encoding']"
   ]
  },
  {
   "cell_type": "code",
   "execution_count": 47,
   "id": "39cd2e88",
   "metadata": {},
   "outputs": [
    {
     "data": {
      "text/plain": [
       "b'\\x1f\\x8b\\x08\\x00\\x00\\x00\\x00\\x00\\x00\\xff\\xccX]\\x93\\xda\\xb8\\x12\\xfd+*\\x9e\\x98Z\\xc850\\x0c3\\xf3\\x06Lf\\xc2\\xcd\\x86P\\x9b\\xc9\\xbe\\xdc\\xca\\x83\\xb0\\x05V\\xadm\\xf9J2\\x0cI\\xe5\\xbf\\xefi\\xc96\\xcc\\x17\\x03s\\xb3\\xb9Im\\xb2X\\x96\\xd4\\xdd\\xa7O\\x9f\\x96\\xfc\\xad!2\\xab7\\xb7\\x9b\\\\4.\\x1b\\x9f39\\xd3\\xca\\xbe\\x1f1-VR\\xacE\\xc4\\x9a\\x9f\\xd6\\xd2\\x986\\r\\x9f4Z\\x8d\\\\\\xcb\\x94\\xeb\\xcd0\\x0c\\x851ReX4\\x0b\\xfa\\xc1\\xd9\\xc0\\xbdSV\\xc8\\xecJ\\x98P\\xcb\\xdc\\xba\\xb7\\xdf\\x1aZ\\x84*ME\\x16\\x89h\\xcaSAC\\x8b\"I\\xaa\\xdf\\xb0\\x13\\x89\\x0c\\xbb5.\\xff\\xb3}\\x1a\\xab\\x88\\xfcy;\\xfex\\x19\\xe0O\\xaf\\xd3\\xc5\\xfeF\\x15:\\xa4\\xe1w7\\xd31\\x9eeT\\xfe\\xbe<\\xeb\\x06\\x8d\\xef_Z\\x8d\\x15O\\n\\x9a0L7\\x89\\x92Q{.,g9<(\\xb4Q\\x9a\\x95\\x0e6\\xbec\\xafXiK>\\xdc\\xb7\\xfbc\\xbd\\x98\\xcd\\xf0\\x0cc<\\xb1Bg\\xdc\\xca\\x95\\xd8\\x9a\\xdc\\x05\\xa1^1\\xa2%\\xdf[\\xcf\\xbc\\x9d\\xcd&{\\xde&_c!S\\xa1Y$\\x8d\\xe0F0\\xeeQ`\\xc3\\xd3*r\\x16\\xabT%j\\xf9\\x9a]j\\xf0\\x1e.=\\x0c\\xbb\\xa0\\xffT\\x86\\x9eJ\\xce\\xab\\xf6\\xef\\xf6\\x83\\xdd\\xdc\\xd4D\\xae\\x124\\xebt\\x83n\\xefy\\x924\\x87\\xa7\\'\\x878\\xf3\\xe4\\xe2-\\xc0\\xcf/\\x18\\x0b-\\xe6\\x9a\\'l\\xc5MX$\\\\o\\x81\\x15\\xa8\\x15\\x04\\xf3\\x98\\x95\\xf5\\xda?\\x87\\x9eIOo=\\xd3bx\\xfa\\xbce\\x02\\xc2e2\\x13w2kO&{,\\xcd\\xa6\\xee\\xfd\\x17\\xc2)T\\x99\\xe52\\xf3\\x13^\\xa8\\xe2j\\xfd\\xb4\\xedH\\xef|\\xf9!\\x85\\x1f\\xf4v\\xd3:+\\xe6\\x1fDT\\xe5\\xb4\\x13\\x9c\\xf5\\xcf(\\xf1\\xbbY\\xfd\\xa4\\x92b\\x9e\\x08\\x06?\\xda<\\xc9c\\xfe\\xeaj?\\xdet{\\xc7\\xe8\\x97_\\x04\\x03\"\\xe8\\xcf\\x86\\xc0\\xdb<\\x08\\x81\\x9a\\xe2\\x17\\x17\\xc4\\xe0\\x97\\xa5\\xf2\\x1fr|\\x04\\x97\\xdbF\\x84\\x1a\\xffG\\xa9\\x8c\\xdbp#\\x95\\x19\\xeau\\xa1\\xf9\\x12\\xfe\\xdb\\x9f\\x07\\xa2\\xf3e|{\\xed\\xea\\xf0\\xa7\\xb0\\xe8\\xfc\\xfc\\xfc\\x0c\\x1a\\xba\\xaf\\x87\\xfa\\xfeq\\xda\\xdd#\\x1eC\\x9aJ3\\x8e\\xeay.Z\\xb0\\x86\\x16\\xfer\\xe1\\x06/\\x86\\x1b\\xbc6\\xdc\\xe0\\xc0p\\xeb\\n9\\xef\\xfd_+dH\\xba\\xf6\\xab\\x94\\x88w\\xe6\\x88\\x1a\\xa9\\x1b\\\\\\xafy\\xda=9\\xacC\\xed\\xae\\t\\x8e\\\\3>\\x0f\\x8e[p\\xc3\\xd3\\xf4\\x05xY\\xff@\\x8d|x\\xc8\\x928\\xe2\\xf3P$\\x89;wD*E[w\\x9b=\\xcf\\xed\\xc9\\xf8\\xaa\\xedf\\xec\\x8e]5\\xfb\\x17\\'{\\x0e\">\\x06d\\xc5\\xcf;*1\\x07\\xc5?\\xf8\\x91\\xf1\\x0f^\\x8c\\x7f\\xf08\\xfe\\xc1\\x81\\xf1\\x0f\\xfe\\x91\\xf8\\x83\\x1f\\x19\\xff^ms\\xf1\\x07\\x8f\\xe3\\x0f\\x0e\\x8c?86\\xfeq\\xafC\\x05\\x83\\x1a_$|\\xe9O\\xb5\\xfe0Nn\\xfa-\\xacw\\xd2\\x8a;{\\x84\\xbat\\xcb8\\xfe\\xc7\\x9b\\xc3\\x9e\\x1d\\xce.\\xf6\\xc8\\xd7 8\\xeb\\x0e\\xfa\\xa7\\xaf\\xde\\xa0\\xdb\\x0b:\\x9dA\\xf7\\xe2\\xf5\\x1b\\xf4;\\xdd\\xeeE\\xe7~\\xbb\\xbb.\\xb2\\x90n\\xe8\\x86q\\xfc\\xc7\\x88\\x1c\\xcc\\x14z\\x01\\x9a\\xe0\\xee\\x1f\\xe2J\\x82[\\x10\\xcf\\xe8v\\xa2\\x17J\\xa7\\x86\\xe5\\xf1\\x06\\x17~\\\\\\x1eeH\\x9c\\xac\\xd7\\xab\\x8c\\xd9X\\xd4\\x8b\\xd5\\x02\\xf7\\x8cB\\xd3\\x1b-\\x12\\xb1\\xe2\\xe0\\xadUnLZ\\xc1\\x96Z\\xadm\\xdc*\\xe7`#\\x1e\\xc5\\x82>$8c\\xfcNej)2\\x8c\\x987l\\x92\\x81\\xe7\\xdc\\x99a\\xe8\\xb5k!2:\\xd22\\\\aA\\x8dD8\\xdb\\x99\\x90\\xcbx\\xae\\xb4\\xcc\\x96.\\nC\\xcd;E\\xfb6\\xccl2\\x8e8\\xca\\xfdX\\xd3\\xc3rY\\xe1qB\\x16V*Y\\t\\xaa\\x10\\x0fA\\xaa\\xe62\\x91v\\xe3\\xbcA\\xd1d\\xf5\\xa7\\x0cD\\xb3D\\xf9\\xb8\\x9f6\\xd6\\xaaX\\xc6\\xd51\\xa1]\\x1d\\x17\\xe4\\xd6a\\xb8?\\xe6Y\\xe5\\xcb\\x83\\xadh\\xca\\xea\\xfeVs\\x99E\\x14\\x02\\xa0\\x1a\\xceF\\xa3N\\xfb\\xfd\\xf0\\xb6\\xef\\xbc\\x90Y,\\xe7\\xd2\\x1a6U6\\x8c\\x99\\x91K\\xc0\\xe6\\xa6\\x96Kw\\xac\\xb2\\xb5\\xb41\\x9b\\x16\\xe9\\x1c\\xe6U\\x91\\x13F\\xd8\\x91\\xe7\\n8\\x00\\x836\\xac\\x14!-\\xce\\xb9\\x8d\\xd7|\\x03\\x90\\nl\\n\\x0e\\xd8XAuR\\x11In\\x01\\xc8|\\xc3n\\x9a\\xea\\xc4y\\xf0\\xef\\xc9\\x8c\\xa0*\\xdd\\xf0\\xc3\\xd4\\x7f\\xd9\\xf0v\\xe6\\xbe\\x10P8\\x04Zs\\xb4\\x81\\x7f\\xa9\\x84\\xca\\xe0\\x11\\xf8\\x0eC[\\x12\\xec/II\\xc8\\xd8\\x04&R\\xdc\\x83\\xb3-\\xcdZ\\xa5U\\x1f\\x93p$\\x001\\x1cd9\\xd4\\x89(5\\xbf\\x7f<w\\xc4\\xd4\\xc2\\x88\\x0c\\xd9\\xcaX\\xe7\\xb1e<\\x93[\\xd8\\xf2e\\xf3yB@p\\xa6\\xc1+bB\\xe9\\x00\\'\\\\\\xd5R\\xf3H\\xdcw&\\xe4z\\xa9\\x80\\xeb\\x9a\\xeb\\xa8d\\x99\\x01\\xd0\\xe5\\xca-\\xd1\\xaa\\xd2o\\xb1\\x8aye)?d\\x9e\\xcaQe\\xf4mF(\\x83\\xf8\\xa4\\xf9\\x97\\xba\\x93\\x91\\x13xf,\\xe24u\\xb2\\xcb\\xb9\\x9e\\x90\\xc8%e\\x9dvcH\\x80V\\xad\\xf2};\\x05NI\\xe22I\\x15\\xe3\\xd2\\x0e\\x17\\xeb\\xaa\\x8b\\x04\\xf2\\xcf\"\\t\\x10l\\xb2a\\xa8u\\x14H\\x0e\\xa6f\\xd6\\xe7\\xbf\\xb27.\\x9a\\xdd\\xdfN\\xda5/\\x12\\xb5nC\\x81\\x0c\\xa5;\\x91\\xe0UI\\xfd\\xd2ar\\x86x_\\x16\\x8b\\xa8\\xeb^\\x15\\xd6\\x97\\xfeS\\x8c\\x87\\xba\\xe7*#}\\'x\\x89\\x03P\\xf8\\x9d\\x8e\\x95r\\xab\\xe5]M\\xd5X\\xe4H\\xb3W\\x8cP!LT82K\\x8f\\x93?\\xdf\\xb0[R\\xa3<\\x91\\x10#i\\x94\\x17/\\x1bs\\xcb\\xca\\x0f\\x1a\\xce\\xc0hv;\\xa9:a\\xae\\x8c!\\x8c\\xf3\\xeaCIYr\\xa4\\x80%\\xb5\\tb\\x0f!X\\x7f\\xf3\\xf6\\x0f`\\x90SK\\x83\\xb8\\x95\\x95\\xe4MH\\x9fV\\xb3[\\xe2\\x08)\\xef\\x9d\\xb3\\x0f\\xc3\\xd9\\xfb\\x16\\x801E\\xe2xY\\xe9\\x05U\\xf3\\xd7z&\\xbfw\\r\\xf1_\\x86\\\\d\\x89\\xe0\\x15\\\\)\\\\\\x0bc\\x95EZR*7\\xa6\\x12cG&l_\\x80\\x1a\\x88V[\\'\\xd5\\xa5\\x1c\\xbfa\\xe8k\\xd4>L\\x99T\\xe6\\xe4\\x1b\\xf8\\xb0\\x9b\\xd9\\xb8\\xc3\\xd6\\xb1$x5U\\xc6\\x7f\\x0bI[\\xd0;\\x12q\\xc2\\x84t\\x1d\\x14\\x93\\xa1K\\xb5`\\xcd\\xe9G\\xaf\\x0e\\xa6\\x98\\x1b, (\"A\\xd5R\\xc7B8\\xbb\\\\\\x81\\x10\\x88zA|\\x08c\\xfa\\xa4D\\xc2MF\\x1b\\xfe;\\x93\\xeb\\xed\\xe5\\'\\xe8\\xeb\\xcf\\xd3\\xf1\\xed\\xe4\\xe3\\xd4\\xb5\\xbbm\\xa7\\x7f\\xfa\\x9a\\xe6\\xf11\\xcek\\xc7\\xc6\\x18z\\x102\\xc7~\\x98\\x12\\xa0\\xa0\\xd2\\xc6\\xab\\xa2\\x1bl\\xbb\\xa2q\\xb2Pgv$+\\xad\\x97\\x14\\x84\\x9b\\xb7\\xd5E_P-\\xf6Uf\\xa1\\xd7c\\xfd\\xa0\\xe2xY\\x8a\\xa2\\xc2\\x95f]\\x8bf\\x0f?\\x91-\\x0cn\\xc7\\xf0\\xdaq \\x17d^$0\\xfftDs\\xe7\\x94\\xda\\xad1\\xe3[d\\xae\\xee\\x8d\\xbd\\xf5\\x12\\xcdJ^\\x8f?]\\xfb\\xde\\xa5\\xd8\\xbb\\xab\\xdfAN\"A\\xe2\\xd5\\t:gR\\xde\\xaa\\xe8M(xPB\\x8e\\x7f7_\\x91\\xf1\\xba\\x8c)\\x7f\\xbbv\\x1c{|[\\x9d+\\xaab^0\\xbe\\\\\\xa2\\xce\\xfdt\\xb2y;{\\xcf&\\x93\\xadV\\xe4h)\\xf8\\xab7\\t\\xafd\\xeaA\\xa7R+\\xa1\\xc5\\x1d)\\xb9\\xc1\\xfcw\\xc3\\xabw]Gt\\xd7\\xb5\\x1ei \\xd9pd\\xb6x\\x15\\xba\\xdc\\r\\x13\\xa3\\x1cV\\xc6\\x93\\x18Q\\xc2k\\x1cy5_\\x809G\\xd3\\xeb\\x83\\x02\\x93\\xc4b\\xe1\\xd3SJ\\xac;\\xc2\\xc4H3\\x7f\\xfa\\x1b\\xc1\\x1b\\xf6\\x81o\\xaa\\x8aG\\x0f\\xc5\\x19&+\\x00:\\x94\\x0b]r\\xa9\\xc2\\x8d\\xf5\\t\\xa0\\x04\\xa1\\xf9\\x94\\xd2%\\x12\\n\\x02\\xe38\\xf0\\xe2\\xdc\\x0c\\xa6n\\x1c5P\\x95b\\xaf\\xeb\\xadFu\\x02\\xda\\xfb\\x99\\xe6u\\x07\\xe5\\xddKv\\x9eC@\\xc0\\xb1\\xd2\\xd3\\xfa\\xa8V\\x9e\\xf1\\xa8\\xc6\\xdc\\x89\\x0b\\xc9zV\\xb4)\\xd2\\x94o\\xf6u\\x84]d\\x8eO\\x19\\xc9\\xfd\\xb2\\xbax\\xecH\\x02\\xca\\x9eNt\\xeeh\\x03\\xdd\\xe1&\\x87\\x8c\\xb5)-\\xd4v\\xabyT\\raR8i\\xc5\\x15\\xa4\\xe5\\xa4\\xc47B&2$=\\x14\\xdal\\x0f\\xb5t,\\xa8\\x0eS{]\\xc5+\\x07\\xc7\\xd0\\x02\\x85ya\\t\\xf9o\\x8d\\x02\\x97\\x0b\\xae\\xc3\\t\\x1d\\xcb?\\xcf&\\x81C\\xfdj\\xd4\\x19\\xe3\\xea\\xf37\\x00\\x00\\x00\\xff\\xff\\x03\\x00\\x97\\x7f4\\xfa\\x8a\\x1b\\x00\\x00'"
      ]
     },
     "execution_count": 47,
     "metadata": {},
     "output_type": "execute_result"
    }
   ],
   "source": [
    "url = 'https://rest.uniprot.org/uniprotkb/P05067?fields=accession%2Cprotein_name%2Ccc_function'\n",
    "response = requests.get(url, stream=True)\n",
    "raw_response = response.raw.read(decode_content=False)\n",
    "raw_response"
   ]
  },
  {
   "cell_type": "code",
   "execution_count": 48,
   "id": "1174eb1f",
   "metadata": {},
   "outputs": [
    {
     "data": {
      "text/plain": [
       "'{\"entryType\":\"UniProtKB reviewed (Swiss-Prot)\",\"primaryAccession\":\"P05067\",\"proteinDescription\":{\"recommendedName\":{\"fullName\":{\"evidences\":[{\"evidenceCode\":\"ECO:0000312\",\"source\":\"HGNC\",\"id\":\"HGNC:620\"}],\"value\":\"Amyloid-beta precursor protein\"},\"shortNames\":[{\"evidences\":[{\"evidenceCode\":\"ECO:0000312\",\"source\":\"HGNC\",\"id\":\"HGNC:620\"}],\"value\":\"APP\"}]},\"alternativeNames\":[{\"fullName\":{\"value\":\"ABPP\"}},{\"fullName\":{\"value\":\"APPI\"}},{\"fullName\":{\"value\":\"Alzheimer disease amyloid A4 protein homolog\"}},{\"fullName\":{\"value\":\"Alzheimer disease amyloid protein\"}},{\"fullName\":{\"evidences\":[{\"evidenceCode\":\"ECO:0000305\"}],\"value\":\"Amyloid precursor protein\"}},{\"fullName\":{\"evidences\":[{\"evidenceCode\":\"ECO:0000250\",\"source\":\"UniProtKB\",\"id\":\"P12023\"}],\"value\":\"Amyloid-beta (A4) precursor protein\"}},{\"fullName\":{\"value\":\"Amyloid-beta A4 protein\"}},{\"fullName\":{\"value\":\"Cerebral vascular amyloid peptide\"},\"shortNames\":[{\"value\":\"CVAP\"}]},{\"fullName\":{\"value\":\"PreA4\"}},{\"fullName\":{\"value\":\"Protease nexin-II\"},\"shortNames\":[{\"value\":\"PN-II\"}]}],\"contains\":[{\"recommendedName\":{\"fullName\":{\"value\":\"N-APP\"}}},{\"recommendedName\":{\"fullName\":{\"evidences\":[{\"evidenceCode\":\"ECO:0000303\",\"source\":\"PubMed\",\"id\":\"10656250\"}],\"value\":\"Soluble APP-alpha\"},\"shortNames\":[{\"evidences\":[{\"evidenceCode\":\"ECO:0000303\",\"source\":\"PubMed\",\"id\":\"10656250\"}],\"value\":\"S-APP-alpha\"}]}},{\"recommendedName\":{\"fullName\":{\"evidences\":[{\"evidenceCode\":\"ECO:0000303\",\"source\":\"PubMed\",\"id\":\"10656250\"}],\"value\":\"Soluble APP-beta\"},\"shortNames\":[{\"evidences\":[{\"evidenceCode\":\"ECO:0000303\",\"source\":\"PubMed\",\"id\":\"10656250\"}],\"value\":\"S-APP-beta\"}]}},{\"recommendedName\":{\"fullName\":{\"value\":\"C99\"}},\"alternativeNames\":[{\"fullName\":{\"evidences\":[{\"evidenceCode\":\"ECO:0000303\",\"source\":\"PubMed\",\"id\":\"10656250\"}],\"value\":\"Beta-secretase C-terminal fragment\"},\"shortNames\":[{\"evidences\":[{\"evidenceCode\":\"ECO:0000303\",\"source\":\"PubMed\",\"id\":\"10656250\"}],\"value\":\"Beta-CTF\"}]}]},{\"recommendedName\":{\"fullName\":{\"evidences\":[{\"evidenceCode\":\"ECO:0000303\",\"source\":\"PubMed\",\"id\":\"8886002\"}],\"value\":\"Amyloid-beta protein 42\"},\"shortNames\":[{\"value\":\"Abeta42\"}]},\"alternativeNames\":[{\"fullName\":{\"value\":\"Beta-APP42\"}}]},{\"recommendedName\":{\"fullName\":{\"evidences\":[{\"evidenceCode\":\"ECO:0000303\",\"source\":\"PubMed\",\"id\":\"8886002\"}],\"value\":\"Amyloid-beta protein 40\"},\"shortNames\":[{\"value\":\"Abeta40\"}]},\"alternativeNames\":[{\"fullName\":{\"value\":\"Beta-APP40\"}}]},{\"recommendedName\":{\"fullName\":{\"value\":\"C83\"}},\"alternativeNames\":[{\"fullName\":{\"evidences\":[{\"evidenceCode\":\"ECO:0000303\",\"source\":\"PubMed\",\"id\":\"10656250\"}],\"value\":\"Alpha-secretase C-terminal fragment\"},\"shortNames\":[{\"evidences\":[{\"evidenceCode\":\"ECO:0000303\",\"source\":\"PubMed\",\"id\":\"10656250\"}],\"value\":\"Alpha-CTF\"}]}]},{\"recommendedName\":{\"fullName\":{\"value\":\"P3(42)\"}}},{\"recommendedName\":{\"fullName\":{\"value\":\"P3(40)\"}}},{\"recommendedName\":{\"fullName\":{\"value\":\"C80\"}}},{\"recommendedName\":{\"fullName\":{\"value\":\"Gamma-secretase C-terminal fragment 59\"}},\"alternativeNames\":[{\"fullName\":{\"value\":\"Amyloid intracellular domain 59\"},\"shortNames\":[{\"value\":\"AICD-59\"},{\"value\":\"AID(59)\"}]},{\"fullName\":{\"value\":\"Gamma-CTF(59)\"}}]},{\"recommendedName\":{\"fullName\":{\"value\":\"Gamma-secretase C-terminal fragment 57\"}},\"alternativeNames\":[{\"fullName\":{\"value\":\"Amyloid intracellular domain 57\"},\"shortNames\":[{\"value\":\"AICD-57\"},{\"value\":\"AID(57)\"}]},{\"fullName\":{\"value\":\"Gamma-CTF(57)\"}}]},{\"recommendedName\":{\"fullName\":{\"value\":\"Gamma-secretase C-terminal fragment 50\"}},\"alternativeNames\":[{\"fullName\":{\"value\":\"Amyloid intracellular domain 50\"},\"shortNames\":[{\"value\":\"AICD-50\"},{\"value\":\"AID(50)\"}]},{\"fullName\":{\"value\":\"Gamma-CTF(50)\"}}]},{\"recommendedName\":{\"fullName\":{\"value\":\"C31\"}}}],\"flag\":\"Precursor\"},\"comments\":[{\"texts\":[{\"evidences\":[{\"evidenceCode\":\"ECO:0000250\"},{\"evidenceCode\":\"ECO:0000250\",\"source\":\"UniProtKB\",\"id\":\"P12023\"},{\"evidenceCode\":\"ECO:0000269\",\"source\":\"PubMed\",\"id\":\"17062754\"},{\"evidenceCode\":\"ECO:0000269\",\"source\":\"PubMed\",\"id\":\"23011729\"},{\"evidenceCode\":\"ECO:0000269\",\"source\":\"PubMed\",\"id\":\"25122912\"}],\"value\":\"Functions as a cell surface receptor and performs physiological functions on the surface of neurons relevant to neurite growth, neuronal adhesion and axonogenesis. Interaction between APP molecules on neighboring cells promotes synaptogenesis (PubMed:25122912). Involved in cell mobility and transcription regulation through protein-protein interactions. Can promote transcription activation through binding to APBB1-KAT5 and inhibits Notch signaling through interaction with Numb. Couples to apoptosis-inducing pathways such as those mediated by G(o) and JIP. Inhibits G(o) alpha ATPase activity (By similarity). Acts as a kinesin I membrane receptor, mediating the axonal transport of beta-secretase and presenilin 1 (By similarity). By acting as a kinesin I membrane receptor, plays a role in axonal anterograde transport of cargo towards synapses in axons (PubMed:17062754, PubMed:23011729). Involved in copper homeostasis/oxidative stress through copper ion reduction. In vitro, copper-metallated APP induces neuronal death directly or is potentiated through Cu(2+)-mediated low-density lipoprotein oxidation. Can regulate neurite outgrowth through binding to components of the extracellular matrix such as heparin and collagen I and IV. The splice isoforms that contain the BPTI domain possess protease inhibitor activity. Induces a AGER-dependent pathway that involves activation of p38 MAPK, resulting in internalization of amyloid-beta peptide and leading to mitochondrial dysfunction in cultured cortical neurons. Provides Cu(2+) ions for GPC1 which are required for release of nitric oxide (NO) and subsequent degradation of the heparan sulfate chains on GPC1\"}],\"commentType\":\"FUNCTION\"},{\"texts\":[{\"value\":\"Amyloid-beta peptides are lipophilic metal chelators with metal-reducing activity. Bind transient metals such as copper, zinc and iron. In vitro, can reduce Cu(2+) and Fe(3+) to Cu(+) and Fe(2+), respectively. Amyloid-beta peptides bind to lipoproteins and apolipoproteins E and J in the CSF and to HDL particles in plasma, inhibiting metal-catalyzed oxidation of lipoproteins. Promotes both tau aggregation and TPK II-mediated phosphorylation. Interaction with overexpressed HADH2 leads to oxidative stress and neurotoxicity. Also binds GPC1 in lipid rafts\"}],\"commentType\":\"FUNCTION\"},{\"texts\":[{\"value\":\"More effective reductant than amyloid-beta protein 40. May activate mononuclear phagocytes in the brain and elicit inflammatory responses\"}],\"commentType\":\"FUNCTION\",\"molecule\":\"Amyloid-beta protein 42\"},{\"texts\":[{\"evidences\":[{\"evidenceCode\":\"ECO:0000250\"}],\"value\":\"Appicans elicit adhesion of neural cells to the extracellular matrix and may regulate neurite outgrowth in the brain\"}],\"commentType\":\"FUNCTION\"},{\"texts\":[{\"value\":\"The gamma-CTF peptides as well as the caspase-cleaved peptides, including C31, are potent enhancers of neuronal apoptosis\"}],\"commentType\":\"FUNCTION\"}],\"extraAttributes\":{\"uniParcId\":\"UPI000002DB1C\"}}'"
      ]
     },
     "execution_count": 48,
     "metadata": {},
     "output_type": "execute_result"
    }
   ],
   "source": [
    "import gzip\n",
    "\n",
    "gzip.decompress(raw_response).decode()"
   ]
  },
  {
   "cell_type": "code",
   "execution_count": 49,
   "id": "de7f4018",
   "metadata": {},
   "outputs": [
    {
     "data": {
      "text/plain": [
       "{'entryType': 'UniProtKB reviewed (Swiss-Prot)',\n",
       " 'primaryAccession': 'P05067',\n",
       " 'proteinDescription': {'recommendedName': {'fullName': {'evidences': [{'evidenceCode': 'ECO:0000312',\n",
       "      'source': 'HGNC',\n",
       "      'id': 'HGNC:620'}],\n",
       "    'value': 'Amyloid-beta precursor protein'},\n",
       "   'shortNames': [{'evidences': [{'evidenceCode': 'ECO:0000312',\n",
       "       'source': 'HGNC',\n",
       "       'id': 'HGNC:620'}],\n",
       "     'value': 'APP'}]},\n",
       "  'alternativeNames': [{'fullName': {'value': 'ABPP'}},\n",
       "   {'fullName': {'value': 'APPI'}},\n",
       "   {'fullName': {'value': 'Alzheimer disease amyloid A4 protein homolog'}},\n",
       "   {'fullName': {'value': 'Alzheimer disease amyloid protein'}},\n",
       "   {'fullName': {'evidences': [{'evidenceCode': 'ECO:0000305'}],\n",
       "     'value': 'Amyloid precursor protein'}},\n",
       "   {'fullName': {'evidences': [{'evidenceCode': 'ECO:0000250',\n",
       "       'source': 'UniProtKB',\n",
       "       'id': 'P12023'}],\n",
       "     'value': 'Amyloid-beta (A4) precursor protein'}},\n",
       "   {'fullName': {'value': 'Amyloid-beta A4 protein'}},\n",
       "   {'fullName': {'value': 'Cerebral vascular amyloid peptide'},\n",
       "    'shortNames': [{'value': 'CVAP'}]},\n",
       "   {'fullName': {'value': 'PreA4'}},\n",
       "   {'fullName': {'value': 'Protease nexin-II'},\n",
       "    'shortNames': [{'value': 'PN-II'}]}],\n",
       "  'contains': [{'recommendedName': {'fullName': {'value': 'N-APP'}}},\n",
       "   {'recommendedName': {'fullName': {'evidences': [{'evidenceCode': 'ECO:0000303',\n",
       "        'source': 'PubMed',\n",
       "        'id': '10656250'}],\n",
       "      'value': 'Soluble APP-alpha'},\n",
       "     'shortNames': [{'evidences': [{'evidenceCode': 'ECO:0000303',\n",
       "         'source': 'PubMed',\n",
       "         'id': '10656250'}],\n",
       "       'value': 'S-APP-alpha'}]}},\n",
       "   {'recommendedName': {'fullName': {'evidences': [{'evidenceCode': 'ECO:0000303',\n",
       "        'source': 'PubMed',\n",
       "        'id': '10656250'}],\n",
       "      'value': 'Soluble APP-beta'},\n",
       "     'shortNames': [{'evidences': [{'evidenceCode': 'ECO:0000303',\n",
       "         'source': 'PubMed',\n",
       "         'id': '10656250'}],\n",
       "       'value': 'S-APP-beta'}]}},\n",
       "   {'recommendedName': {'fullName': {'value': 'C99'}},\n",
       "    'alternativeNames': [{'fullName': {'evidences': [{'evidenceCode': 'ECO:0000303',\n",
       "         'source': 'PubMed',\n",
       "         'id': '10656250'}],\n",
       "       'value': 'Beta-secretase C-terminal fragment'},\n",
       "      'shortNames': [{'evidences': [{'evidenceCode': 'ECO:0000303',\n",
       "          'source': 'PubMed',\n",
       "          'id': '10656250'}],\n",
       "        'value': 'Beta-CTF'}]}]},\n",
       "   {'recommendedName': {'fullName': {'evidences': [{'evidenceCode': 'ECO:0000303',\n",
       "        'source': 'PubMed',\n",
       "        'id': '8886002'}],\n",
       "      'value': 'Amyloid-beta protein 42'},\n",
       "     'shortNames': [{'value': 'Abeta42'}]},\n",
       "    'alternativeNames': [{'fullName': {'value': 'Beta-APP42'}}]},\n",
       "   {'recommendedName': {'fullName': {'evidences': [{'evidenceCode': 'ECO:0000303',\n",
       "        'source': 'PubMed',\n",
       "        'id': '8886002'}],\n",
       "      'value': 'Amyloid-beta protein 40'},\n",
       "     'shortNames': [{'value': 'Abeta40'}]},\n",
       "    'alternativeNames': [{'fullName': {'value': 'Beta-APP40'}}]},\n",
       "   {'recommendedName': {'fullName': {'value': 'C83'}},\n",
       "    'alternativeNames': [{'fullName': {'evidences': [{'evidenceCode': 'ECO:0000303',\n",
       "         'source': 'PubMed',\n",
       "         'id': '10656250'}],\n",
       "       'value': 'Alpha-secretase C-terminal fragment'},\n",
       "      'shortNames': [{'evidences': [{'evidenceCode': 'ECO:0000303',\n",
       "          'source': 'PubMed',\n",
       "          'id': '10656250'}],\n",
       "        'value': 'Alpha-CTF'}]}]},\n",
       "   {'recommendedName': {'fullName': {'value': 'P3(42)'}}},\n",
       "   {'recommendedName': {'fullName': {'value': 'P3(40)'}}},\n",
       "   {'recommendedName': {'fullName': {'value': 'C80'}}},\n",
       "   {'recommendedName': {'fullName': {'value': 'Gamma-secretase C-terminal fragment 59'}},\n",
       "    'alternativeNames': [{'fullName': {'value': 'Amyloid intracellular domain 59'},\n",
       "      'shortNames': [{'value': 'AICD-59'}, {'value': 'AID(59)'}]},\n",
       "     {'fullName': {'value': 'Gamma-CTF(59)'}}]},\n",
       "   {'recommendedName': {'fullName': {'value': 'Gamma-secretase C-terminal fragment 57'}},\n",
       "    'alternativeNames': [{'fullName': {'value': 'Amyloid intracellular domain 57'},\n",
       "      'shortNames': [{'value': 'AICD-57'}, {'value': 'AID(57)'}]},\n",
       "     {'fullName': {'value': 'Gamma-CTF(57)'}}]},\n",
       "   {'recommendedName': {'fullName': {'value': 'Gamma-secretase C-terminal fragment 50'}},\n",
       "    'alternativeNames': [{'fullName': {'value': 'Amyloid intracellular domain 50'},\n",
       "      'shortNames': [{'value': 'AICD-50'}, {'value': 'AID(50)'}]},\n",
       "     {'fullName': {'value': 'Gamma-CTF(50)'}}]},\n",
       "   {'recommendedName': {'fullName': {'value': 'C31'}}}],\n",
       "  'flag': 'Precursor'},\n",
       " 'comments': [{'texts': [{'evidences': [{'evidenceCode': 'ECO:0000250'},\n",
       "      {'evidenceCode': 'ECO:0000250', 'source': 'UniProtKB', 'id': 'P12023'},\n",
       "      {'evidenceCode': 'ECO:0000269', 'source': 'PubMed', 'id': '17062754'},\n",
       "      {'evidenceCode': 'ECO:0000269', 'source': 'PubMed', 'id': '23011729'},\n",
       "      {'evidenceCode': 'ECO:0000269', 'source': 'PubMed', 'id': '25122912'}],\n",
       "     'value': 'Functions as a cell surface receptor and performs physiological functions on the surface of neurons relevant to neurite growth, neuronal adhesion and axonogenesis. Interaction between APP molecules on neighboring cells promotes synaptogenesis (PubMed:25122912). Involved in cell mobility and transcription regulation through protein-protein interactions. Can promote transcription activation through binding to APBB1-KAT5 and inhibits Notch signaling through interaction with Numb. Couples to apoptosis-inducing pathways such as those mediated by G(o) and JIP. Inhibits G(o) alpha ATPase activity (By similarity). Acts as a kinesin I membrane receptor, mediating the axonal transport of beta-secretase and presenilin 1 (By similarity). By acting as a kinesin I membrane receptor, plays a role in axonal anterograde transport of cargo towards synapses in axons (PubMed:17062754, PubMed:23011729). Involved in copper homeostasis/oxidative stress through copper ion reduction. In vitro, copper-metallated APP induces neuronal death directly or is potentiated through Cu(2+)-mediated low-density lipoprotein oxidation. Can regulate neurite outgrowth through binding to components of the extracellular matrix such as heparin and collagen I and IV. The splice isoforms that contain the BPTI domain possess protease inhibitor activity. Induces a AGER-dependent pathway that involves activation of p38 MAPK, resulting in internalization of amyloid-beta peptide and leading to mitochondrial dysfunction in cultured cortical neurons. Provides Cu(2+) ions for GPC1 which are required for release of nitric oxide (NO) and subsequent degradation of the heparan sulfate chains on GPC1'}],\n",
       "   'commentType': 'FUNCTION'},\n",
       "  {'texts': [{'value': 'Amyloid-beta peptides are lipophilic metal chelators with metal-reducing activity. Bind transient metals such as copper, zinc and iron. In vitro, can reduce Cu(2+) and Fe(3+) to Cu(+) and Fe(2+), respectively. Amyloid-beta peptides bind to lipoproteins and apolipoproteins E and J in the CSF and to HDL particles in plasma, inhibiting metal-catalyzed oxidation of lipoproteins. Promotes both tau aggregation and TPK II-mediated phosphorylation. Interaction with overexpressed HADH2 leads to oxidative stress and neurotoxicity. Also binds GPC1 in lipid rafts'}],\n",
       "   'commentType': 'FUNCTION'},\n",
       "  {'texts': [{'value': 'More effective reductant than amyloid-beta protein 40. May activate mononuclear phagocytes in the brain and elicit inflammatory responses'}],\n",
       "   'commentType': 'FUNCTION',\n",
       "   'molecule': 'Amyloid-beta protein 42'},\n",
       "  {'texts': [{'evidences': [{'evidenceCode': 'ECO:0000250'}],\n",
       "     'value': 'Appicans elicit adhesion of neural cells to the extracellular matrix and may regulate neurite outgrowth in the brain'}],\n",
       "   'commentType': 'FUNCTION'},\n",
       "  {'texts': [{'value': 'The gamma-CTF peptides as well as the caspase-cleaved peptides, including C31, are potent enhancers of neuronal apoptosis'}],\n",
       "   'commentType': 'FUNCTION'}],\n",
       " 'extraAttributes': {'uniParcId': 'UPI000002DB1C'}}"
      ]
     },
     "execution_count": 49,
     "metadata": {},
     "output_type": "execute_result"
    }
   ],
   "source": [
    "import json \n",
    "json.loads(gzip.decompress(raw_response).decode('utf-8'))"
   ]
  }
 ],
 "metadata": {
  "kernelspec": {
   "display_name": "default",
   "language": "python",
   "name": "python3"
  },
  "language_info": {
   "codemirror_mode": {
    "name": "ipython",
    "version": 3
   },
   "file_extension": ".py",
   "mimetype": "text/x-python",
   "name": "python",
   "nbconvert_exporter": "python",
   "pygments_lexer": "ipython3",
   "version": "3.12.11"
  }
 },
 "nbformat": 4,
 "nbformat_minor": 5
}
