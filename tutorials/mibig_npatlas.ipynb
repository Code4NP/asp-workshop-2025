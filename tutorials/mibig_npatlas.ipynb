{
 "cells": [
  {
   "cell_type": "code",
   "execution_count": null,
   "id": "3dacf70c",
   "metadata": {},
   "outputs": [],
   "source": [
    "import requests\n",
    "import json\n",
    "from rich import inspect"
   ]
  },
  {
   "cell_type": "code",
   "execution_count": null,
   "id": "f74b08d7",
   "metadata": {},
   "outputs": [],
   "source": [
    "\n",
    "with requests.get(\"https://mibig.secondarymetabolites.org/repository/BGC0001792.5/annotations.json\") as r:\n",
    "    bgc_data = r.json()\n"
   ]
  },
  {
   "cell_type": "code",
   "execution_count": null,
   "id": "f81befad",
   "metadata": {},
   "outputs": [],
   "source": [
    "bgc_data"
   ]
  },
  {
   "cell_type": "code",
   "execution_count": null,
   "id": "356ddad9",
   "metadata": {},
   "outputs": [],
   "source": [
    "inspect(bgc_data['compounds'])"
   ]
  },
  {
   "cell_type": "code",
   "execution_count": null,
   "id": "05aec1b5",
   "metadata": {},
   "outputs": [],
   "source": [
    "surugamide_smiles_string = [i for i in bgc_data['compounds'] if i['name'] == 'surugamide A'][0]['structure']\n",
    "print(surugamide_smiles_string)"
   ]
  },
  {
   "cell_type": "code",
   "execution_count": null,
   "id": "43466529",
   "metadata": {},
   "outputs": [],
   "source": [
    "def get_compound_smiles(bgc_id):\n",
    "    with requests.get(f\"https://mibig.secondarymetabolites.org/repository/{bgc_id}/annotations.json\") as r:\n",
    "        bgc_data = r.json()\n",
    "    # assumes there is only one structure with a given name\n",
    "    # if there are multiple, this will only return the first one\n",
    "    compound_smiles = {compound['name']: compound['structure'] for compound in bgc_data['compounds']}\n",
    "    return compound_smiles"
   ]
  },
  {
   "cell_type": "code",
   "execution_count": null,
   "id": "ef7185d5",
   "metadata": {},
   "outputs": [],
   "source": [
    "bgc_id = \"BGC0001792.5\"\n",
    "smiles_dict = get_compound_smiles(bgc_id)\n",
    "print(smiles_dict)"
   ]
  },
  {
   "cell_type": "markdown",
   "id": "2db2c4ac",
   "metadata": {},
   "source": [
    "# Search NP Atlas for a compound\n",
    "\n",
    "\n",
    "https://www.npatlas.org/api/v1/docs\n",
    "\n",
    "\n",
    "> Developers and other researchers are free to download all the data in the Atlas from the Download page and use them for any research purpose, provided that this falls within the requirements of the **Creative Commons Attribution-Noncommercial 4.0 International license**.\n",
    "\n",
    "> Note: This API is rate limitted to 20 requests per minute. If you require higher bandwidth, please contact us (support@npatlas.org), and we can provide an APIkey which dramatically increases this limit.\n",
    "\n"
   ]
  },
  {
   "cell_type": "code",
   "execution_count": null,
   "id": "934ff51f",
   "metadata": {},
   "outputs": [],
   "source": [
    "# Get the SMILES string for Surugamide A using the dictionary from above\n",
    "surugamide_smiles_string = smiles_dict.get(\"surugamide A\")"
   ]
  },
  {
   "cell_type": "code",
   "execution_count": null,
   "id": "0d1dc190",
   "metadata": {},
   "outputs": [],
   "source": [
    "\n",
    "# Define full endpoint URL\n",
    "url = \"https://www.npatlas.org/api/v1/compounds/structureSearch\"\n",
    "\n",
    "# Query parameters must be in the URL for this endpoint\n",
    "query_params = {\n",
    "    \"structure\": surugamide_smiles_string,\n",
    "    \"type\": \"smiles\",\n",
    "    \"method\": \"full\",\n",
    "    \"threshold\": 0.8,\n",
    "    \"skip\": 0,\n",
    "    \"limit\": 10,\n",
    "    \"stereo\": \"false\"\n",
    "}\n",
    "\n",
    "headers = {\n",
    "    \"Content-Type\": \"application/json\",\n",
    "    \"Accept\": \"application/json\"\n",
    "}\n",
    "\n",
    "# Send POST request with query parameters in URL, empty JSON body\n",
    "response = requests.post(url, headers=headers, params=query_params, json={})\n",
    "\n",
    "# Parse JSON response\n",
    "if response.status_code == 200:\n",
    "    data = response.json()\n"
   ]
  },
  {
   "cell_type": "code",
   "execution_count": null,
   "id": "b978b3b0",
   "metadata": {},
   "outputs": [],
   "source": [
    "print(json.dumps(data, indent=2))"
   ]
  },
  {
   "cell_type": "markdown",
   "id": "880ee42d",
   "metadata": {},
   "source": [
    "But that doesn't have all the info!\n",
    "\n",
    "To get that we have to use another API call, using the `id` from the first call to get more details about the specific compound."
   ]
  },
  {
   "cell_type": "code",
   "execution_count": 29,
   "id": "e2d5319b",
   "metadata": {},
   "outputs": [],
   "source": [
    "surugamide_npatlas_id = data[0]['npaid']\n",
    "\n",
    "# Define full endpoint URL\n",
    "url = f\"https://www.npatlas.org/api/v1/compound/{surugamide_npatlas_id}\"\n",
    "\n",
    "response = requests.get(url)\n",
    "# Parse JSON response\n",
    "if response.status_code == 200:\n",
    "    data2 = response.json()\n"
   ]
  },
  {
   "cell_type": "code",
   "execution_count": 30,
   "id": "1c7ddb36",
   "metadata": {},
   "outputs": [
    {
     "name": "stdout",
     "output_type": "stream",
     "text": [
      "{\n",
      "  \"id\": 5450,\n",
      "  \"npaid\": \"NPA005450\",\n",
      "  \"original_name\": \"Surugamide A\",\n",
      "  \"mol_formula\": \"C48H81N9O8\",\n",
      "  \"mol_weight\": \"912.2310\",\n",
      "  \"exact_mass\": \"911.6208\",\n",
      "  \"inchikey\": \"NPYICXUUGUJPMM-QIUOYRCFSA-N\",\n",
      "  \"smiles\": \"CC[C@H](C)[C@H]1C(=O)N[C@@H](C(=O)N[C@H](C(=O)N[C@H](C(=O)N[C@@H](C(=O)N[C@@H](C(=O)N[C@H](C(=O)N[C@@H](C(=O)N1)C)[C@@H](C)CC)CC(C)C)CC2=CC=CC=C2)[C@@H](C)CC)CCCCN)[C@@H](C)CC\",\n",
      "  \"cluster_id\": 26,\n",
      "  \"node_id\": 25,\n",
      "  \"has_exclusions\": false,\n",
      "  \"synonyms\": [],\n",
      "  \"inchi\": \"InChI=1S/C48H81N9O8/c1-12-28(7)37-45(62)50-32(11)41(58)54-40(31(10)15-4)48(65)57-39(30(9)14-3)46(63)51-34(23-19-20-24-49)42(59)55-38(29(8)13-2)47(64)53-36(26-33-21-17-16-18-22-33)43(60)52-35(25-27(5)6)44(61)56-37/h16-18,21-22,27-32,34-40H,12-15,19-20,23-26,49H2,1-11H3,(H,50,62)(H,51,63)(H,52,60)(H,53,64)(H,54,58)(H,55,59)(H,56,61)(H,57,65)/t28-,29-,30-,31-,32+,34-,35+,36+,37-,38-,39+,40-/m0/s1\",\n",
      "  \"m_plus_h\": \"912.6281\",\n",
      "  \"m_plus_na\": \"934.6100\",\n",
      "  \"origin_reference\": {\n",
      "    \"doi\": \"10.1021/jo400708u\",\n",
      "    \"pmid\": 23745669,\n",
      "    \"authors\": \"Takada, Kentaro; Ninomiya, Akihiro; Naruse, Masato; Sun, Yi; Miyazaki, Masayuki; Nogi, Yuichi; Okada, Shigeru; Matsunaga, Shigeki\",\n",
      "    \"title\": \"Surugamides A-E, cyclic octapeptides with four D-amino acid residues, from a marine streptomyces sp.: LC-MS-aided inspection of partial hydrolysates for the distinction of D- and L-amino acid residues in the sequence\",\n",
      "    \"journal\": \"Journal of Organic Chemistry\",\n",
      "    \"year\": 2013,\n",
      "    \"volume\": \"78\",\n",
      "    \"issue\": \"13\",\n",
      "    \"pages\": \"6746-6750\"\n",
      "  },\n",
      "  \"origin_organism\": {\n",
      "    \"id\": 3898,\n",
      "    \"type\": \"Bacterium\",\n",
      "    \"genus\": \"Streptomyces\",\n",
      "    \"species\": \"sp.\",\n",
      "    \"taxon\": {\n",
      "      \"id\": 283,\n",
      "      \"name\": \"Streptomyces\",\n",
      "      \"rank\": \"genus\",\n",
      "      \"taxon_db\": \"lpsn\",\n",
      "      \"external_id\": \"517119\",\n",
      "      \"ncbi_id\": 1883,\n",
      "      \"ancestors\": [\n",
      "        {\n",
      "          \"id\": 1,\n",
      "          \"name\": \"Bacteria\",\n",
      "          \"rank\": \"domain\",\n",
      "          \"taxon_db\": \"lpsn\",\n",
      "          \"external_id\": \"0\",\n",
      "          \"ncbi_id\": 2\n",
      "        },\n",
      "        {\n",
      "          \"id\": 203,\n",
      "          \"name\": \"Actinobacteria\",\n",
      "          \"rank\": \"phylum\",\n",
      "          \"taxon_db\": \"lpsn\",\n",
      "          \"external_id\": \"0\",\n",
      "          \"ncbi_id\": 201174\n",
      "        },\n",
      "        {\n",
      "          \"id\": 204,\n",
      "          \"name\": \"Actinobacteria\",\n",
      "          \"rank\": \"class\",\n",
      "          \"taxon_db\": \"lpsn\",\n",
      "          \"external_id\": \"0\",\n",
      "          \"ncbi_id\": null\n",
      "        },\n",
      "        {\n",
      "          \"id\": 275,\n",
      "          \"name\": \"Streptomycetales\",\n",
      "          \"rank\": \"order\",\n",
      "          \"taxon_db\": \"lpsn\",\n",
      "          \"external_id\": \"0\",\n",
      "          \"ncbi_id\": 85011\n",
      "        },\n",
      "        {\n",
      "          \"id\": 276,\n",
      "          \"name\": \"Streptomycetaceae\",\n",
      "          \"rank\": \"family\",\n",
      "          \"taxon_db\": \"lpsn\",\n",
      "          \"external_id\": \"0\",\n",
      "          \"ncbi_id\": 2062\n",
      "        }\n",
      "      ]\n",
      "    }\n",
      "  },\n",
      "  \"syntheses\": [],\n",
      "  \"reassignments\": [],\n",
      "  \"mol_structures\": [\n",
      "    {\n",
      "      \"current_structure\": true,\n",
      "      \"reference_doi\": \"10.1021/jo400708u\",\n",
      "      \"structure_smiles\": \"CC[C@H](C)[C@H]1C(=O)N[C@@H](C(=O)N[C@H](C(=O)N[C@H](C(=O)N[C@@H](C(=O)N[C@@H](C(=O)N[C@H](C(=O)N[C@@H](C(=O)N1)C)[C@@H](C)CC)CC(C)C)CC2=CC=CC=C2)[C@@H](C)CC)CCCCN)[C@@H](C)CC\",\n",
      "      \"is_reassignment\": false,\n",
      "      \"version\": 1\n",
      "    }\n",
      "  ],\n",
      "  \"exclusions\": [],\n",
      "  \"external_ids\": [\n",
      "    {\n",
      "      \"external_db_name\": \"mibig\",\n",
      "      \"external_db_code\": \"BGC0001792\"\n",
      "    },\n",
      "    {\n",
      "      \"external_db_name\": \"gnps\",\n",
      "      \"external_db_code\": \"CCMSLIB00000839206%3%Dereplicator&Identification&-&E'Surugamide_A'\"\n",
      "    },\n",
      "    {\n",
      "      \"external_db_name\": \"gnps\",\n",
      "      \"external_db_code\": \"CCMSLIB00012161430%Suspect related to Surugamide A (predicted molecular formula SIRIUS: C39H79N19O7 / BUDDY: C48H87N5O12) with delta m/z 14.016 (putative explanation: Asn->Gln substitution|Asp->Glu substitution|Gly->Ala substitution|Methylation|Ser->Thr substitution|Val->Leu/Ile substitution|chain elongation; atomic difference: 1C,2H|1C,2H|1C,2H|1C,2H|1C,2H|1C,2H|1C,2H) [M+H]+%4\"\n",
      "    },\n",
      "    {\n",
      "      \"external_db_name\": \"gnps\",\n",
      "      \"external_db_code\": \"CCMSLIB00000579271%1%Surugamide&A\"\n",
      "    },\n",
      "    {\n",
      "      \"external_db_name\": \"gnps\",\n",
      "      \"external_db_code\": \"CCMSLIB00010001223%Suspect related to Surugamide A (predicted molecular formula: C42H75N17O5) with delta m/z -14.016 (putative explanation: Ala->Gly substitution|Gln->Asn substitution|Glu->Asp substitution|Leu/Ile->Val substitution|Thr->Ser substitution; atomic difference: -1C,-2H|-1C,-2H|-1C,-2H|-1C,-2H|-1C,-2H)%4\"\n",
      "    },\n",
      "    {\n",
      "      \"external_db_name\": \"gnps\",\n",
      "      \"external_db_code\": \"CCMSLIB00010001227%Suspect related to Surugamide A (predicted molecular formula: C39H79N19O7) with delta m/z 14.016 (putative explanation: Asn->Gln substitution|Asp->Glu substitution|Gly->Ala substitution|Methylation|Ser->Thr substitution|Val->Leu/Ile substitution|chain elongation; atomic difference: 1C,2H|1C,2H|1C,2H|1C,2H|1C,2H|1C,2H|1C,2H)%4\"\n",
      "    },\n",
      "    {\n",
      "      \"external_db_name\": \"gnps\",\n",
      "      \"external_db_code\": \"CCMSLIB00012161426%Suspect related to Surugamide A (predicted molecular formula SIRIUS: C42H75N17O5 / BUDDY: C46H83N5O12) with delta m/z -14.016 (putative explanation: Ala->Gly substitution|Gln->Asn substitution|Glu->Asp substitution|Leu/Ile->Val substitution|Thr->Ser substitution; atomic difference: -1C,-2H|-1C,-2H|-1C,-2H|-1C,-2H|-1C,-2H) [M+H]+%4\"\n",
      "    },\n",
      "    {\n",
      "      \"external_db_name\": \"npmrd\",\n",
      "      \"external_db_code\": \"NP0011813\"\n",
      "    }\n",
      "  ]\n",
      "}\n"
     ]
    }
   ],
   "source": [
    "print(json.dumps(data2, indent=2))"
   ]
  },
  {
   "cell_type": "code",
   "execution_count": null,
   "id": "c2a5b8b6",
   "metadata": {},
   "outputs": [],
   "source": [
    "for i in data2['external_ids']:\n",
    "    print(i)"
   ]
  },
  {
   "cell_type": "code",
   "execution_count": null,
   "id": "e3a03a3e",
   "metadata": {},
   "outputs": [],
   "source": [
    "import re\n",
    "\n",
    "external_ids = []\n",
    "\n",
    "# clean up and decode external IDs\n",
    "for entry in data2['external_ids']:\n",
    "    match = re.search(r'CCMSLIB\\d+', entry['external_db_code'])\n",
    "    if match:\n",
    "        # Extract the matched part\n",
    "        id = match.group(0)\n",
    "    else:\n",
    "        # If no match, use the original code\n",
    "        id = entry['external_db_code']\n",
    "    external_ids.append({\n",
    "        'external_db_name': entry['external_db_name'],\n",
    "        'external_db_code': id})\n",
    "        \n",
    "        "
   ]
  },
  {
   "cell_type": "code",
   "execution_count": null,
   "id": "d26636ff",
   "metadata": {},
   "outputs": [],
   "source": [
    "external_ids"
   ]
  },
  {
   "cell_type": "code",
   "execution_count": null,
   "id": "dcb21f85",
   "metadata": {},
   "outputs": [],
   "source": [
    "https://fasst.gnps2.org/search?library=gnpslibrary&usi=mzspec:GNPS:GNPS-LIBRARY:accession:CCMSLIB00000839206"
   ]
  },
  {
   "cell_type": "markdown",
   "id": "23bb9aca",
   "metadata": {},
   "source": [
    "https://fasst.gnps2.org/fastsearch/?library_select=gnpslibrary&usi1=mzspec:GNPS:GNPS-LIBRARY:accession:CCMSLIB00000839206\n",
    "\n",
    "\n",
    "https://fasst.gnps2.org/search?library=gnpslibrary&usi=mzspec:GNPS:GNPS-LIBRARY:accession:CCMSLIB00000839206&cosine_threshold=0.5&lower_delta=0&upper_delta=1000&analog=yes"
   ]
  },
  {
   "cell_type": "code",
   "execution_count": null,
   "id": "5283e2f8",
   "metadata": {},
   "outputs": [],
   "source": [
    "https://structure.gnps2.org/structuresimilarity?smiles1=<smiles string>&smiles2=<smiles string>"
   ]
  }
 ],
 "metadata": {
  "kernelspec": {
   "display_name": "py312",
   "language": "python",
   "name": "python3"
  },
  "language_info": {
   "codemirror_mode": {
    "name": "ipython",
    "version": 3
   },
   "file_extension": ".py",
   "mimetype": "text/x-python",
   "name": "python",
   "nbconvert_exporter": "python",
   "pygments_lexer": "ipython3",
   "version": "3.12.8"
  }
 },
 "nbformat": 4,
 "nbformat_minor": 5
}
